{
 "cells": [
  {
   "cell_type": "markdown",
   "metadata": {},
   "source": [
    "# Entregável 3 de Visão Computacional e Robótica\n"
   ]
  },
  {
   "cell_type": "markdown",
   "metadata": {},
   "source": [
    "Entrega até 12/03 ao fim do atendimento"
   ]
  },
  {
   "cell_type": "markdown",
   "metadata": {},
   "source": [
    "Pode ser feito **em trios**"
   ]
  },
  {
   "cell_type": "markdown",
   "metadata": {},
   "source": [
    "Nesta semana vamos trabalhar com um assunto extremamente atual: reconhecimento de objetos e rastreamento\n"
   ]
  },
  {
   "cell_type": "markdown",
   "metadata": {},
   "source": [
    "Referências:"
   ]
  },
  {
   "cell_type": "markdown",
   "metadata": {},
   "source": [
    "[https://www.pyimagesearch.com/2018/07/30/opencv-object-tracking/](https://www.pyimagesearch.com/2018/07/30/opencv-object-tracking/)\n",
    "\n",
    "[https://github.com/iArunava/YOLOv3-Object-Detection-with-OpenCV/](https://github.com/iArunava/YOLOv3-Object-Detection-with-OpenCV/)\n",
    "\n",
    "[https://www.pyimagesearch.com/2017/09/11/object-detection-with-deep-learning-and-opencv/](https://www.pyimagesearch.com/2017/09/11/object-detection-with-deep-learning-and-opencv/)"
   ]
  },
  {
   "cell_type": "markdown",
   "metadata": {},
   "source": [
    "Ouça a explicacão do professor sobre rastreamento e deteção"
   ]
  },
  {
   "cell_type": "markdown",
   "metadata": {},
   "source": [
    "### 1. Ponto de fuga"
   ]
  },
  {
   "cell_type": "markdown",
   "metadata": {},
   "source": [
    "Robôs que trabalham dentro de prédios precisam saber seguir corredores.\n",
    "\n",
    "Uma das maneiras de fazer isso é o robô alinhar o centro de sua câmera ao ponto de fuga do corredor, para que sua trajetória seja aproximadamente paralela às paredes do mesmo.\n",
    "\n",
    "\n",
    "O ponto de fuga é aquele para o qual as retas paralelas parecem convergir\n",
    "\n",
    "Dada a seguinte imagem de um corredor:\n",
    "\n",
    "![Imagem do corredor](ponto_fuga.png)\n",
    "\n",
    "Podemos traçar as linhas geradas pela perspectiva, seu ponto de encontro será o ponto de fuga.\n",
    "\n",
    "\n",
    "\n",
    "### Revisão: reta passando por dois pontos\n",
    "\n",
    "![Encontro de duas retas](retas.png)\n",
    "\n",
    "\n",
    "Seja o ponto $A:(a_x, a_y)$ e o ponto $B:(b_x, b_y)$\n",
    "\n",
    "Queremos encontrar uma reta $r: y = mx + h$ que passa por $A$ e $B$, em que $m$ é o *coeficiente angular* e $h$ é o intercepto ou coeficiente linear da reta.\n",
    "\n",
    "Temos que:\n",
    "\n",
    "$m = \\frac{\\Delta_y}{\\Delta_x} = \\frac{b_y - a_y}{b_x - a_x}$\n",
    "\n",
    "Uma vez encontrado o valor de $m$, a substituição a seguir permite encontrar a equação da reta:\n",
    "\n",
    "$m = \\frac{y - a_y}{x - a_x}$\n",
    "\n",
    "$mx - ma_x = y - a_y$\n",
    "\n",
    "$mx = y - a_y + ma_x$\n",
    "\n",
    "$y = mx -ma_x + a_y$\n",
    "\n",
    "$h = a_y - ma_x$\n",
    "\n",
    "\n",
    "$y = mx - ma_x + a_y$\n",
    "\n",
    "### Interseção de duas retas\n",
    "\n",
    "Temos que na interseção as duas retas se encontram num ponto $(x_i, y_i)$\n",
    "\n",
    "Sejam as retas $r1: y = m1x + h1$ e $r2: y = m2x + h2$\n",
    "\n",
    "Vamos encontrar o ponto $x_i$ em que os valores de $y_i$ serão iguais:\n",
    "\n",
    "$m1x_i + h1 = m2x_i + h2$\n",
    "\n",
    "$(m1 - m2)x_i = h2 - h1$\n",
    "\n",
    "$x_i = \\frac{h2 - h1}{m1 - m2}$\n",
    "\n",
    "$y_i = m1x_i + h1$\n",
    "\n",
    "**Dados de teste:**\n",
    "\n",
    "Caso precise testar seu código, você pode conferir com estes valores. As retas definidas por pontos $r1: (P_1, P_2)$ e $r2: (Q_1, Q_2)$, para os valores:\n",
    "\n",
    "```python\n",
    "\n",
    "p1 = (3.0, 2.5)\n",
    "p2 = (4.0, 0.6)\n",
    "q1 = (1.0, 2.4)\n",
    "q2 = (0.6, 1.1)\n",
    "```\n",
    "\n",
    "Encontram-se no ponto `(1.7572 4.8611)`\n",
    "\n",
    "\n",
    "Pede-se: \n",
    "\n",
    "* A partir do ponto para onde convergem as linhas do corredor, marque o ponto de fuga no vídeo.  Você precisa mostrar as retas que vão convergir.\n",
    "\n",
    "\n",
    "**Sugestão:** \n",
    "\n",
    "A partir do coeficiente angular, selecionar uma reta mais à esquerda e uma mais à direita para encontrar a interseção.\n",
    "\n",
    "Lembre-se de que na OpenCV o eixo y fica **para baixo**, por isso os coeficientes angulares se comportam como na figura abaixo:\n",
    "\n",
    "![Valores de coeficiente angular](coeficientes_m.png)\n",
    "\n",
    "Lembre-se de que, no espaço de cores HSV, o vermelho se encontra no início e no fim da escala do componente H. Se você estiver filtrando vermelho em um só dos extremos pode não ter bons resultados"
   ]
  },
  {
   "cell_type": "markdown",
   "metadata": {},
   "source": [
    "Vídeos para teste:\n",
    "\n",
    "\n",
    "[Vídeo 1](https://www.dropbox.com/s/pgm2zghifdyqjeb/VID_20200302_063445951.mp4?dl=0)\n",
    "\n",
    "[Vídeo 2](https://www.dropbox.com/s/g64xcpx6zl1tac1/VID_20200302_063554327.mp4?dl=0)\n",
    "\n",
    "[Vídeo 3](https://www.dropbox.com/s/0qa2culfrf4qpge/VID_20200302_063719050.mp4?dl=0)"
   ]
  },
  {
   "cell_type": "markdown",
   "metadata": {},
   "source": [
    "### 2. Executar os dois exemplos\n",
    "\n",
    "Há três exemplos: `mobilenet_detection`, `yolov3_detection` e `tracking`.\n",
    "\n",
    "Os dois primeiros são reconhecedores de objetos, e o último é de rastreamento.\n",
    "\n",
    "\n",
    "Um dos arquivos abaixo precisa ser baixado e salvo nas pasta  `yolov3_detection/yolov3-coco` .\n",
    "\n",
    "[https://www.dropbox.com/s/013ogt2bhwfzxwb/yolov3.weights?dl=0](https://www.dropbox.com/s/013ogt2bhwfzxwb/yolov3.weights?dl=0) ou [https://pjreddie.com/media/files/yolov3.weights](https://pjreddie.com/media/files/yolov3.weights)\n",
    "\n",
    "*Atenção:* Vamos rodar a Yolo só por importância \"histórica\"\n",
    "\n",
    "Depois de rodar o demos, estude o notebook  [Demo_Imagenet.ipynb](Demo_Imagenet.ipynb)"
   ]
  },
  {
   "cell_type": "markdown",
   "metadata": {},
   "source": [
    "## 3. Identificar objeto"
   ]
  },
  {
   "cell_type": "markdown",
   "metadata": {},
   "source": [
    "Use o projeto `mobilenet_detection` para basear seu código. \n",
    "\n",
    "Neste projeto, escolha uma categoria de objetos que o reconhecedor reconhece. Diga aqui qual foi sua escolha"
   ]
  },
  {
   "cell_type": "markdown",
   "metadata": {},
   "source": [
    "Implemente a seguinte funcionalidade: sempre que o objeto identificado em (2) estiver presente por mais que 5 frames seguidos, desenhe um retângulo fixo ao redor dele. "
   ]
  },
  {
   "cell_type": "markdown",
   "metadata": {},
   "source": [
    "## 4. Simulador"
   ]
  },
  {
   "cell_type": "markdown",
   "metadata": {},
   "source": [
    " Rode o simulador do Turtlebot (use o Waffle).  Veja o guia em [../guides/simulador_ros.md](https://github.com/Insper/robot20/blob/master/guides/simulador_ros.md)\n",
    " \n",
    " Documente aqui as linhas necessárias para teleop e para abrir o Rviz\n",
    " \n",
    " Faça um screenshot do seu simulação em execução"
   ]
  },
  {
   "cell_type": "markdown",
   "metadata": {},
   "source": [
    "## 5. Robô quadrado"
   ]
  },
  {
   "cell_type": "markdown",
   "metadata": {},
   "source": [
    "Faça [este tutorial](../guides/projeto_rospython.md) de como criar um projeto Python que comanda o robô simulado.\n",
    "\n",
    "Usando o simulador, crie um código que faça o robô fazer uma trajetória que aproxima um quadrado.\n",
    "\n",
    "Baseie-se no código `roda.py`, construído durante o tutorial "
   ]
  },
  {
   "cell_type": "markdown",
   "metadata": {},
   "source": [
    "## 6. Robô indeciso"
   ]
  },
  {
   "cell_type": "markdown",
   "metadata": {},
   "source": [
    "Usando o simulador e o LIDAR simulado, faça um robô avançar quando o obstáculo bem à sua frente estiver a menos de 1.0m e recuar quando estiver a mais de 1.02 m.\n",
    "\n",
    "Baseie-se no código `le_scan.py` e `roda.py`, desenvolvidos [durante o tutorial](https://github.com/Insper/robot20/blob/master/guides/projeto_rospython.md)"
   ]
  },
  {
   "cell_type": "code",
   "execution_count": null,
   "metadata": {},
   "outputs": [],
   "source": []
  }
 ],
 "metadata": {
  "kernelspec": {
   "display_name": "Python 3",
   "language": "python",
   "name": "python3"
  },
  "language_info": {
   "codemirror_mode": {
    "name": "ipython",
    "version": 3
   },
   "file_extension": ".py",
   "mimetype": "text/x-python",
   "name": "python",
   "nbconvert_exporter": "python",
   "pygments_lexer": "ipython3",
   "version": "3.8.1"
  }
 },
 "nbformat": 4,
 "nbformat_minor": 4
}
