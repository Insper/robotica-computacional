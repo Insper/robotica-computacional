{
 "cells": [
  {
   "cell_type": "code",
   "execution_count": 1,
   "id": "preceding-headquarters",
   "metadata": {},
   "outputs": [],
   "source": [
    "import numpy as np\n",
    "import cv2\n",
    "import matplotlib.pyplot as plt\n",
    "\n",
    "def crosshair(img, point, size, color):\n",
    "    \"\"\" Desenha um crosshair centrado no point.\n",
    "        point deve ser uma tupla (x,y)\n",
    "        color é uma tupla R,G,B uint8\n",
    "    \"\"\"\n",
    "    x,y = point\n",
    "    cv2.line(img,(x - size,y),(x + size,y),color,3)\n",
    "    cv2.line(img,(x,y - size),(x, y + size),color,3)"
   ]
  },
  {
   "cell_type": "markdown",
   "id": "purple-celtic",
   "metadata": {},
   "source": [
    "# Exemplo de regressão linear em Python\n",
    "\n",
    "## Geração dos dados"
   ]
  },
  {
   "cell_type": "code",
   "execution_count": 2,
   "id": "complimentary-three",
   "metadata": {},
   "outputs": [],
   "source": [
    "background = np.zeros((400, 550, 3), dtype=np.uint8)"
   ]
  },
  {
   "cell_type": "code",
   "execution_count": 3,
   "id": "specified-significance",
   "metadata": {
    "tags": []
   },
   "outputs": [],
   "source": [
    "y = np.array([ 80., 110., 140., 170., 200., 230., 260., 290., 320., 350., 380.,\n",
    "       410., 440., 470., 500.,50.])"
   ]
  },
  {
   "cell_type": "code",
   "execution_count": 4,
   "id": "coordinate-oliver",
   "metadata": {},
   "outputs": [],
   "source": [
    "x = np.array([ 85.24603233,  59.52537694, 107.62039995,  95.39742991,\n",
    "       132.8058387 , 199.00438625, 164.55620588, 146.17661588,\n",
    "       166.31341531, 235.31630925, 194.29305358, 253.19297823,\n",
    "       275.80559933, 260.10415532, 313.52093501, 400.])"
   ]
  },
  {
   "cell_type": "code",
   "execution_count": 5,
   "id": "passing-recording",
   "metadata": {
    "tags": []
   },
   "outputs": [],
   "source": [
    "def plot_points(x,y, img, color=(0,255,0)): \n",
    "    for i in range(x.shape[0]):\n",
    "        crosshair(img, (int(x[i]),int(y[i])), size=5, color=color)\n",
    "    plt.imshow(img)"
   ]
  },
  {
   "cell_type": "code",
   "execution_count": 6,
   "id": "endangered-mentor",
   "metadata": {},
   "outputs": [
    {
     "data": {
      "image/png": "[encoded data removed]",
      "text/plain": [
       "<Figure size 432x288 with 1 Axes>"
      ]
     },
     "metadata": {
      "needs_background": "light"
     },
     "output_type": "display_data"
    }
   ],
   "source": [
    "plot_points(x,y,background)"
   ]
  },
  {
   "cell_type": "markdown",
   "id": "tough-charger",
   "metadata": {},
   "source": [
    "## Regressão linear com Scikit-Learn"
   ]
  },
  {
   "cell_type": "markdown",
   "id": "lonely-elite",
   "metadata": {},
   "source": [
    "A regressão linear clássica tem a seguinte suposição:\n",
    "\n",
    "$y = \\beta_0 + \\beta_1 x + \\epsilon$, em que $\\epsilon \\sim N(0, \\sigma)$ \n",
    "\n",
    "Ou seja: os valores de $y$ dependem linearmente de $x$ com um pequeno erro $\\epsilon$\n",
    "\n",
    "Mas como vamos classificar linhas quase *verticais* não podemos usar a regressão convencional. É mais produtivo escrever **x** em função de **y**\n",
    "\n",
    "$x = \\beta_0 + \\beta_1 y + \\epsilon$, em que $\\epsilon \\sim N(0, \\sigma)$ \n"
   ]
  },
  {
   "cell_type": "code",
   "execution_count": 7,
   "id": "detailed-reasoning",
   "metadata": {},
   "outputs": [
    {
     "data": {
      "text/plain": [
       "LinearRegression()"
      ]
     },
     "execution_count": 7,
     "metadata": {},
     "output_type": "execute_result"
    }
   ],
   "source": [
    "from sklearn import linear_model\n",
    "reg = linear_model.LinearRegression()\n",
    "\n",
    "yr = y.reshape(-1,1) # Entradas do modelo\n",
    "xr = x.reshape(-1,) # saídas do modelo\n",
    "\n",
    "reg.fit(yr,xr)"
   ]
  },
  {
   "cell_type": "code",
   "execution_count": 8,
   "id": "starting-consultation",
   "metadata": {},
   "outputs": [],
   "source": [
    "coef_angular, coef_linear = reg.coef_, reg.intercept_"
   ]
  },
  {
   "cell_type": "markdown",
   "id": "saved-neighbor",
   "metadata": {},
   "source": [
    "Função encontrada"
   ]
  },
  {
   "cell_type": "code",
   "execution_count": 9,
   "id": "related-chemistry",
   "metadata": {},
   "outputs": [],
   "source": [
    "def f(y):\n",
    "    x = coef_angular*y + coef_linear\n",
    "    return x"
   ]
  },
  {
   "cell_type": "markdown",
   "id": "animated-canal",
   "metadata": {},
   "source": [
    "Encontrando os pontos da reta para plot"
   ]
  },
  {
   "cell_type": "code",
   "execution_count": 10,
   "id": "sunrise-egypt",
   "metadata": {},
   "outputs": [],
   "source": [
    "def plot_regression_xfy(y, img, m, h, color=(255,0,0)):\n",
    "    \"\"\"Recebe m, h e dados y que geraram a função\n",
    "        x = f(y)\n",
    "        e uma imagem para plot\n",
    "    \"\"\"\n",
    "    x = m*y + h\n",
    "    y_min = int(min(y)) # precisa ser int para plotar na imagem\n",
    "    y_max = int(max(y)) \n",
    "\n",
    "    x_min = int(f(y_min))\n",
    "    x_max = int(f(y_max))    \n",
    "    cv2.line(img, (x_min, y_min), (x_max, y_max), color, thickness=3);    \n",
    "    plt.imshow(img)    \n",
    "    "
   ]
  },
  {
   "cell_type": "code",
   "execution_count": 11,
   "id": "handmade-uruguay",
   "metadata": {},
   "outputs": [
    {
     "data": {
      "image/png": "[encoded data removed]",
      "text/plain": [
       "<Figure size 432x288 with 1 Axes>"
      ]
     },
     "metadata": {
      "needs_background": "light"
     },
     "output_type": "display_data"
    }
   ],
   "source": [
    "plot_regression_xfy(y, background, coef_angular, coef_linear)"
   ]
  },
  {
   "cell_type": "markdown",
   "id": "stock-ghana",
   "metadata": {},
   "source": [
    "### Removendo outliers"
   ]
  },
  {
   "cell_type": "code",
   "execution_count": 12,
   "id": "molecular-professor",
   "metadata": {
    "scrolled": true
   },
   "outputs": [],
   "source": [
    "ransac = linear_model.RANSACRegressor(reg)"
   ]
  },
  {
   "cell_type": "code",
   "execution_count": 13,
   "id": "immune-gospel",
   "metadata": {},
   "outputs": [],
   "source": [
    "ransac.fit(yr, xr)\n",
    "reg = ransac.estimator_"
   ]
  },
  {
   "cell_type": "code",
   "execution_count": 14,
   "id": "radio-diesel",
   "metadata": {},
   "outputs": [],
   "source": [
    "coef_angular, coef_linear = reg.coef_, reg.intercept_"
   ]
  },
  {
   "cell_type": "code",
   "execution_count": 15,
   "id": "controlling-snowboard",
   "metadata": {},
   "outputs": [],
   "source": [
    "background[:] = 0"
   ]
  },
  {
   "cell_type": "code",
   "execution_count": 16,
   "id": "forbidden-breakdown",
   "metadata": {},
   "outputs": [
    {
     "data": {
      "image/png": "[encoded data removed]",
      "text/plain": [
       "<Figure size 432x288 with 1 Axes>"
      ]
     },
     "metadata": {
      "needs_background": "light"
     },
     "output_type": "display_data"
    }
   ],
   "source": [
    "plot_points(x,y, background)\n",
    "plot_regression_xfy(y, background, coef_angular, coef_linear, color=(0,0,255))"
   ]
  },
  {
   "cell_type": "code",
   "execution_count": null,
   "id": "artificial-authentication",
   "metadata": {},
   "outputs": [],
   "source": []
  }
 ],
 "metadata": {
  "kernelspec": {
   "display_name": "Python 3",
   "language": "python",
   "name": "python3"
  },
  "language_info": {
   "codemirror_mode": {
    "name": "ipython",
    "version": 3
   },
   "file_extension": ".py",
   "mimetype": "text/x-python",
   "name": "python",
   "nbconvert_exporter": "python",
   "pygments_lexer": "ipython3",
   "version": "3.9.2"
  }
 },
 "nbformat": 4,
 "nbformat_minor": 5
}
