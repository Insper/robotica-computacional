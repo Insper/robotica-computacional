{
 "cells": [
  {
   "cell_type": "markdown",
   "metadata": {},
   "source": [
    "#  Matrizes de transformação - estudos\n",
    "\n",
    "\n",
    "### Testes de como usar o Sympy para multiplicar matrizes algébricas"
   ]
  },
  {
   "cell_type": "code",
   "execution_count": 344,
   "metadata": {},
   "outputs": [],
   "source": [
    "\n",
    "from sympy import symbols\n",
    "from sympy.core.trace import Tr\n",
    "#from sympy.matrices.matrices import Matrix\n",
    "from IPython.core.display import display_pretty\n",
    "from sympy.printing.latex import *\n",
    "\n",
    "from sympy import init_printing; init_printing()\n",
    "from sympy.interactive import printing\n",
    "#printing.init_printing(use_latex=False) # Use this option if you don't have Latex Installed\n",
    "printing.init_printing(use_latex=True)\n",
    "#printing.init_printing(use_latex=mathjax)\n",
    "\n",
    "from IPython.display import display\n",
    "\n",
    "import sympy as sp\n",
    "import math"
   ]
  },
  {
   "cell_type": "markdown",
   "metadata": {},
   "source": [
    "Declaração de uma série de símbolos dos quais vamos precisar"
   ]
  },
  {
   "cell_type": "code",
   "execution_count": 345,
   "metadata": {},
   "outputs": [],
   "source": [
    "alpha, beta, c_x, c_y,  t_x, t_y, theta, scale, a, b =  sp.symbols(\"alpha, beta, c_x, c_y, t_x, t_y, theta, scale, a, b\")"
   ]
  },
  {
   "cell_type": "code",
   "execution_count": 346,
   "metadata": {},
   "outputs": [],
   "source": [
    "\n",
    "# Funções auxiliares para criar as transformações básicas\n",
    "#    return sp.Matrix([[1, 0, 0],[0, 1, 0 ],[0, 0, 1]])\n",
    "\n",
    "\n",
    "def make_translation(transx, transy):\n",
    "    \"\"\"\n",
    "        Receives x and y translation values and returns a translation matrix\n",
    "    \"\"\"\n",
    "    return sp.Matrix([[1, 0, transx],[0, 1, transy ],[0, 0, 1]])\n",
    "\n",
    "def make_rotation(angle):\n",
    "    \"\"\"\n",
    "        Counter-clockwise rotations to match OpenCV.\n",
    "        TODO: really check if OpenCV rotates according to documentation\n",
    "    \"\"\"\n",
    "    a = sp.cos(angle)\n",
    "    b = sp.sin(angle)\n",
    "    return sp.Matrix([[a, b, 0],[-b, a, 0 ],[0, 0, 1]])\n",
    "\n",
    "def make_rotation_scale_a_b():\n",
    "    \"\"\"\n",
    "        returns a generic rotation matrix where\n",
    "        a = scale.cos(angle)\n",
    "        b = scale.sin(angle)\n",
    "    \"\"\"\n",
    "    return sp.Matrix([[a, b, 0],[-b, a, 0 ],[0, 0, 1]])\n",
    "\n",
    "\n",
    "def make_scale(scale_f):\n",
    "    return sp.Matrix([[scale, 0, 0],[0, scale, 0 ],[0, 0, 1]])\n",
    "    \n",
    "def make_column_point(x, y):\n",
    "    return sp.Matrix([[x],[y],[1]])\n",
    "\n"
   ]
  },
  {
   "cell_type": "code",
   "execution_count": 347,
   "metadata": {},
   "outputs": [],
   "source": [
    "mat45 = make_rotation(math.pi/4)"
   ]
  },
  {
   "cell_type": "code",
   "execution_count": 348,
   "metadata": {},
   "outputs": [
    {
     "data": {
      "image/png": "[encoded data removed]",
      "text/latex": [
       "$$\\left[\\begin{matrix}0.707106781186548 & 0.707106781186547 & 0\\\\-0.707106781186547 & 0.707106781186548 & 0\\\\0 & 0 & 1\\end{matrix}\\right]$$"
      ],
      "text/plain": [
       "⎡0.707106781186548   0.707106781186547  0⎤\n",
       "⎢                                        ⎥\n",
       "⎢-0.707106781186547  0.707106781186548  0⎥\n",
       "⎢                                        ⎥\n",
       "⎣        0                   0          1⎦"
      ]
     },
     "execution_count": 348,
     "metadata": {},
     "output_type": "execute_result"
    }
   ],
   "source": [
    "mat45"
   ]
  },
  {
   "cell_type": "code",
   "execution_count": 349,
   "metadata": {
    "collapsed": true
   },
   "outputs": [],
   "source": [
    "mat_theta = make_rotation(theta)"
   ]
  },
  {
   "cell_type": "code",
   "execution_count": 350,
   "metadata": {},
   "outputs": [
    {
     "data": {
      "image/png": "[encoded data removed]",
      "text/latex": [
       "$$\\left[\\begin{matrix}\\cos{\\left (\\theta \\right )} & \\sin{\\left (\\theta \\right )} & 0\\\\- \\sin{\\left (\\theta \\right )} & \\cos{\\left (\\theta \\right )} & 0\\\\0 & 0 & 1\\end{matrix}\\right]$$"
      ],
      "text/plain": [
       "⎡cos(θ)   sin(θ)  0⎤\n",
       "⎢                  ⎥\n",
       "⎢-sin(θ)  cos(θ)  0⎥\n",
       "⎢                  ⎥\n",
       "⎣   0       0     1⎦"
      ]
     },
     "execution_count": 350,
     "metadata": {},
     "output_type": "execute_result"
    }
   ],
   "source": [
    "mat_theta"
   ]
  },
  {
   "cell_type": "code",
   "execution_count": 351,
   "metadata": {},
   "outputs": [],
   "source": [
    "mat_trans_tx_ty = make_translation(t_x, t_y)\n"
   ]
  },
  {
   "cell_type": "code",
   "execution_count": 352,
   "metadata": {},
   "outputs": [
    {
     "data": {
      "image/png": "[encoded data removed]",
      "text/latex": [
       "$$\\left[\\begin{matrix}1 & 0 & t_{x}\\\\0 & 1 & t_{y}\\\\0 & 0 & 1\\end{matrix}\\right]$$"
      ],
      "text/plain": [
       "⎡1  0  tₓ ⎤\n",
       "⎢         ⎥\n",
       "⎢0  1  t_y⎥\n",
       "⎢         ⎥\n",
       "⎣0  0   1 ⎦"
      ]
     },
     "execution_count": 352,
     "metadata": {},
     "output_type": "execute_result"
    }
   ],
   "source": [
    "mat_trans_tx_ty"
   ]
  },
  {
   "cell_type": "code",
   "execution_count": 353,
   "metadata": {},
   "outputs": [
    {
     "data": {
      "image/png": "[encoded data removed]",
      "text/latex": [
       "$$\\left[\\begin{matrix}1 & 0 & - t_{x}\\\\0 & 1 & - t_{y}\\\\0 & 0 & 1\\end{matrix}\\right]$$"
      ],
      "text/plain": [
       "⎡1  0  -tₓ ⎤\n",
       "⎢          ⎥\n",
       "⎢0  1  -t_y⎥\n",
       "⎢          ⎥\n",
       "⎣0  0   1  ⎦"
      ]
     },
     "execution_count": 353,
     "metadata": {},
     "output_type": "execute_result"
    }
   ],
   "source": [
    "mat_trans_tx_ty.inv()"
   ]
  },
  {
   "cell_type": "code",
   "execution_count": 354,
   "metadata": {
    "collapsed": true
   },
   "outputs": [],
   "source": [
    "mat_trans_minus_tx_ty = make_translation(-t_x, -t_y)"
   ]
  },
  {
   "cell_type": "code",
   "execution_count": 355,
   "metadata": {},
   "outputs": [
    {
     "data": {
      "image/png": "[encoded data removed]",
      "text/latex": [
       "$$\\left[\\begin{matrix}1 & 0 & - t_{x}\\\\0 & 1 & - t_{y}\\\\0 & 0 & 1\\end{matrix}\\right]$$"
      ],
      "text/plain": [
       "⎡1  0  -tₓ ⎤\n",
       "⎢          ⎥\n",
       "⎢0  1  -t_y⎥\n",
       "⎢          ⎥\n",
       "⎣0  0   1  ⎦"
      ]
     },
     "execution_count": 355,
     "metadata": {},
     "output_type": "execute_result"
    }
   ],
   "source": [
    "mat_trans_minus_tx_ty"
   ]
  },
  {
   "cell_type": "code",
   "execution_count": 356,
   "metadata": {},
   "outputs": [],
   "source": [
    "mat_scale = make_scale(scale)"
   ]
  },
  {
   "cell_type": "code",
   "execution_count": 381,
   "metadata": {},
   "outputs": [
    {
     "data": {
      "image/png": "[encoded data removed]",
      "text/latex": [
       "$$\\left[\\begin{matrix}scale & 0 & 0\\\\0 & scale & 0\\\\0 & 0 & 1\\end{matrix}\\right]$$"
      ],
      "text/plain": [
       "⎡scale    0    0⎤\n",
       "⎢               ⎥\n",
       "⎢  0    scale  0⎥\n",
       "⎢               ⎥\n",
       "⎣  0      0    1⎦"
      ]
     },
     "execution_count": 381,
     "metadata": {},
     "output_type": "execute_result"
    }
   ],
   "source": [
    "mat_scale"
   ]
  },
  {
   "cell_type": "code",
   "execution_count": 357,
   "metadata": {},
   "outputs": [
    {
     "data": {
      "image/png": "[encoded data removed]",
      "text/latex": [
       "$$\\left[\\begin{matrix}\\frac{1}{scale} & 0 & 0\\\\0 & \\frac{1}{scale} & 0\\\\0 & 0 & 1\\end{matrix}\\right]$$"
      ],
      "text/plain": [
       "⎡  1            ⎤\n",
       "⎢─────    0    0⎥\n",
       "⎢scale          ⎥\n",
       "⎢               ⎥\n",
       "⎢         1     ⎥\n",
       "⎢  0    ─────  0⎥\n",
       "⎢       scale   ⎥\n",
       "⎢               ⎥\n",
       "⎣  0      0    1⎦"
      ]
     },
     "execution_count": 357,
     "metadata": {},
     "output_type": "execute_result"
    }
   ],
   "source": [
    "mat_scale.inv()"
   ]
  },
  {
   "cell_type": "code",
   "execution_count": 358,
   "metadata": {},
   "outputs": [
    {
     "data": {
      "image/png": "[encoded data removed]",
      "text/latex": [
       "$$0.707106781187$$"
      ],
      "text/plain": [
       "0.707106781187"
      ]
     },
     "execution_count": 358,
     "metadata": {},
     "output_type": "execute_result"
    }
   ],
   "source": [
    "math.cos(-math.pi/4)"
   ]
  },
  {
   "cell_type": "code",
   "execution_count": 359,
   "metadata": {},
   "outputs": [
    {
     "data": {
      "image/png": "[encoded data removed]",
      "text/latex": [
       "$$0.707106781187$$"
      ],
      "text/plain": [
       "0.707106781187"
      ]
     },
     "execution_count": 359,
     "metadata": {},
     "output_type": "execute_result"
    }
   ],
   "source": [
    "math.cos(math.pi/4)"
   ]
  },
  {
   "cell_type": "markdown",
   "metadata": {},
   "source": [
    "### Transformação de rotação ao redor de um ponto arbitrário"
   ]
  },
  {
   "cell_type": "markdown",
   "metadata": {},
   "source": [
    "Girar ao redor de um ponto $c_x, c_y$ é deslocar aquele ponto para a origem fazendo uma transformação $-c_x, -c_y$, aplicar a rotação $\\theta$ e depois devolver o ponto ao seu lugar fazendo uma translação por $c_x, c_y$. Ou seja:"
   ]
  },
  {
   "cell_type": "code",
   "execution_count": 360,
   "metadata": {
    "collapsed": true
   },
   "outputs": [],
   "source": [
    "mat_trans_center = make_translation(c_x, c_y)"
   ]
  },
  {
   "cell_type": "code",
   "execution_count": 361,
   "metadata": {
    "scrolled": false
   },
   "outputs": [
    {
     "data": {
      "image/png": "[encoded data removed]",
      "text/latex": [
       "$$\\left[\\begin{matrix}1 & 0 & c_{x}\\\\0 & 1 & c_{y}\\\\0 & 0 & 1\\end{matrix}\\right]$$"
      ],
      "text/plain": [
       "⎡1  0  cₓ ⎤\n",
       "⎢         ⎥\n",
       "⎢0  1  c_y⎥\n",
       "⎢         ⎥\n",
       "⎣0  0   1 ⎦"
      ]
     },
     "execution_count": 361,
     "metadata": {},
     "output_type": "execute_result"
    }
   ],
   "source": [
    "mat_trans_center"
   ]
  },
  {
   "cell_type": "code",
   "execution_count": 362,
   "metadata": {
    "collapsed": true
   },
   "outputs": [],
   "source": [
    "mat_trans_minus_center = mat_trans_center.inv()"
   ]
  },
  {
   "cell_type": "code",
   "execution_count": 363,
   "metadata": {},
   "outputs": [
    {
     "data": {
      "image/png": "[encoded data removed]",
      "text/latex": [
       "$$\\left[\\begin{matrix}1 & 0 & - c_{x}\\\\0 & 1 & - c_{y}\\\\0 & 0 & 1\\end{matrix}\\right]$$"
      ],
      "text/plain": [
       "⎡1  0  -cₓ ⎤\n",
       "⎢          ⎥\n",
       "⎢0  1  -c_y⎥\n",
       "⎢          ⎥\n",
       "⎣0  0   1  ⎦"
      ]
     },
     "execution_count": 363,
     "metadata": {},
     "output_type": "execute_result"
    }
   ],
   "source": [
    "mat_trans_minus_center"
   ]
  },
  {
   "cell_type": "code",
   "execution_count": 364,
   "metadata": {
    "scrolled": true
   },
   "outputs": [
    {
     "data": {
      "image/png": "[encoded data removed]",
      "text/latex": [
       "$$\\left[\\begin{matrix}\\cos{\\left (\\theta \\right )} & \\sin{\\left (\\theta \\right )} & 0\\\\- \\sin{\\left (\\theta \\right )} & \\cos{\\left (\\theta \\right )} & 0\\\\0 & 0 & 1\\end{matrix}\\right]$$"
      ],
      "text/plain": [
       "⎡cos(θ)   sin(θ)  0⎤\n",
       "⎢                  ⎥\n",
       "⎢-sin(θ)  cos(θ)  0⎥\n",
       "⎢                  ⎥\n",
       "⎣   0       0     1⎦"
      ]
     },
     "execution_count": 364,
     "metadata": {},
     "output_type": "execute_result"
    }
   ],
   "source": [
    "mat_theta"
   ]
  },
  {
   "cell_type": "code",
   "execution_count": 365,
   "metadata": {},
   "outputs": [
    {
     "data": {
      "image/png": "[encoded data removed]",
      "text/latex": [
       "$$\\left[\\begin{matrix}1 & 0 & c_{x}\\\\0 & 1 & c_{y}\\\\0 & 0 & 1\\end{matrix}\\right]$$"
      ],
      "text/plain": [
       "⎡1  0  cₓ ⎤\n",
       "⎢         ⎥\n",
       "⎢0  1  c_y⎥\n",
       "⎢         ⎥\n",
       "⎣0  0   1 ⎦"
      ]
     },
     "execution_count": 365,
     "metadata": {},
     "output_type": "execute_result"
    }
   ],
   "source": [
    "mat_trans_center"
   ]
  },
  {
   "cell_type": "markdown",
   "metadata": {},
   "source": [
    "Concatenando as três transformações, lembrando que a primeira multiplicação ocorre à direta:"
   ]
  },
  {
   "cell_type": "code",
   "execution_count": 366,
   "metadata": {
    "collapsed": true
   },
   "outputs": [],
   "source": [
    "mat_rotacao_center = mat_trans_center*mat_theta*mat_trans_minus_center"
   ]
  },
  {
   "cell_type": "markdown",
   "metadata": {},
   "source": [
    "Chegamos à formula para rotação arbitrária em torno de um ponto presente [na documentação da OpenCV](http://docs.opencv.org/3.1.0/da/d6e/tutorial_py_geometric_transformations.html#gsc.tab=0)\n"
   ]
  },
  {
   "cell_type": "markdown",
   "metadata": {},
   "source": [
    "\n",
    "$$\n",
    "\\begin{pmatrix}\n",
    "x_{saida} \\\\\n",
    "y_{saida} \\\\\n",
    "1\n",
    "\\end{pmatrix}\n",
    " = \n",
    "\\begin{pmatrix}\n",
    "   \\alpha &\\beta &(1-\\alpha \\cdot center.x - \\beta \\cdot center.y) + t_x \\\\\n",
    "   -\\beta & \\alpha & \\beta \\cdot center.x + (1 - \\alpha \\cdot center.y) + t_y \\\\ 0 & 0 & 1\n",
    "\\end{pmatrix} \\cdot \\begin{pmatrix} x_{entrada} \\\\ y_{entrada} \\\\ 1 \\end{pmatrix} \n",
    "$$\n",
    "\n",
    "\n"
   ]
  },
  {
   "cell_type": "code",
   "execution_count": 367,
   "metadata": {},
   "outputs": [
    {
     "data": {
      "image/png": "[encoded data removed]",
      "text/latex": [
       "$$\\left[\\begin{matrix}\\cos{\\left (\\theta \\right )} & \\sin{\\left (\\theta \\right )} & - c_{x} \\cos{\\left (\\theta \\right )} + c_{x} - c_{y} \\sin{\\left (\\theta \\right )}\\\\- \\sin{\\left (\\theta \\right )} & \\cos{\\left (\\theta \\right )} & c_{x} \\sin{\\left (\\theta \\right )} - c_{y} \\cos{\\left (\\theta \\right )} + c_{y}\\\\0 & 0 & 1\\end{matrix}\\right]$$"
      ],
      "text/plain": [
       "⎡cos(θ)   sin(θ)  -cₓ⋅cos(θ) + cₓ - c_y⋅sin(θ)⎤\n",
       "⎢                                             ⎥\n",
       "⎢-sin(θ)  cos(θ)  cₓ⋅sin(θ) - c_y⋅cos(θ) + c_y⎥\n",
       "⎢                                             ⎥\n",
       "⎣   0       0                  1              ⎦"
      ]
     },
     "execution_count": 367,
     "metadata": {},
     "output_type": "execute_result"
    }
   ],
   "source": [
    "mat_rotacao_center"
   ]
  },
  {
   "cell_type": "markdown",
   "metadata": {},
   "source": [
    "## Tranformação geral de rotação, escala e translação"
   ]
  },
  {
   "cell_type": "markdown",
   "metadata": {},
   "source": [
    "Podemos também obter uma transformação geral de forma mais simples, fazendo com que seja uma combinação de rotação em torna da origem, escala e depois translação.\n",
    "\n",
    "Aplicando as transformações na ordem em que seriam multiplicadas, teríamos:\n",
    "\n",
    "$$ T \\cdot S \\cdot R $$"
   ]
  },
  {
   "cell_type": "code",
   "execution_count": 368,
   "metadata": {},
   "outputs": [],
   "source": [
    "mat_geral = mat_trans_tx_ty * mat_scale * mat_theta"
   ]
  },
  {
   "cell_type": "code",
   "execution_count": 369,
   "metadata": {},
   "outputs": [
    {
     "data": {
      "image/png": "[encoded data removed]",
      "text/latex": [
       "$$\\left[\\begin{matrix}scale \\cos{\\left (\\theta \\right )} & scale \\sin{\\left (\\theta \\right )} & t_{x}\\\\- scale \\sin{\\left (\\theta \\right )} & scale \\cos{\\left (\\theta \\right )} & t_{y}\\\\0 & 0 & 1\\end{matrix}\\right]$$"
      ],
      "text/plain": [
       "⎡scale⋅cos(θ)   scale⋅sin(θ)  tₓ ⎤\n",
       "⎢                                ⎥\n",
       "⎢-scale⋅sin(θ)  scale⋅cos(θ)  t_y⎥\n",
       "⎢                                ⎥\n",
       "⎣      0             0         1 ⎦"
      ]
     },
     "execution_count": 369,
     "metadata": {},
     "output_type": "execute_result"
    }
   ],
   "source": [
    "mat_geral"
   ]
  },
  {
   "cell_type": "code",
   "execution_count": 386,
   "metadata": {},
   "outputs": [
    {
     "data": {
      "image/png": "[encoded data removed]",
      "text/latex": [
       "$$\\left[\\begin{matrix}scale & 0 & 0\\\\0 & scale & 0\\\\0 & 0 & 1\\end{matrix}\\right]$$"
      ],
      "text/plain": [
       "⎡scale    0    0⎤\n",
       "⎢               ⎥\n",
       "⎢  0    scale  0⎥\n",
       "⎢               ⎥\n",
       "⎣  0      0    1⎦"
      ]
     },
     "execution_count": 386,
     "metadata": {},
     "output_type": "execute_result"
    }
   ],
   "source": [
    "mat_scale"
   ]
  },
  {
   "cell_type": "code",
   "execution_count": 388,
   "metadata": {},
   "outputs": [
    {
     "data": {
      "image/png": "[encoded data removed]",
      "text/latex": [
       "$$\\left[\\begin{matrix}1 & 0 & t_{x}\\\\0 & 1 & t_{y}\\\\0 & 0 & 1\\end{matrix}\\right]$$"
      ],
      "text/plain": [
       "⎡1  0  tₓ ⎤\n",
       "⎢         ⎥\n",
       "⎢0  1  t_y⎥\n",
       "⎢         ⎥\n",
       "⎣0  0   1 ⎦"
      ]
     },
     "execution_count": 388,
     "metadata": {},
     "output_type": "execute_result"
    }
   ],
   "source": [
    "mat_trans_tx_ty"
   ]
  },
  {
   "cell_type": "markdown",
   "metadata": {},
   "source": [
    "A fórmula acima coincide com a fornecida [na seção 11.2 do livro Computer Vision, de Shepard and Shapiro](Shapiro and Shepard. Computer Vision. Seção 11.2, Capítulo 11](https://courses.cs.washington.edu/courses/cse576/book/ch11.pdf)\n",
    "). O sinal dos componentes com $\\sin(\\theta)$ está invertido porque trabalhamos com ângulo no sentido horário e o livro trabalha no sentido anti-horário. A seguir vamos entender melhor esta transformação."
   ]
  },
  {
   "cell_type": "markdown",
   "metadata": {},
   "source": [
    "# Desenvolvendo a matriz  de transformações 2D com rot, trans e escala"
   ]
  },
  {
   "cell_type": "markdown",
   "metadata": {},
   "source": [
    "Uma matriz de translação por uma distância $ [ x_t   y_t ]$ em 2D é:\n",
    "\n",
    "$$\n",
    "T = \\begin{pmatrix} 1 & 0 & x_t \\\\\n",
    "0 & 1 & y_t \\\\\n",
    "0 & 0 & 1 \n",
    "\\end{pmatrix}\n",
    "$$\n",
    "\n",
    "Uma matriz de rotação por um ângulo $\\theta$ é:\n",
    "\n",
    "$$\n",
    "R = \\begin{pmatrix} \\cos(\\theta) & -\\sin(\\theta) & 0 \\\\\n",
    "\\sin(\\theta) & \\cos(\\theta) & 0 \\\\\n",
    "0 & 0 & 1 \n",
    "\\end{pmatrix}\n",
    "$$\n",
    "\n",
    "Uma matriz que aplica um fator de escala  $s$ igual nos eixos $x$ e $y$ é:\n",
    "\n",
    "\n",
    "$$\n",
    "S = \\begin{pmatrix} s & 0  & 0 \\\\\n",
    "0 & s & 0 \\\\\n",
    "0 & 0 & 1 \n",
    "\\end{pmatrix}\n",
    "$$\n",
    "\n",
    "\n",
    "Uma transformação genérica, composta de rotação, escala e transação (nesta ordem) é dada por:\n",
    "\n",
    "$$\n",
    "M = T \\cdot S \\cdot R\n",
    "$$\n",
    "\n",
    "Ou seja:\n",
    "$$\n",
    "M = \\begin{pmatrix} 1 & 0 & x_t \\\\\n",
    "0 & 1 & y_t \\\\\n",
    "0 & 0 & 1 \n",
    "\\end{pmatrix}\n",
    "\\cdot\n",
    "\\begin{pmatrix} \\cos(\\theta) & -\\sin(\\theta) & 0 \\\\\n",
    "\\sin(\\theta) & \\cos(\\theta) & 0 \\\\\n",
    "0 & 0 & 1 \n",
    "\\end{pmatrix}\n",
    "\\cdot\n",
    "\\begin{pmatrix} s & 0  & 0 \\\\\n",
    "0 & s & 0 \\\\\n",
    "0 & 0 & 1 \n",
    "\\end{pmatrix}\n",
    "$$\n",
    "\n",
    "Multiplicando as três matrizes, temos que uma transformação afim composta de rotação, escala e translação é:\n",
    "\n",
    "$$\n",
    "M = \\begin{pmatrix} s\\cdot\\cos(\\theta) & -s\\cdot\\sin(\\theta) & x_t \\\\\n",
    "-s\\cdot\\sin(\\theta) & -s\\cdot\\cos(\\theta) & y_t \\\\\n",
    "0 & 0 & 1 \n",
    "\\end{pmatrix}\n",
    "$$\n",
    "\n",
    "\n",
    "Desta forma, um ponto de entrada representado por $( x_{i}, y_{i} ) $ será transformado num ponto de saída $(x_{saida}, y_{saida})$ quando multiplicado pela matrix $M$\n",
    "\n",
    "\n",
    "$$\n",
    "\\begin{pmatrix}x_{saida} \\\\ y_{saida} \\end{pmatrix} = \\begin{pmatrix} s\\cdot\\cos(\\theta) & -s\\cdot\\sin(\\theta) & x_t \\\\\n",
    "-s\\cdot\\sin(\\theta) & -s\\cdot\\cos(\\theta) & y_t \\\\\n",
    "0 & 0 & 1 \n",
    "\\end{pmatrix} \\cdot \\begin{pmatrix} x_{i} \\\\ y_{i} \\end{pmatrix} \n",
    "$$\n",
    "\n",
    "Teremos, então:\n",
    "\n",
    "$$\n",
    "x_{saida} = x_{i} \\cdot s \\cdot \\cos(\\theta) - y_{i} \\cdot s \\cdot \\sin(\\theta) + x_t $$\n",
    "e \n",
    "$$ y_{saida} = - x_{i} \\cdot s \\cdot \\sin(\\theta) - y_{i} \\cdot s \\cdot \\cos(\\theta) + y_t\n",
    "$$\n",
    "\n",
    "Por simplicidade, ao estimar uma transformação, ajuda trabalhar com as seguintes relações:\n",
    "\n",
    "$\\alpha =  s \\cdot \\cos(\\theta)$\n",
    "\n",
    "e \n",
    "\n",
    "$\\beta = -s \\cdot \\sin(\\theta) $\n",
    "\n",
    "E encarar a matriz da seguinte forma:\n",
    "\n",
    "\n",
    "$$\n",
    "\\begin{pmatrix}x_{saida} \\\\ y_{saida} \\end{pmatrix} = \\begin{pmatrix} \\alpha & -\\beta & x_t \\\\\n",
    "-\\beta & -\\alpha & y_t \\\\\n",
    "0 & 0 & 1 \n",
    "\\end{pmatrix} \\cdot \\begin{pmatrix} x_{i} \\\\ y_{i} \\end{pmatrix} \n",
    "$$\n",
    "\n"
   ]
  },
  {
   "cell_type": "markdown",
   "metadata": {
    "collapsed": true
   },
   "source": [
    "### Sistema para encontrar rotation-scale + translation\n",
    "\n",
    "Vamos montar um sistema de equações para encontrar rotation-scale e translation\n",
    "\n",
    "Primeiro vamos obter uma matriz composta de rotation-scale e translation"
   ]
  },
  {
   "cell_type": "code",
   "execution_count": 370,
   "metadata": {},
   "outputs": [],
   "source": [
    "rotab = make_rotation_scale_a_b()"
   ]
  },
  {
   "cell_type": "code",
   "execution_count": 371,
   "metadata": {},
   "outputs": [
    {
     "data": {
      "image/png": "[encoded data removed]",
      "text/latex": [
       "$$\\left[\\begin{matrix}a & b & 0\\\\- b & a & 0\\\\0 & 0 & 1\\end{matrix}\\right]$$"
      ],
      "text/plain": [
       "⎡a   b  0⎤\n",
       "⎢        ⎥\n",
       "⎢-b  a  0⎥\n",
       "⎢        ⎥\n",
       "⎣0   0  1⎦"
      ]
     },
     "execution_count": 371,
     "metadata": {},
     "output_type": "execute_result"
    }
   ],
   "source": [
    "rotab"
   ]
  },
  {
   "cell_type": "code",
   "execution_count": 372,
   "metadata": {
    "collapsed": true
   },
   "outputs": [],
   "source": [
    "trans = make_translation(t_x, t_y)"
   ]
  },
  {
   "cell_type": "code",
   "execution_count": 373,
   "metadata": {},
   "outputs": [
    {
     "data": {
      "image/png": "[encoded data removed]",
      "text/latex": [
       "$$\\left[\\begin{matrix}1 & 0 & t_{x}\\\\0 & 1 & t_{y}\\\\0 & 0 & 1\\end{matrix}\\right]$$"
      ],
      "text/plain": [
       "⎡1  0  tₓ ⎤\n",
       "⎢         ⎥\n",
       "⎢0  1  t_y⎥\n",
       "⎢         ⎥\n",
       "⎣0  0   1 ⎦"
      ]
     },
     "execution_count": 373,
     "metadata": {},
     "output_type": "execute_result"
    }
   ],
   "source": [
    "trans"
   ]
  },
  {
   "cell_type": "code",
   "execution_count": 374,
   "metadata": {
    "collapsed": true
   },
   "outputs": [],
   "source": [
    "M = trans*rotab"
   ]
  },
  {
   "cell_type": "markdown",
   "metadata": {},
   "source": [
    "Vamos trabalhar com a matrix M como transformação geral. As variáveis do nosso sistema serão $a$, $b$, $t_x$ e $t_y$\n",
    "\n",
    "Lembrando que:\n",
    "$a = scale *\\cos(angulo)$\n",
    "e\n",
    "$b = scale * \\sin(angulo) $"
   ]
  },
  {
   "cell_type": "code",
   "execution_count": 375,
   "metadata": {},
   "outputs": [
    {
     "data": {
      "image/png": "[encoded data removed]",
      "text/latex": [
       "$$\\left[\\begin{matrix}a & b & t_{x}\\\\- b & a & t_{y}\\\\0 & 0 & 1\\end{matrix}\\right]$$"
      ],
      "text/plain": [
       "⎡a   b  tₓ ⎤\n",
       "⎢          ⎥\n",
       "⎢-b  a  t_y⎥\n",
       "⎢          ⎥\n",
       "⎣0   0   1 ⎦"
      ]
     },
     "execution_count": 375,
     "metadata": {},
     "output_type": "execute_result"
    }
   ],
   "source": [
    "M"
   ]
  },
  {
   "cell_type": "code",
   "execution_count": 383,
   "metadata": {},
   "outputs": [
    {
     "data": {
      "image/png": "[encoded data removed]",
      "text/latex": [
       "$$\\left[\\begin{matrix}x_{0}\\\\y_{0}\\\\1\\end{matrix}\\right]$$"
      ],
      "text/plain": [
       "⎡x₀⎤\n",
       "⎢  ⎥\n",
       "⎢y₀⎥\n",
       "⎢  ⎥\n",
       "⎣1 ⎦"
      ]
     },
     "execution_count": 383,
     "metadata": {},
     "output_type": "execute_result"
    }
   ],
   "source": [
    "p0"
   ]
  },
  {
   "cell_type": "code",
   "execution_count": 384,
   "metadata": {},
   "outputs": [
    {
     "data": {
      "image/png": "[encoded data removed]",
      "text/latex": [
       "$$\\left[\\begin{matrix}a x_{0} + b y_{0} + t_{x}\\\\a y_{0} - b x_{0} + t_{y}\\\\1\\end{matrix}\\right]$$"
      ],
      "text/plain": [
       "⎡a⋅x₀ + b⋅y₀ + tₓ ⎤\n",
       "⎢                 ⎥\n",
       "⎢a⋅y₀ - b⋅x₀ + t_y⎥\n",
       "⎢                 ⎥\n",
       "⎣        1        ⎦"
      ]
     },
     "execution_count": 384,
     "metadata": {},
     "output_type": "execute_result"
    }
   ],
   "source": [
    "M*p0"
   ]
  },
  {
   "cell_type": "code",
   "execution_count": 376,
   "metadata": {},
   "outputs": [],
   "source": [
    "## Criação de muitos pontos. Vamos fazer com pontos o suficiente para o sistema ser sobredeterminado\n",
    "\n",
    "# Pontos na entrada\n",
    "x0, y0, x1, y1, x2, y2, x3, y3, x4, y4 = sp.symbols(\"x_0, y_0, x_1, y_1, x_2, y_2, x_3, y_3, x_4, y_4\")\n",
    "p0 = make_column_point(x0, y0)\n",
    "p1 = make_column_point(x1, y1)\n",
    "p2 = make_column_point(x2, y2)\n",
    "p3 = make_column_point(x3, y3)\n",
    "p4 = make_column_point(x4, y4)\n",
    "\n",
    "points_entrada = [p0, p1, p2, p3, p4]\n",
    "\n",
    "# Pontos na saida\n",
    "xs0, ys0, xs1, ys1, xs2, ys2, xs3, ys3, xs4, ys4 = sp.symbols(\"x_s0, y_s0, x_s1, y_s1, x_s2, y_s2, x_s3, y_s3, x_s4, y_s4\")\n",
    "\n",
    "ps0 = make_column_point(xs0, ys0)\n",
    "ps1 = make_column_point(xs1, ys1)\n",
    "ps2 = make_column_point(xs2, ys2)\n",
    "ps3 = make_column_point(xs3, ys3)\n",
    "ps4 = make_column_point(xs4, ys4)\n",
    "\n",
    "points_saida = [ps0, ps1, ps2, ps3, ps4]"
   ]
  },
  {
   "cell_type": "code",
   "execution_count": 377,
   "metadata": {},
   "outputs": [
    {
     "data": {
      "image/png": "[encoded data removed]",
      "text/latex": [
       "$$\\left [ \\left[\\begin{matrix}x_{0}\\\\y_{0}\\\\1\\end{matrix}\\right], \\quad \\left[\\begin{matrix}x_{1}\\\\y_{1}\\\\1\\end{matrix}\\right], \\quad \\left[\\begin{matrix}x_{2}\\\\y_{2}\\\\1\\end{matrix}\\right], \\quad \\left[\\begin{matrix}x_{3}\\\\y_{3}\\\\1\\end{matrix}\\right], \\quad \\left[\\begin{matrix}x_{4}\\\\y_{4}\\\\1\\end{matrix}\\right]\\right ]$$"
      ],
      "text/plain": [
       "⎡⎡x₀⎤, ⎡x₁⎤, ⎡x₂⎤, ⎡x₃⎤, ⎡x₄⎤⎤\n",
       "⎢⎢  ⎥  ⎢  ⎥  ⎢  ⎥  ⎢  ⎥  ⎢  ⎥⎥\n",
       "⎢⎢y₀⎥  ⎢y₁⎥  ⎢y₂⎥  ⎢y₃⎥  ⎢y₄⎥⎥\n",
       "⎢⎢  ⎥  ⎢  ⎥  ⎢  ⎥  ⎢  ⎥  ⎢  ⎥⎥\n",
       "⎣⎣1 ⎦  ⎣1 ⎦  ⎣1 ⎦  ⎣1 ⎦  ⎣1 ⎦⎦"
      ]
     },
     "execution_count": 377,
     "metadata": {},
     "output_type": "execute_result"
    }
   ],
   "source": [
    "points_entrada"
   ]
  },
  {
   "cell_type": "code",
   "execution_count": 378,
   "metadata": {},
   "outputs": [
    {
     "data": {
      "image/png": "[encoded data removed]",
      "text/latex": [
       "$$\\left [ \\left[\\begin{matrix}x_{s0}\\\\y_{s0}\\\\1\\end{matrix}\\right], \\quad \\left[\\begin{matrix}x_{s1}\\\\y_{s1}\\\\1\\end{matrix}\\right], \\quad \\left[\\begin{matrix}x_{s2}\\\\y_{s2}\\\\1\\end{matrix}\\right], \\quad \\left[\\begin{matrix}x_{s3}\\\\y_{s3}\\\\1\\end{matrix}\\right], \\quad \\left[\\begin{matrix}x_{s4}\\\\y_{s4}\\\\1\\end{matrix}\\right]\\right ]$$"
      ],
      "text/plain": [
       "⎡⎡x_s0⎤, ⎡x_s1⎤, ⎡x_s2⎤, ⎡x_s3⎤, ⎡x_s4⎤⎤\n",
       "⎢⎢    ⎥  ⎢    ⎥  ⎢    ⎥  ⎢    ⎥  ⎢    ⎥⎥\n",
       "⎢⎢y_s0⎥  ⎢y_s1⎥  ⎢y_s2⎥  ⎢y_s3⎥  ⎢y_s4⎥⎥\n",
       "⎢⎢    ⎥  ⎢    ⎥  ⎢    ⎥  ⎢    ⎥  ⎢    ⎥⎥\n",
       "⎣⎣ 1  ⎦  ⎣ 1  ⎦  ⎣ 1  ⎦  ⎣ 1  ⎦  ⎣ 1  ⎦⎦"
      ]
     },
     "execution_count": 378,
     "metadata": {},
     "output_type": "execute_result"
    }
   ],
   "source": [
    "points_saida"
   ]
  },
  {
   "cell_type": "markdown",
   "metadata": {},
   "source": [
    "Finalmente, as equações:"
   ]
  },
  {
   "cell_type": "code",
   "execution_count": 379,
   "metadata": {},
   "outputs": [
    {
     "name": "stdout",
     "output_type": "stream",
     "text": [
      "Equations of the overdetermined system\n"
     ]
    },
    {
     "data": {
      "image/png": "[encoded data removed]",
      "text/latex": [
       "$$a x_{0} + b y_{0} + t_{x} - x_{s0}$$"
      ],
      "text/plain": [
       "a⋅x₀ + b⋅y₀ + tₓ - x_s0"
      ]
     },
     "metadata": {},
     "output_type": "display_data"
    },
    {
     "data": {
      "image/png": "[encoded data removed]",
      "text/latex": [
       "$$a y_{0} - b x_{0} + t_{y} - y_{s0}$$"
      ],
      "text/plain": [
       "a⋅y₀ - b⋅x₀ + t_y - y_s0"
      ]
     },
     "metadata": {},
     "output_type": "display_data"
    },
    {
     "data": {
      "image/png": "[encoded data removed]",
      "text/latex": [
       "$$a x_{1} + b y_{1} + t_{x} - x_{s1}$$"
      ],
      "text/plain": [
       "a⋅x₁ + b⋅y₁ + tₓ - x_s1"
      ]
     },
     "metadata": {},
     "output_type": "display_data"
    },
    {
     "data": {
      "image/png": "[encoded data removed]",
      "text/latex": [
       "$$a y_{1} - b x_{1} + t_{y} - y_{s1}$$"
      ],
      "text/plain": [
       "a⋅y₁ - b⋅x₁ + t_y - y_s1"
      ]
     },
     "metadata": {},
     "output_type": "display_data"
    },
    {
     "data": {
      "image/png": "[encoded data removed]",
      "text/latex": [
       "$$a x_{2} + b y_{2} + t_{x} - x_{s2}$$"
      ],
      "text/plain": [
       "a⋅x₂ + b⋅y₂ + tₓ - x_s2"
      ]
     },
     "metadata": {},
     "output_type": "display_data"
    },
    {
     "data": {
      "image/png": "[encoded data removed]",
      "text/latex": [
       "$$a y_{2} - b x_{2} + t_{y} - y_{s2}$$"
      ],
      "text/plain": [
       "a⋅y₂ - b⋅x₂ + t_y - y_s2"
      ]
     },
     "metadata": {},
     "output_type": "display_data"
    },
    {
     "data": {
      "image/png": "[encoded data removed]",
      "text/latex": [
       "$$a x_{3} + b y_{3} + t_{x} - x_{s3}$$"
      ],
      "text/plain": [
       "a⋅x₃ + b⋅y₃ + tₓ - x_s3"
      ]
     },
     "metadata": {},
     "output_type": "display_data"
    },
    {
     "data": {
      "image/png": "[encoded data removed]",
      "text/latex": [
       "$$a y_{3} - b x_{3} + t_{y} - y_{s3}$$"
      ],
      "text/plain": [
       "a⋅y₃ - b⋅x₃ + t_y - y_s3"
      ]
     },
     "metadata": {},
     "output_type": "display_data"
    },
    {
     "data": {
      "image/png": "[encoded data removed]",
      "text/latex": [
       "$$a x_{4} + b y_{4} + t_{x} - x_{s4}$$"
      ],
      "text/plain": [
       "a⋅x₄ + b⋅y₄ + tₓ - x_s4"
      ]
     },
     "metadata": {},
     "output_type": "display_data"
    },
    {
     "data": {
      "image/png": "[encoded data removed]",
      "text/latex": [
       "$$a y_{4} - b x_{4} + t_{y} - y_{s4}$$"
      ],
      "text/plain": [
       "a⋅y₄ - b⋅x₄ + t_y - y_s4"
      ]
     },
     "metadata": {},
     "output_type": "display_data"
    }
   ],
   "source": [
    "equations = []\n",
    "system_eq = [] # Sistema de equações supondo =0\n",
    "left_side = [] # Lado esquerdo do sistema\n",
    "\n",
    "for p in points_entrada:\n",
    "    produto = M*p\n",
    "    equations.append(produto)\n",
    "\n",
    "print(\"Equations of the overdetermined system\")\n",
    "    \n",
    "for i in range(len(equations)):\n",
    "    for j in range(len(equations[i][:-1])): # -1 excludes the homogeneous coordinate (extra 1 at the end)\n",
    "        eq = equations[i][j]-points_saida[i][j]\n",
    "        left_side.append(equations[i][j])\n",
    "        system_eq.append(eq)\n",
    "\n",
    "        \n",
    "for equation in system_eq:\n",
    "    display(equation)"
   ]
  },
  {
   "cell_type": "code",
   "execution_count": 385,
   "metadata": {},
   "outputs": [
    {
     "data": {
      "image/png": "[encoded data removed]",
      "text/latex": [
       "$$a x_{0} + b y_{0} + t_{x}$$"
      ],
      "text/plain": [
       "a⋅x₀ + b⋅y₀ + tₓ"
      ]
     },
     "metadata": {},
     "output_type": "display_data"
    },
    {
     "data": {
      "image/png": "[encoded data removed]",
      "text/latex": [
       "$$a y_{0} - b x_{0} + t_{y}$$"
      ],
      "text/plain": [
       "a⋅y₀ - b⋅x₀ + t_y"
      ]
     },
     "metadata": {},
     "output_type": "display_data"
    },
    {
     "data": {
      "image/png": "[encoded data removed]",
      "text/latex": [
       "$$a x_{1} + b y_{1} + t_{x}$$"
      ],
      "text/plain": [
       "a⋅x₁ + b⋅y₁ + tₓ"
      ]
     },
     "metadata": {},
     "output_type": "display_data"
    },
    {
     "data": {
      "image/png": "[encoded data removed]",
      "text/latex": [
       "$$a y_{1} - b x_{1} + t_{y}$$"
      ],
      "text/plain": [
       "a⋅y₁ - b⋅x₁ + t_y"
      ]
     },
     "metadata": {},
     "output_type": "display_data"
    },
    {
     "data": {
      "image/png": "[encoded data removed]",
      "text/latex": [
       "$$a x_{2} + b y_{2} + t_{x}$$"
      ],
      "text/plain": [
       "a⋅x₂ + b⋅y₂ + tₓ"
      ]
     },
     "metadata": {},
     "output_type": "display_data"
    },
    {
     "data": {
      "image/png": "[encoded data removed]",
      "text/latex": [
       "$$a y_{2} - b x_{2} + t_{y}$$"
      ],
      "text/plain": [
       "a⋅y₂ - b⋅x₂ + t_y"
      ]
     },
     "metadata": {},
     "output_type": "display_data"
    },
    {
     "data": {
      "image/png": "[encoded data removed]",
      "text/latex": [
       "$$a x_{3} + b y_{3} + t_{x}$$"
      ],
      "text/plain": [
       "a⋅x₃ + b⋅y₃ + tₓ"
      ]
     },
     "metadata": {},
     "output_type": "display_data"
    },
    {
     "data": {
      "image/png": "[encoded data removed]",
      "text/latex": [
       "$$a y_{3} - b x_{3} + t_{y}$$"
      ],
      "text/plain": [
       "a⋅y₃ - b⋅x₃ + t_y"
      ]
     },
     "metadata": {},
     "output_type": "display_data"
    },
    {
     "data": {
      "image/png": "[encoded data removed]",
      "text/latex": [
       "$$a x_{4} + b y_{4} + t_{x}$$"
      ],
      "text/plain": [
       "a⋅x₄ + b⋅y₄ + tₓ"
      ]
     },
     "metadata": {},
     "output_type": "display_data"
    },
    {
     "data": {
      "image/png": "[encoded data removed]",
      "text/latex": [
       "$$a y_{4} - b x_{4} + t_{y}$$"
      ],
      "text/plain": [
       "a⋅y₄ - b⋅x₄ + t_y"
      ]
     },
     "metadata": {},
     "output_type": "display_data"
    }
   ],
   "source": [
    "for eq in left_side:\n",
    "    display(eq)"
   ]
  },
  {
   "cell_type": "markdown",
   "metadata": {
    "collapsed": true
   },
   "source": [
    "## Referências\n",
    "\n",
    "[Tutorial de Sympy - exemplificando seus diversos recursos](https://minireference.com/static/tutorials/sympy_tutorial.pdf)\n",
    "\n",
    "\n",
    "\n"
   ]
  }
 ],
 "metadata": {
  "kernelspec": {
   "display_name": "Python 2",
   "language": "python",
   "name": "python2"
  },
  "language_info": {
   "codemirror_mode": {
    "name": "ipython",
    "version": 2
   },
   "file_extension": ".py",
   "mimetype": "text/x-python",
   "name": "python",
   "nbconvert_exporter": "python",
   "pygments_lexer": "ipython2",
   "version": "2.7.14"
  }
 },
 "nbformat": 4,
 "nbformat_minor": 1
}
