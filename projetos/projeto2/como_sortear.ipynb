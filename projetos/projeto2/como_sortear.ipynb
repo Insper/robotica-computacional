{
 "cells": [
  {
   "cell_type": "markdown",
   "metadata": {},
   "source": [
    "# Exemplo de reamostragem das partículas"
   ]
  },
  {
   "cell_type": "code",
   "execution_count": 1,
   "metadata": {},
   "outputs": [],
   "source": [
    "import numpy as np\n",
    "\n",
    "import projeto_pf # Seu trabalho vai aqui\n",
    "import inspercles\n",
    "from pf import draw_random_sample\n",
    "\n",
    "import sys\n",
    "if (sys.version_info > (3, 0)):\n",
    "    import importlib\n",
    "    importlib.reload(projeto_pf) # Para garantir que o Jupyter sempre relê seu trabalho\n",
    "else:\n",
    "    reload(projeto_pf)\n",
    "\n",
    "%matplotlib inline\n",
    "\n"
   ]
  },
  {
   "cell_type": "markdown",
   "metadata": {},
   "source": [
    "## Criação das partículas e do robô"
   ]
  },
  {
   "cell_type": "code",
   "execution_count": 2,
   "metadata": {},
   "outputs": [],
   "source": [
    "\n",
    "particulas = projeto_pf.cria_particulas()\n",
    "robot = projeto_pf.robot\n",
    "\n",
    "    \n",
    "    \n",
    "    \n",
    "    "
   ]
  },
  {
   "cell_type": "markdown",
   "metadata": {},
   "source": [
    "## Mapa com posição inicial"
   ]
  },
  {
   "cell_type": "markdown",
   "metadata": {},
   "source": [
    "Este desenho é só ilustrativo, você não vai precisar chamar o código de desenho no projeto. Somente precisa criar as funções adequadas em `projeto_pf.py`."
   ]
  },
  {
   "cell_type": "code",
   "execution_count": 3,
   "metadata": {
    "scrolled": false
   },
   "outputs": [
    {
     "data": {
      "text/plain": [
       "<matplotlib.axes._subplots.AxesSubplot at 0x1159b8400>"
      ]
     },
     "execution_count": 3,
     "metadata": {},
     "output_type": "execute_result"
    },
    {
     "data": {
      "image/png": "[encoded data removed]",
      "text/plain": [
       "<Figure size 720x720 with 1 Axes>"
      ]
     },
     "metadata": {},
     "output_type": "display_data"
    }
   ],
   "source": [
    "inspercles.nb_draw_map(inspercles.color_image, particles = particulas, pose=robot.pose(), robot=True)"
   ]
  },
  {
   "cell_type": "markdown",
   "metadata": {},
   "source": [
    "Vamos tornar a distribuição de probabilidade nas partículas bem desequilibrada para observarmos a reamostragem"
   ]
  },
  {
   "cell_type": "code",
   "execution_count": 4,
   "metadata": {},
   "outputs": [],
   "source": [
    "particulas[0].w = 0.8   # a primeira recebe 80% da probabilidade\n",
    "for i in range(1, 10):\n",
    "    particulas[i].w = 0.2/9.0 # As subsequentes 1/9 do que sobrou (20%)"
   ]
  },
  {
   "cell_type": "code",
   "execution_count": 5,
   "metadata": {},
   "outputs": [],
   "source": [
    "# Vamos separar a informação de posição das partículas para que possamos \"ver\"  as partículas\n",
    "particulas_exp = [[p.x, p.y, p.theta] for p in particulas]\n",
    "\n",
    "particulas_pesos = [np.round(p.w, decimals=3) for p in particulas]"
   ]
  },
  {
   "cell_type": "code",
   "execution_count": 6,
   "metadata": {},
   "outputs": [
    {
     "data": {
      "text/plain": [
       "[[428.49666229405864, 395.195761107146, 1.3925332016937961],\n",
       " [430.04900625585634, 337.88807341040336, 1.4274054560470013],\n",
       " [417.9306728556324, 380.8977895423057, 1.5081042352916574],\n",
       " [342.0697083835152, 364.547679139976, 1.7714029486591623],\n",
       " [358.1951683677989, 396.4717289612736, 1.7017219068879372],\n",
       " [359.42992815939755, 365.10579621539557, 0.43189554948008935],\n",
       " [421.85498144508455, 390.7156915027312, 0.24784426756693778],\n",
       " [402.7867527259397, 393.29623310187793, -0.20803078962487426],\n",
       " [351.11951990018093, 340.72262576874493, 1.8307383635140437],\n",
       " [357.27662125867016, 391.50159903001844, 1.3467271541816082]]"
      ]
     },
     "execution_count": 6,
     "metadata": {},
     "output_type": "execute_result"
    }
   ],
   "source": [
    "particulas_exp"
   ]
  },
  {
   "cell_type": "markdown",
   "metadata": {},
   "source": [
    "Vejam como está a distribuição dos pesos"
   ]
  },
  {
   "cell_type": "code",
   "execution_count": 7,
   "metadata": {},
   "outputs": [
    {
     "data": {
      "text/plain": [
       "[0.8, 0.022, 0.022, 0.022, 0.022, 0.022, 0.022, 0.022, 0.022, 0.022]"
      ]
     },
     "execution_count": 7,
     "metadata": {},
     "output_type": "execute_result"
    }
   ],
   "source": [
    "particulas_pesos"
   ]
  },
  {
   "cell_type": "markdown",
   "metadata": {},
   "source": [
    "## Fazendo a reamostragem"
   ]
  },
  {
   "cell_type": "markdown",
   "metadata": {},
   "source": [
    "Vamos criar novas partículas reamostrando usando a função `pf.draw_random_sample`"
   ]
  },
  {
   "cell_type": "code",
   "execution_count": 8,
   "metadata": {},
   "outputs": [],
   "source": [
    "novas_particulas = draw_random_sample(particulas, particulas_pesos, 10)"
   ]
  },
  {
   "cell_type": "markdown",
   "metadata": {},
   "source": [
    "A probabilidade que está em peso agora o sentido. Precisamos fazer com que todos os pesos novamente virem w=1  (ou $1/n$ como na folha de papel, tanto faz desde que todas fiquem iguais)"
   ]
  },
  {
   "cell_type": "code",
   "execution_count": 9,
   "metadata": {},
   "outputs": [],
   "source": [
    "for p in novas_particulas:\n",
    "    p.w = 1"
   ]
  },
  {
   "cell_type": "markdown",
   "metadata": {},
   "source": [
    "O array *novas_particulas* contém as partículas depois da reamostragem. "
   ]
  },
  {
   "cell_type": "markdown",
   "metadata": {},
   "source": [
    "## Depois da reamostragem"
   ]
  },
  {
   "cell_type": "markdown",
   "metadata": {},
   "source": [
    "Vamos observar os valores das partículas"
   ]
  },
  {
   "cell_type": "code",
   "execution_count": 10,
   "metadata": {},
   "outputs": [],
   "source": [
    "valores_novas_particulas = [[p.x, p.y, p.theta] for p in novas_particulas]"
   ]
  },
  {
   "cell_type": "markdown",
   "metadata": {},
   "source": [
    "Observem com a partícula que na geração anterior tinha $80\\%$ de probabilidade é muito mais comum agora\n",
    "\n",
    "\n",
    "**<font color=red>Note que para o projeto a partícula precisa sofrer uma pequena mutação</font>**"
   ]
  },
  {
   "cell_type": "code",
   "execution_count": 11,
   "metadata": {},
   "outputs": [
    {
     "data": {
      "text/plain": [
       "[[358.1951683677989, 396.4717289612736, 1.7017219068879372],\n",
       " [417.9306728556324, 380.8977895423057, 1.5081042352916574],\n",
       " [428.49666229405864, 395.195761107146, 1.3925332016937961],\n",
       " [428.49666229405864, 395.195761107146, 1.3925332016937961],\n",
       " [428.49666229405864, 395.195761107146, 1.3925332016937961],\n",
       " [357.27662125867016, 391.50159903001844, 1.3467271541816082],\n",
       " [359.42992815939755, 365.10579621539557, 0.43189554948008935],\n",
       " [428.49666229405864, 395.195761107146, 1.3925332016937961],\n",
       " [428.49666229405864, 395.195761107146, 1.3925332016937961],\n",
       " [430.04900625585634, 337.88807341040336, 1.4274054560470013]]"
      ]
     },
     "execution_count": 11,
     "metadata": {},
     "output_type": "execute_result"
    }
   ],
   "source": [
    "valores_novas_particulas"
   ]
  },
  {
   "cell_type": "markdown",
   "metadata": {},
   "source": [
    "![](animated.gif)"
   ]
  },
  {
   "cell_type": "code",
   "execution_count": null,
   "metadata": {},
   "outputs": [],
   "source": []
  }
 ],
 "metadata": {
  "kernelspec": {
   "display_name": "Python 3",
   "language": "python",
   "name": "python3"
  },
  "language_info": {
   "codemirror_mode": {
    "name": "ipython",
    "version": 3
   },
   "file_extension": ".py",
   "mimetype": "text/x-python",
   "name": "python",
   "nbconvert_exporter": "python",
   "pygments_lexer": "ipython3",
   "version": "3.5.5"
  }
 },
 "nbformat": 4,
 "nbformat_minor": 2
}
