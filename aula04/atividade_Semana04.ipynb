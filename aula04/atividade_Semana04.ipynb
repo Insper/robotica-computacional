{
 "cells": [
  {
   "cell_type": "markdown",
   "metadata": {},
   "source": [
    "# Entregável 3 de Visão Computacional e Robótica\n"
   ]
  },
  {
   "cell_type": "markdown",
   "metadata": {},
   "source": [
    "**Entrega até 29/03**\n",
    "\n",
    "\n",
    "Atenção: o grupo de 3 ou 4 pessoas desta atividade deve se manter fixo até a entrega do projeto.\n",
    "\n",
    "A rubrica para 4 pessoas é mais exigente que a de 3. Na prática conceito A para 3 pessoas é equivalente a conceito B para 3.\n",
    "\n",
    "A rubrica para 4 pessoas exige que seja empregado recursos de mapeamento [para tirar conceito A](https://github.com/Insper/404/blob/master/tutoriais/robotica/navigation_gazebo_simulador.md)|\n",
    "\n",
    "\n"
   ]
  },
  {
   "cell_type": "markdown",
   "metadata": {},
   "source": [
    "Nesta semana vamos trabalhar com o ROS\n"
   ]
  },
  {
   "cell_type": "markdown",
   "metadata": {},
   "source": [
    "## Referências:\n",
    "\n",
    "\n",
    "Tutoriais introdutórios de ROS:\n",
    "\n",
    "[https://github.com/Insper/robot21.1/blob/main/guides/simulador_ros.md](https://github.com/Insper/robot21.1/blob/main/guides/simulador_ros.md)\n",
    "\n",
    "[https://github.com/Insper/robot21.1/blob/main/guides/projeto_rospython.md](https://github.com/Insper/robot21.1/blob/main/guides/projeto_rospython.md)\n",
    "\n",
    "[https://github.com/Insper/robot21.1/blob/main/guides/ros_topics.md](https://github.com/Insper/robot21.1/blob/main/guides/ros_topics.md)\n",
    "\n",
    "ROS Robot Programming - capítulos 5 e 6:\n",
    "https://community.robotsource.org/t/download-the-ros-robot-programming-book-for-free/51"
   ]
  },
  {
   "cell_type": "markdown",
   "metadata": {},
   "source": [
    "## Instalações\n",
    "\n",
    "Para executar a aula de hoje, digite ou copie e cole estes comandos no terminal:\n",
    "\n",
    "```bash\n",
    "sudo apt install ros-noetic-turtlebot3-simulations\n",
    "\n",
    "sudo apt install ros-noetic-turtlebot3-description\n",
    "\n",
    "sudo apt-get install ros-noetic-tf2-tools\n",
    "\n",
    "pip3 install jupyterlab\n",
    "```"
   ]
  },
  {
   "cell_type": "code",
   "execution_count": 9,
   "metadata": {},
   "outputs": [],
   "source": [
    "import cv2\n",
    "import matplotlib.pyplot as plt\n",
    "import numpy as np\n",
    "import math"
   ]
  },
  {
   "cell_type": "markdown",
   "metadata": {
    "tags": []
   },
   "source": [
    "#Setup da infra\n",
    "\n",
    "\n",
    "Faça um clone de [https://github.com/insper/robot21.1/](https://github.com/insper/robot21.1/) **dentro** de sua pasta `catkin_ws/src`.\n",
    "\n",
    "    cd ~/catkin_ws/src\n",
    "    git clone https://github.com/insper/robot21.1/\n",
    "\n",
    "Atualize ou clone o `my_simulation`:\n",
    "\n",
    "```bash\n",
    "\n",
    "    cd ~/catkin_ws/src/my_simulation\n",
    "    git pull  \n",
    "\n",
    "```\n",
    "\n",
    "Certifique-se de que o caminho dos modelos contidos no `my_simulation` esteja contido no `.bashrc` **ou** no arquivo `robotica.sh` (olhe se contém a linha abaixo): \n",
    "\n",
    "    export GAZEBO_MODEL_PATH=~/catkin_ws/src/my_simulation/models:${GAZEBO_MODEL_PATH}\n",
    "\n",
    "Lembre-se de **sempre** executar o `catkin_make` depois de criar novos arquivos `*.py`\n",
    "\n",
    "    cd ~/catkin_ws\n",
    "    catkin_make\n",
    "\n",
    "\n",
    "Comandos para atualizar os repositórios\n",
    "```bash\n",
    "    cd ~/catkin_ws/src/mybot_description\n",
    "    git stash\n",
    "    git pull\n",
    "    cd ~/catkin_ws/src/my_simulation\n",
    "    git pull\n",
    "    cd ~/catkin_ws/src/robot21.1\n",
    "    git pull\n",
    "```"
   ]
  },
  {
   "cell_type": "markdown",
   "metadata": {},
   "source": [
    "## Ex1. Simulador\n",
    "\n",
    "Siga o tutorial [https://github.com/Insper/robot21.1/blob/main/guides/simulador_ros.md](https://github.com/Insper/robot21.1/blob/main/guides/simulador_ros.md) para rodar o simulador.\n",
    "\n",
    "**i.** Escreva o comando para rodar a simulação"
   ]
  },
  {
   "cell_type": "code",
   "execution_count": 10,
   "metadata": {},
   "outputs": [],
   "source": [
    "#!"
   ]
  },
  {
   "cell_type": "markdown",
   "metadata": {},
   "source": [
    "**ii.** Adicionar uma foto mostrando a simulação e o terminal como o exemplo abaixo."
   ]
  },
  {
   "cell_type": "markdown",
   "metadata": {},
   "source": [
    "#### Resposta:\n",
    "\n",
    "Salve sua resposta no lugar da imagem abaixo, como `img/parte1.png`.\n",
    "\n",
    "![Resposta Parte 1](img\\parte1.png)"
   ]
  },
  {
   "cell_type": "markdown",
   "metadata": {},
   "source": [
    "**Nota:** \n",
    "\n",
    "Para estes exercícios e os que vêm a seguir usaremos o seguinte exemplo:\n",
    "\n",
    "\n",
    "```bash    \n",
    "\n",
    "roslaunch my_simulation pista_s2.launch\n",
    "\n",
    "````\n"
   ]
  },
  {
   "cell_type": "markdown",
   "metadata": {},
   "source": [
    "# Ex.2 Teleop, `rostopic echo /cmd_vel` e foto do gato\n",
    "\n",
    "Utilize o teleop para controlar o robô. Depois, abra um terminal e se inscreva no tópico de velocidade do robo (`cmd_vel`).\n",
    "\n",
    "Abra o programa `rqt_image_view` na visão do robo\n",
    "\n",
    "Adicione na celula abaixo as seguintes respostas:\n",
    "\n",
    "i. Escreva o comando que usou para rodar o teleop"
   ]
  },
  {
   "cell_type": "code",
   "execution_count": 11,
   "metadata": {},
   "outputs": [],
   "source": [
    "#! "
   ]
  },
  {
   "cell_type": "markdown",
   "metadata": {},
   "source": [
    "ii. Comando para se inscrever para receber notificações no tópico de velocidade no terminal. Dica: é o nome do Ex.2"
   ]
  },
  {
   "cell_type": "code",
   "execution_count": 12,
   "metadata": {},
   "outputs": [],
   "source": [
    "#! "
   ]
  },
  {
   "cell_type": "markdown",
   "metadata": {},
   "source": [
    "ii. Enquanto o robo esta se aporixmando do GATO, tire uma foto mostrando:\n",
    "\n",
    "    a. O terminal com o topico de velocidade\n",
    "    \n",
    "    b. A janela do rqt_image_view com a camera do robo"
   ]
  },
  {
   "source": [
    "#### Resposta:\n",
    "\n",
    "Salve sua resposta no lugar da imagem abaixo, como `img/parte2.png`.\n",
    "\n",
    "![Resposta Parte 2](img\\parte2.png)"
   ],
   "cell_type": "markdown",
   "metadata": {}
  },
  {
   "cell_type": "markdown",
   "metadata": {
    "tags": []
   },
   "source": [
    "## Ex.3. Robô quadrado\n",
    "\n",
    "\n",
    "Usando o simulador, crie um código que faça o robô fazer uma trajetória que aproxima um quadrado. Trabalhe na pasta `aps4` no arquivo `quadrado.py`.\n",
    "\n",
    "**Faça comprovação em vídeo**"
   ]
  },
  {
   "cell_type": "markdown",
   "metadata": {},
   "source": [
    "Para o exercício abaixo recomendamos que execute com o cenário:\n",
    "\n",
    "    roslaunch turtlebot3_gazebo turbletbot2_house.launch"
   ]
  },
  {
   "cell_type": "markdown",
   "metadata": {
    "tags": []
   },
   "source": [
    "\n",
    "## Ex.4. Robô indeciso - laser\n",
    "\n",
    "Para fazer este exercício vamos usar a `turtlebot3_house`: \n",
    "\n",
    "    roslaunch turtlebot3_gazebo turtlebot3_house.launch\n",
    "\n",
    "Usando o simulador e o LIDAR simulado, faça um robô se afastar da parede quando o obstáculo bem à sua frente estiver a menos de $0.95 m$  e se aproximar quando estiver a mais de $1.05 m$ .\n",
    "\n",
    "Baseie-se no código `le_scan.py` e `roda.py`, desenvolvidos [durante o tutorial](https://github.com/Insper/robot21.1/blob/master/guides/projeto_rospython.md)\n",
    "\n",
    "Trabalhe na pasta `aps4` no arquivo `indeciso.py`\n",
    "\n",
    "\n",
    "\n",
    " **Faça comprovação em vídeo**. "
   ]
  },
  {
   "cell_type": "markdown",
   "metadata": {
    "tags": []
   },
   "source": [
    "\n",
    "## Ex.5 Desafio!\n",
    "\n",
    "Estude o código de `cor.py`, que está em `robot21.1/ros/exemplos211/scripts` Você pode começar executando este programa.\n",
    "\n",
    "Lembre-se de que você vai precisar estar conectado a algum robô simulado para poder testar, como o [my simulation ](https://github.com/.arnaldojr/my_simulation).\n",
    "\n",
    "\n",
    "Para este exercício voltamos ao cenário:\n",
    "\n",
    "```bash    \n",
    "\n",
    "roslaunch my_simulation pista_s2.launch\n",
    "\n",
    "````\n",
    "\n",
    "\n",
    "Em outro terminal execute:\n",
    "\n",
    "    rosrun exemplos211 cor.py\n",
    "\n",
    "\n",
    "\n",
    "###  O que é para fazer\n",
    "\n",
    "Modique este programa para que o robô centralize num creeper **laranja** ou **azul**.\n",
    "\n",
    "Depois de centralizar, usando a informação do *laser* (tópico `\\scan`) faça o robô se aproximar do *creeper* e parar a $30cm$ dele *ou* tocá-lo gentilmente.  Isso vai ser base para depois incluirmos o comando da garra do robô. \n",
    "\n",
    "Você deve testar com o robô começando de longe, a cerca de $2.50 m$ do creeper.\n",
    "\n",
    "Dica: use o *teleop* para se aproximar do creeper e capture uma imagem para facilitar a escolha de cores *HSV*. Relembre da [atividade da Aula 02](https://github.com/Insper/robot21.1/blob/main/aula02/aula02_ContornosHSV.ipynb).\n",
    "\n",
    "\n",
    "Para fazer o teleop: \n",
    "\n",
    "    rqt_image_view\n",
    "\n",
    "E depois digite:\n",
    "\n",
    "    roslaunch turtlebot3_teleop turtlebot3_teleop_key.launch\n",
    "\n",
    "Você vai ver uma imagem como a abaixo:\n",
    "\n",
    "![](rqt_image_view_creepers.png)\n",
    "\n",
    "\n",
    "\n",
    "Trabalhe na pasta  do seu github classroom\n",
    "\n",
    "Dentro do seu projeto, copie os arquivos `cor.py` e `cor\n",
    "\n",
    "O jeito sugerido de trabalhar é criar um projeto no Github, clonar seu Github *dentro* do `catkin_ws/src`  e criar um projeto ROS dentro dele.\n",
    "\n",
    "No seu gerenciador de arquivos do Linux, deve ficar assim:\n",
    "\n",
    "![](como_criar_projeto.png)\n",
    "\n",
    "## Vídeo do guia\n",
    "\n",
    "Em caso de dúvida sobre como proceder, por favor acompanhe o vídeo\n",
    "\n",
    "[https://www.youtube.com/watch?v=OKphJFyhnSg&feature=youtu.be](https://www.youtube.com/watch?v=OKphJFyhnSg&feature=youtu.be)\n",
    "\n",
    "\n",
    "Se der alguma coisa errada, consulte esse guia de sobrevivência ROS Gazebo, com alguns problemas comuns e suas soluções\n",
    "\n",
    "[https://www.youtube.com/playlist?list=PLM8rZg4fCalht-rexa91MO1y3jxm9mwOa](https://www.youtube.com/playlist?list=PLM8rZg4fCalht-rexa91MO1y3jxm9mwOa)"
   ]
  },
  {
   "cell_type": "code",
   "execution_count": null,
   "metadata": {},
   "outputs": [],
   "source": []
  }
 ],
 "metadata": {
  "kernelspec": {
   "display_name": "Python 3",
   "language": "python",
   "name": "python3"
  },
  "language_info": {
   "codemirror_mode": {
    "name": "ipython",
    "version": 3
   },
   "file_extension": ".py",
   "mimetype": "text/x-python",
   "name": "python",
   "nbconvert_exporter": "python",
   "pygments_lexer": "ipython3",
   "version": "3.8.5-final"
  }
 },
 "nbformat": 4,
 "nbformat_minor": 4
}