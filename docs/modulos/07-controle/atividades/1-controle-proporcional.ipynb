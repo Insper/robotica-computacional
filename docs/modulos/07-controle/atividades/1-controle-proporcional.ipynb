{
 "cells": [
  {
   "cell_type": "markdown",
   "metadata": {},
   "source": [
    "# Introdução ao Controle\n",
    "O controle é uma disciplina fundamental da engenharia que lida com a gestão dinâmica dos sistemas para que eles se comportem de maneira desejada. A essência do controle está em monitorar e ajustar automaticamente a operação de sistemas, desde simples dispositivos mecânicos até complexas redes de comunicação e sistemas robóticos.\n",
    "\n",
    "O princípio básico é regular as variáveis de um sistema mantendo-as próximas a um valor desejado ou setpoint. Isso é feita através do calculo do erro entre o valor desejado e o valor medido da variável controlada, e então aplicando ações corretivas para minimizar esse erro.\n",
    "\n",
    "## Tipos de Controle\n",
    "Existem dois tipos principais de controle: o controle em malha aberta e o controle em malha fechada:\n",
    "\n",
    "1. Controle em Malha Aberta: Não há feedback do processo. As ações de controle são baseadas em um conjunto pré-definido de instruções que não se alteram em resposta ao estado atual do sistema. Um exemplo simples seria um forno elétrico programado para ficar ligado por um tempo determinado, independentemente da temperatura real dentro do forno.\n",
    "\n",
    "2. Controle em Malha Fechada (ou Controle com Feedback): Usa o feedback do estado atual do sistema para tomar decisões de controle. Este tipo de controle é mais adaptativo e pode corrigir desvios em relação ao setpoint. Um exemplo seria adicionar um termostato ao forno elétrico para desligá-lo quando a temperatura desejada for atingida.\n",
    "\n",
    "## Controle Proporcional (P)\n",
    "Um dos métodos mais simples e amplamente utilizados no controle em malha fechada é o controle proporcional. Este método ajusta a saída do controlador de forma proporcional à diferença (erro) entre o valor desejado (setpoint) e o valor medido da variável controlada. O coeficiente que determina a relação entre o erro e a ação de controle é conhecido como ganho proporcional (K_p). Portanto uma ação de controle proporcional é dada pela seguinte equação:\n",
    "\n",
    "```python\n",
    "Ação de Controle = K_p * erro\n",
    "```\n",
    "\n",
    "Na esqueção acima, podemos ver que a ação de controle é proporcional ao erro. Se o erro for grande, a ação de controle será grande. Se o erro for pequeno, a ação de controle será pequena. Portanto no exemplo do forno elétrico, ao ligar o forno frio, o erro será grande e a ação de controle será grande, aumentando a potência do forno e elevando a temperatura rapidamente. À medida que a temperatura se aproxima do setpoint, o erro diminui reduzindo a potência do forno, evitando que a temperatura ultrapasse o setpoint drasticamente.\n",
    "\n",
    "## Resposta da Ação de Controle\n",
    "Outros conceitos importantes no controle são a resposta da ação de controle e o conceito de estabilidade. A resposta da ação de controle é a reação do sistema à ação de controle. Se a resposta for muito lenta, o sistema pode não atingir o setpoint ou pode crescer indefinidamente, levando o sistema a um estado instável. Se a resposta for muito rápida, o sistema pode ultrapassar o setpoint e oscilar em torno dele. Portanto, é importante ajustar o ganho proporcional para obter uma resposta rápida e estável.\n",
    "\n",
    "# Exemplo de Controle Proporcional\n",
    "A seguir, implementamos um exemplo simples de controle proporcional em Python. Neste exemplo, simulamos um sistema de controle de um drone que tenta manter a altitude constante para uma dada entrada de altitude, setpoint. Neste exemplo, você pode ajustar o ganho proporcional (K_p) e a resposta do sistema para visualizar como o controle proporcional afeta a resposta do sistema.\n",
    "\n",
    "A figura abaixo ilustra o sistema:\n",
    "\n",
    "![Drone](figs/drone.png)\n",
    "\n",
    "Durante seus experimentos, tente responder às seguintes perguntas:\n",
    "1. O que acontece se o ganho proporcional for muito baixo? E se for muito alto?\n",
    "2. Qual a relação entre o ganho proporcional e a resposta do sistema para o momento em que o sistema nunca atinge o setpoint, ou seja, o sistema é instável?"
   ]
  },
  {
   "cell_type": "code",
   "execution_count": 1,
   "metadata": {},
   "outputs": [
    {
     "data": {
      "application/vnd.jupyter.widget-view+json": {
       "model_id": "16bb64fae44e401db89d9a10da687c6c",
       "version_major": 2,
       "version_minor": 0
      },
      "text/plain": [
       "interactive(children=(FloatSlider(value=0.0, description='Kp (Ganho):', max=20.0), FloatSlider(value=0.25, des…"
      ]
     },
     "metadata": {},
     "output_type": "display_data"
    },
    {
     "data": {
      "text/plain": [
       "<function __main__.executar_simulacao(Kp, tempo_de_atualizacao, altitude_inicial)>"
      ]
     },
     "execution_count": 1,
     "metadata": {},
     "output_type": "execute_result"
    }
   ],
   "source": [
    "import numpy as np\n",
    "import matplotlib.pyplot as plt\n",
    "from ipywidgets import interact, FloatSlider\n",
    "\n",
    "# Parâmetros da simulação\n",
    "setpoint = 10.0  # Altitude desejada em metros\n",
    "\n",
    "def controle_proporcional(setpoint, altitude_atual, Kp):\n",
    "    \"\"\"\n",
    "    Calcula a velocidade do rotor necessária para ajustar a altitude do drone com base no erro entre a altitude desejada e a atual.\n",
    "\n",
    "    Args:\n",
    "        setpoint (float): Altitude alvo desejada em metros.\n",
    "        altitude_atual (float): Altitude atual do drone em metros.\n",
    "        Kp (float): Ganho proporcional.\n",
    "        \n",
    "    Returns:\n",
    "        float: Ajuste da velocidade do rotor (W).\n",
    "    \"\"\"\n",
    "    erro = setpoint - altitude_atual\n",
    "    W = Kp * erro  # Velocidade do rotor para ajustar a altitude\n",
    "    return W\n",
    "\n",
    "def resposta_do_sistema(W, altitude_atual, tempo_de_atualizacao):\n",
    "    \"\"\"\n",
    "    Simula a resposta da altitude do drone ao ajuste da velocidade do rotor.\n",
    "\n",
    "    Args:\n",
    "        W (float): Velocidade do rotor ajustada pelo controlador.\n",
    "        altitude_atual (float): Altitude atual do drone em metros.\n",
    "        tempo_de_atualizacao (float): Intervalo de tempo para cada atualização em segundos.\n",
    "        \n",
    "    Returns:\n",
    "        float: Altitude atualizada.\n",
    "    \"\"\"\n",
    "    # Mudança de altitude como resposta direta ao ajuste da velocidade do rotor\n",
    "    nova_altitude = altitude_atual + W * tempo_de_atualizacao\n",
    "    return nova_altitude\n",
    "\n",
    "def executar_simulacao(Kp, tempo_de_atualizacao, altitude_inicial):\n",
    "    \"\"\"\n",
    "    Executa a simulação de ajuste de altitude para o drone, permitindo a interação do usuário com parâmetros do sistema.\n",
    "\n",
    "    Args:\n",
    "        Kp (float): Ganho proporcional.\n",
    "        tempo_de_atualizacao (float): Intervalo de atualização em segundos.\n",
    "        altitude_inicial (float): Altitude inicial do drone em metros.\n",
    "    \"\"\"\n",
    "    tempos = np.arange(0, 10 + tempo_de_atualizacao, tempo_de_atualizacao)  # Simular por 10 segundos\n",
    "    altitudes = [altitude_inicial]\n",
    "    altitude_atual = altitude_inicial\n",
    "    \n",
    "    for t in tempos[1:]:\n",
    "        W = controle_proporcional(setpoint, altitude_atual, Kp)\n",
    "        altitude_atual = resposta_do_sistema(W, altitude_atual, tempo_de_atualizacao)\n",
    "        altitudes.append(altitude_atual)\n",
    "    \n",
    "    plt.figure(figsize=(10, 5))\n",
    "    plt.plot(tempos, altitudes, label='Altitude do Drone')\n",
    "    plt.plot(tempos, [setpoint] * len(tempos), 'r--', label='Altitude Alvo')\n",
    "    plt.title(f'Controle de Altitude do Drone com Kp={Kp}, Tempo de Atualização={tempo_de_atualizacao}s, Altitude Inicial={altitude_inicial}')\n",
    "    plt.xlabel('Tempo (segundos)')\n",
    "    plt.ylabel('Altitude (metros)')\n",
    "    plt.legend()\n",
    "    plt.grid(True)\n",
    "    plt.show()\n",
    "\n",
    "# Widget interativo\n",
    "interact(executar_simulacao, \n",
    "         Kp=FloatSlider(value=0.0, min=0.0, max=20.0, step=0.1, description='Kp (Ganho):'),\n",
    "         tempo_de_atualizacao=FloatSlider(value=0.25, min=0.05, max=1.0, step=0.05, description='Tempo de Atualização (s):'),\n",
    "         altitude_inicial=FloatSlider(value=0.0, min=0, max=20.0, step=1.0, description='Altitude Inicial (m):'))\n"
   ]
  }
 ],
 "metadata": {
  "kernelspec": {
   "display_name": "tf2",
   "language": "python",
   "name": "python3"
  },
  "language_info": {
   "codemirror_mode": {
    "name": "ipython",
    "version": 3
   },
   "file_extension": ".py",
   "mimetype": "text/x-python",
   "name": "python",
   "nbconvert_exporter": "python",
   "pygments_lexer": "ipython3",
   "version": "3.8.12"
  }
 },
 "nbformat": 4,
 "nbformat_minor": 2
}
