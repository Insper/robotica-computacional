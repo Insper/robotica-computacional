{
 "cells": [
  {
   "cell_type": "markdown",
   "metadata": {},
   "source": [
    "# Detecção de Objetos Complexos com Redes Neurais\n",
    "\n",
    "Nesta semana vamos trabalhar com um assunto extremamente atual: reconhecimento de objetos e rastreamento de objetos em vídeos. \n",
    "\n",
    "Para isso, vamos utilizar uma arquitetura de rede neural chamada **MobileNet**, que é uma rede neural convolucional (CNN) desenvolvida para dispositivos móveis.\n",
    "\n",
    "A arquitetura da **MobileNet** é otimizada para consumir pouca memória e processamento, sendo ideal para dispositivos com poucos recursos computacionais, como smartphones, tablets, Raspberry Pi, etc."
   ]
  },
  {
   "cell_type": "markdown",
   "metadata": {},
   "source": [
    "Referências:"
   ]
  },
  {
   "cell_type": "markdown",
   "metadata": {},
   "source": [
    "[https://www.pyimagesearch.com/2018/07/30/opencv-object-tracking/](https://www.pyimagesearch.com/2018/07/30/opencv-object-tracking/)\n",
    "\n",
    "[https://github.com/iArunava/YOLOv3-Object-Detection-with-OpenCV/](https://github.com/iArunava/YOLOv3-Object-Detection-with-OpenCV/)\n",
    "\n",
    "[https://www.pyimagesearch.com/2017/09/11/object-detection-with-deep-learning-and-opencv/](https://www.pyimagesearch.com/2017/09/11/object-detection-with-deep-learning-and-opencv/)"
   ]
  },
  {
   "cell_type": "markdown",
   "metadata": {},
   "source": [
    "Nesta atividade você aprenderá a:\n",
    "\n",
    "1. Carregar uma rede neural pré-treinada;\n",
    "2. Detectar objetos em imagens e vídeos;\n",
    "3. Processar a saída da rede neural.\n",
    "\n",
    "O objetivo desta atividade é detectar vacas e lobos e avaliar se há uma situação de perigo ou não perigo para as vacas. A figura abaixo mostra um exemplo de situação de perigo e não perigo. É considerado perigo quando os lobos estão flanqueando as vacas, ou seja, quando os lobos estão cercando as vacas.\n",
    "\n",
    "Devido a limitações no treinaento da rede neural, considere que toda detecção de `dog`, `horse`  e `sheep` também será de lobos.\n",
    "\n",
    "**Perigo**\n",
    "\n",
    "![perigo](img/perigo.jpg)\n",
    "\n",
    "**Não perigo**\n",
    "\n",
    "![nao_perigo](img/nao_perigo.jpg)"
   ]
  },
  {
   "cell_type": "code",
   "execution_count": 1,
   "metadata": {},
   "outputs": [],
   "source": [
    "import sys\n",
    "import cv2\n",
    "import matplotlib.pyplot as plt\n",
    "import numpy as np\n",
    "import math\n",
    "\n",
    "from cow_wolf import DangerDetector"
   ]
  },
  {
   "cell_type": "markdown",
   "metadata": {},
   "source": [
    "## Herdar a Classe do MobileNet\n",
    "\n",
    "No arquivo [cow_wolf.py](cow_wolf.py) modifique a classe `DangerDetector` para herdar da classe `MobileNetDetector`, que está no arquivo [module_net.py](module_net.py). \n",
    "\n",
    "Baixe o arquivos com os pesos da MobileNet no zip do Modulo 6 (estão no diretório `config`).\n",
    "\n",
    "Certifique-se que os arquivos de pesos da MobileNet estão no diretório indicado na chamada do construtor da classe `MobileNetDetector`."
   ]
  },
  {
   "cell_type": "code",
   "execution_count": 2,
   "metadata": {},
   "outputs": [
    {
     "name": "stdout",
     "output_type": "stream",
     "text": [
      "[{'classe': 'cow', 'confidence': 0.9906375, 'bbox': (379, 131, 560, 251)}, {'classe': 'horse', 'confidence': 0.9441148, 'bbox': (53, 103, 297, 286)}, {'classe': 'horse', 'confidence': 0.93702084, 'bbox': (626, 103, 860, 285)}]\n"
     ]
    }
   ],
   "source": [
    "img = cv2.imread(\"img/cow_wolf_1.png\")\n",
    "\n",
    "# Carregar classe\n",
    "Detector = DangerDetector(CONFIDENCE = 0.7)\n",
    "\n",
    "image, resultados = Detector.detect(img)\n",
    "\n",
    "print(resultados)\n",
    "\n",
    "# Saida Esperada para \"cow_wolf_1.png\":\n",
    "# [{'classe': 'cow', 'confidence': 0.9906375, 'bbox': (379, 131, 181, 120)}, {'classe': 'horse', 'confidence': 0.9441148, 'bbox': (53, 103, 244, 183)}, {'classe': 'horse', 'confidence': 0.93702084, 'bbox': (626, 103, 234, 182)}]"
   ]
  },
  {
   "cell_type": "markdown",
   "metadata": {},
   "source": [
    "## Região de Perigo\n",
    "\n",
    "Modifique a função `separar_caixa_entre_animais` do arquivo [atividade3.py](atividade3.py) utilizando a saida da MobileNet para:\n",
    "\n",
    "* Definir uma caixa azul sobre cada vaca;\n",
    "\n",
    "* Definir uma caixa vermelha **unindo** todos os lobos."
   ]
  },
  {
   "cell_type": "code",
   "execution_count": 3,
   "metadata": {},
   "outputs": [],
   "source": [
    "saida, animais = Detector.separar_caixa_entre_animais(img, resultados)\n",
    "\n",
    "cv2.imshow(\"Saida\", saida)\n",
    "cv2.waitKey(0)\n",
    "cv2.destroyAllWindows()\n",
    "\n",
    "# Saida Esperada:\n",
    "# Caixa vermelha sobre todos os lobos e uma caixa azul em cada vaca"
   ]
  },
  {
   "cell_type": "markdown",
   "metadata": {},
   "source": [
    "## Descubra se a vaca esta em perigo\n",
    "Modifique a função `checar_perigo` do arquivo [atividade3.py](atividade3.py) para passar por cada vaca. Utilize a função `calcula_iou` do arquivo [atividade3.py](atividade3.py) para calcular se existe intersecção entre as caixas.\n",
    "\n",
    "Escreva sobre cada vaca se ela esta ou não em perigo.\n",
    "Vermelho para perigo, se não, azul.\n",
    "\n",
    "**Explicação do IoU (Intersection over Union):** \n",
    "\n",
    "* https://www.pyimagesearch.com/2016/11/07/intersection-over-union-iou-for-object-detection/"
   ]
  },
  {
   "cell_type": "code",
   "execution_count": 4,
   "metadata": {},
   "outputs": [],
   "source": [
    "saida = Detector.checar_perigo(saida, animais)\n",
    "\n",
    "cv2.imshow(\"Saida\", saida)\n",
    "cv2.waitKey(0)\n",
    "cv2.destroyAllWindows()\n",
    "\n",
    "# Saida Esperada:\n",
    "# Vaca esta em perigo (em vermelho) para a imagem cow_wolf01.png"
   ]
  },
  {
   "cell_type": "markdown",
   "metadata": {},
   "source": [
    "Agora modifique a imagem de entrada para uma das imagens abaixo e avalie o resultado com o esperado.\n",
    "1. [img/cow_wolf01.png](img/cow_wolf01.png) - Perigo\n",
    "2. [img/cow_wolf02.png](img/cow_wolf02.png) - Perigo\n",
    "3. [img/cow_wolf03.png](img/cow_wolf03.png) - Não\n",
    "4. [img/cow_wolf04.png](img/cow_wolf04.png) - Não\n",
    "5. [img/cow_wolf05.png](img/cow_wolf05.png) - Não"
   ]
  }
 ],
 "metadata": {
  "kernelspec": {
   "display_name": "Python 3",
   "language": "python",
   "name": "python3"
  },
  "language_info": {
   "codemirror_mode": {
    "name": "ipython",
    "version": 3
   },
   "file_extension": ".py",
   "mimetype": "text/x-python",
   "name": "python",
   "nbconvert_exporter": "python",
   "pygments_lexer": "ipython3",
   "version": "3.8.12"
  }
 },
 "nbformat": 4,
 "nbformat_minor": 4
}
