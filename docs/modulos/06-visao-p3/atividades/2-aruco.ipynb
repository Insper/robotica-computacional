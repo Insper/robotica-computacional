{
 "cells": [
  {
   "cell_type": "markdown",
   "metadata": {},
   "source": [
    "# Pose e Transformação Coordenada Usando Marcadores Aruco\n",
    "\n",
    "Nesta atividade, vamos aprender sobre o conceito de pose e transformação coordenada. Vamos também aprender como usar marcadores Aruco para estimar a distância e orientação de um objeto em relação a câmera. Depois, vamos usar essa informação para transformar a coordenada do objeto para a coordenada da câmera.\n",
    "\n",
    "## O que é Pose?\n",
    "Pose é a posição e orientação de um objeto em relação a um sistema de coordenada. Sistema de coordenada é um conjunto de eixos que definem a posição e orientação de um objeto.\n",
    "\n",
    "Na imagem abaixo, temos dois sistemas de coordenadas diferentes, um para a câmera e outro global (World). Cada um desses sistemas de coordenadas tem sua origem (ponto de referência) e seus eixos.  \n",
    "\n",
    "![Pose](img/pose.png)\n",
    "\n",
    "Em geral, quando utilizamos visão computacional, o sistema de coordenadas da câmera é o que chamamos de *camera frame* e o sistema de coordenadas global é o que chamamos de *world frame*.\n",
    "\n",
    "## Componentes da Pose\n",
    "### Posição\n",
    "A posição de um objeto é geralmente representada por um vetor t⃗=[tx,ty,tz]t\n",
    "=[tx​,ty​,tz​] que indica o deslocamento do objeto em relação a um sistema de coordenadas em cada um dos eixos.\n",
    "\n",
    "### Orientação - Euler Angles\n",
    "A orientação de um objeto pode ser descrita através de ângulos de Euler. Estes são três ângulos que especificam a rotação do objeto em torno dos eixos XX, YY, e ZZ. Geralmente, rotações nos eiros XX, YY, e ZZ são chamadas de roll, pitch, e yaw, respectivamente, como mostrado na imagem abaixo.\n",
    "\n",
    "![Euler Angles](img/euler.jpg)\n",
    "\n",
    "Este método é intuitivo, mas pode sofrer de \"gimbal lock\". Gimbal lock é um problema que ocorre quando dois dos eixos de rotação estão alinhados. Neste caso, a rotação em torno de um eixo é perdida, gerando ambiguidade na orientação do objeto.\n",
    "\n",
    "### Orientação - Quaternion\n",
    "\n",
    "Uma alternativa aos ângulos de Euler é o uso de quaternions. Um quaternion é uma estrutura matemática que evita o problema de gimbal lock e é computacionalmente mais eficiente para algumas operações. Ele é representado como q=w+xi+yj+zkq=w+xi+yj+zk.\n",
    "\n",
    "Assista o vídeo abaixo para entender como funciona a representação de orientação usando quaternions.\n",
    "\n",
    "[Quaternions and 3d rotation, explained interactively](https://www.youtube.com/watch?v=zjMuIxRvygQ&t=233s)\n"
   ]
  },
  {
   "cell_type": "markdown",
   "metadata": {},
   "source": [
    "## Marcadores Aruco\n",
    "Marcadores ArUco são marcadores quadrados binários que são muito eficazes para determinar a pose. Eles são frequentemente usados em realidade aumentada e robótica para rastreamento de posição e orientação.\n",
    "\n",
    "No arquivo [module_aruco.py](module_aruco.py), temos uma classe que encapsula as funções necessárias para detectar marcadores Aruco e estimar a pose do marcador em relação a câmera, ou seja, no sistema de coordenadas da **câmera**.\n",
    "A classe também possui uma função para desenhar o marcador na imagem.\n",
    "\n",
    "Cada marcador Aruco possui um ID único. O ID é um número inteiro que varia de 0 a 249.\n",
    "\n",
    "O exemplo abaixo mostra como usar a classe Aruco para detectar marcadores Aruco e desenhar o marcador na imagem."
   ]
  },
  {
   "cell_type": "code",
   "execution_count": null,
   "metadata": {},
   "outputs": [],
   "source": [
    "from module_aruco import Aruco3d\n",
    "import cv2\n",
    "import numpy as np\n",
    "import matplotlib.pyplot as plt\n",
    "#inicializa a classe Aruco3d\n",
    "Arucos = Aruco3d()\n",
    "\n",
    "bgr = cv2.imread(\"img/aruco.jpg\")\n",
    "#Chama a funcao detectaAruco\n",
    "bgr, results = Arucos.detectaAruco(bgr)\n",
    "bgr = Arucos.drawAruco(bgr, results[0])\n",
    "\n",
    "print('Vetor de translação: ', results[0]['tvec'])\n",
    "print('Vetor de rotação: ', results[0]['rvec'])\n",
    "\n",
    "print(f'Saida da funcao: {results[0].keys()}')\n",
    "\n",
    "cv2.imshow(\"Aruco\", bgr)\n",
    "cv2.waitKey(0)\n",
    "cv2.destroyAllWindows()"
   ]
  },
  {
   "cell_type": "markdown",
   "metadata": {},
   "source": [
    "Pelo exemplo, podemos ver que a podemos detectar todos os marcadores Aruco na imagem usando o atributo da classe `detectaAruco`.\n",
    "A saida é uma lista de dicionários, onde cada dicionário contém as seguintes chaves:\n",
    "\n",
    "* `id`: ID do marcador\n",
    "\n",
    "* `corners`: coordenadas dos cantos do marcador na imagem\n",
    "\n",
    "* `centro`: coordenadas do centro do marcador na imagem\n",
    "\n",
    "* `tvec`: vetor de translação do marcador em relação a câmera [tx, ty, tz]\n",
    "\n",
    "* `rvec`: vetor de rotação do marcador em relação a câmera [rx, ry, rz]\n",
    "\n",
    "* `distancia`: distância do marcador em relação a câmera - calculada usando o vetor de translação\n",
    "\n",
    "Você pode também rodar diretamente o arquivo [module_aruco.py](module_aruco.py) para ver o resultado da detecção de marcadores Aruco.\n",
    "\n",
    "Modifique a função `main` para rodar usando a webcam do seu computador e verifique o mesmo efeito desenvolvido na APS 2.\n",
    "\n",
    "**Pergunta:** A distância do marcador em relação a câmera está correta? Por que?\n",
    "\n",
    "<p>\n",
    "<details>\n",
    "<summary>Spoiler</summary>\n",
    "\n",
    "A distância do marcador em relação a câmera não está correta. Porque o arquivo de calibração utilizado foi gerado para a câmera do robô e não para a webcam do seu computador.\n",
    "\n",
    "</details>\n",
    "</p>"
   ]
  }
 ],
 "metadata": {
  "kernelspec": {
   "display_name": "Python 3",
   "language": "python",
   "name": "python3"
  },
  "language_info": {
   "codemirror_mode": {
    "name": "ipython",
    "version": 3
   },
   "file_extension": ".py",
   "mimetype": "text/x-python",
   "name": "python",
   "nbconvert_exporter": "python",
   "pygments_lexer": "ipython3",
   "version": "3.8.12"
  }
 },
 "nbformat": 4,
 "nbformat_minor": 4
}
