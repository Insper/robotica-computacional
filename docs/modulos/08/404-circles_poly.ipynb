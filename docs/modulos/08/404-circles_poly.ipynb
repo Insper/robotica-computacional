{
 "cells": [
  {
   "cell_type": "markdown",
   "metadata": {},
   "source": [
    "# Detecção de Retas e Círculos com a Transformada de Hough\n",
    "\n",
    "A **Transformada de Hough** é uma metodologia capaz de fazer a detecção de objetos baseados em figuras geométricas ou em uma nuvem de pontos. O OpenCV implementa a Transformada de Hough para a detecção de lihas retas e círculos. "
   ]
  },
  {
   "cell_type": "code",
   "execution_count": 2,
   "metadata": {},
   "outputs": [],
   "source": [
    "import cv2\n",
    "import hough_helper\n",
    "from matplotlib import pyplot as plt\n",
    "import numpy as np"
   ]
  },
  {
   "cell_type": "markdown",
   "metadata": {},
   "source": [
    "# Detecção de retas Usando a Transformada de Hough\n",
    "\n",
    "Para detectar as retas, a transformada de Hough levanta todas as possíveis retas que passam por um determinado ponto de borda, representadas por seus parâmetros $\\rho$ e $\\theta$. Os parâmetros dessas retas recebem um voto em uma *matriz de votação*, ou *acumulador*. Quanto mais pontos uma determinada reta pode cruzar, mais votos seus parãmetros receberão.\n",
    "\n",
    "## Encontrar os Pontos de Borda\n",
    "\n",
    "Para encontrar os pontos de borda, podemos usar o método de Canny, por exemplo.\n",
    "\n",
    "Lembrando que para usar o método de Canny, precisamos de uma imagem em escala de cinza."
   ]
  },
  {
   "cell_type": "code",
   "execution_count": 3,
   "metadata": {},
   "outputs": [
    {
     "data": {
      "text/plain": [
       "<Figure size 576x576 with 0 Axes>"
      ]
     },
     "metadata": {},
     "output_type": "display_data"
    }
   ],
   "source": [
    "img = cv2.imread('img/dave.jpg',cv2.IMREAD_GRAYSCALE)\n",
    "plt.figure(figsize=(8,8))\n",
    "\n",
    "bordas = hough_helper.auto_canny(img)\n",
    "\n",
    "cv2.imshow('Original', img)\n",
    "cv2.imshow('Bordas', bordas)\n",
    "cv2.waitKey(0)\n",
    "cv2.destroyAllWindows()"
   ]
  },
  {
   "cell_type": "markdown",
   "metadata": {},
   "source": [
    "## Uso da função HoughLines\n",
    "\n",
    "\n",
    "O uso básico da função para a detecção de retas com a Transformada de Hough é:\n",
    "\n",
    "    lines = cv2.HoughLines( image, rho, theta, threshold )\n",
    "    \n",
    "\n",
    "- `image`: Imagem de 8 bits contendo os pontos de borda na cor branca\n",
    "- `lines`: Matriz de saída das linhas detectadas. Cada linha da matriz contém 2 elementos (ρ,θ):\n",
    "    + `ρ` é a distancia da reta à origem das coordenadas (0,0)\n",
    "    + `θ` é o ângulo da reta\n",
    "- `rho`: Resolução da distância em pixels. 1 pixel está OK.\n",
    "- `theta`: Resolução do ângulo em radiandos. 1 rad está OK.\n",
    "- `threshold`: Limiar de detecção da reta. São retornadas apenas aquelas retas com número suficiente de votos (>`threshold`).\n",
    "\n",
    "A partir da imagem acima, vamos detectar as retas usando a Transformada de Hough e depois desenhá-las na imagem original."
   ]
  },
  {
   "cell_type": "code",
   "execution_count": 4,
   "metadata": {},
   "outputs": [],
   "source": [
    "lines = cv2.HoughLines(bordas, 1, np.pi/180, 100)\n",
    "img_retas = hough_helper.desenha_retas(img.copy(), lines)\n",
    "\n",
    "cv2.imshow('img_retas', img_retas)\n",
    "cv2.waitKey(0)\n",
    "cv2.destroyAllWindows()"
   ]
  },
  {
   "cell_type": "markdown",
   "metadata": {},
   "source": [
    "Podemos aplicar a técnica de *Non-Maximum Suppression*, ou seja, se encontrarmos uma boa reta $(\\rho, \\theta)$, descartamos as próximas que tenham parâmetros parecidos "
   ]
  },
  {
   "cell_type": "code",
   "execution_count": 5,
   "metadata": {},
   "outputs": [],
   "source": [
    "lines = cv2.HoughLines(bordas, 1, np.pi/180, 100)\n",
    "suppressed_lines = hough_helper.non_max_suppression(lines, 40, np.radians(20))\n",
    "img_retas_ = hough_helper.desenha_retas(img.copy(), suppressed_lines)\n",
    "\n",
    "cv2.imshow('img_retas', img_retas_)\n",
    "cv2.waitKey(0)\n",
    "cv2.destroyAllWindows()"
   ]
  },
  {
   "cell_type": "markdown",
   "metadata": {},
   "source": [
    "E se quisermos encontrar apenas as retas horizontais?\n",
    "\n",
    "Lembrando que a função `HoughLines` retorna os parâmetros $(\\rho, \\theta)$ de cada reta detectada, podemos usar o parâmetro `theta` para filtrar as retas horizontais.\n"
   ]
  },
  {
   "cell_type": "code",
   "execution_count": 7,
   "metadata": {},
   "outputs": [
    {
     "name": "stdout",
     "output_type": "stream",
     "text": [
      "[[[1.0, 1.5707964]], [[1.0, 0.0]], [[487.0, 1.5707964]], [[767.0, 1.5707964]], [[294.0, 1.5707964]], [[711.0, 1.5707964]], [[-480.0, 3.1241393]], [[114.0, 1.5707964]], [[-667.0, 3.0717795]], [[291.0, 0.034906585]], [[107.0, 0.08726646]]]\n",
      "[[[1.0, 1.5707964]], [[487.0, 1.5707964]], [[767.0, 1.5707964]], [[294.0, 1.5707964]], [[711.0, 1.5707964]], [[114.0, 1.5707964]]]\n"
     ]
    }
   ],
   "source": [
    "print(suppressed_lines)\n",
    "\n",
    "horizontal_lines = []\n",
    "for line in suppressed_lines:\n",
    "    rho, theta = line[0]\n",
    "        \n",
    "    if 1.4 < theta < 1.6: \n",
    "        horizontal_lines.append([[rho, theta]])\n",
    "\n",
    "print(horizontal_lines)\n",
    "img_retas_ = hough_helper.desenha_retas(img.copy(), horizontal_lines)\n",
    "\n",
    "cv2.imshow('img_retas', img_retas_)\n",
    "cv2.waitKey(0)\n",
    "cv2.destroyAllWindows()"
   ]
  },
  {
   "cell_type": "markdown",
   "metadata": {},
   "source": [
    "## A função HoughLinesP\n",
    "\n",
    "É uma implementação eficiente da função HoughLines ([ver explicação](https://docs.opencv.org/3.0-beta/doc/py_tutorials/py_imgproc/py_houghlines/py_houghlines.html)). Em vez de retornar os parâmetros da treta, retorna uma lista de segmentos de reta identificados pelos pontos `inicial` e `final`.\n"
   ]
  },
  {
   "cell_type": "code",
   "execution_count": 8,
   "metadata": {},
   "outputs": [],
   "source": [
    "lines = cv2.HoughLinesP(bordas, 10, np.pi/180.0, threshold=60, minLineLength=60, maxLineGap=10)\n",
    "\n",
    "a,b,c = lines.shape\n",
    "\n",
    "hough_img_rgb = cv2.cvtColor(bordas, cv2.COLOR_GRAY2BGR)\n",
    "\n",
    "for i in range(a):\n",
    "    # Faz uma linha ligando o ponto inicial ao ponto final, com a cor vermelha (BGR)\n",
    "    cv2.line(hough_img_rgb, (lines[i][0][0], lines[i][0][1]), (lines[i][0][2], lines[i][0][3]), (0, 0, 255), 5, cv2.LINE_AA)\n",
    "    \n",
    "cv2.imshow('img_retas', hough_img_rgb)\n",
    "cv2.waitKey(0)\n",
    "cv2.destroyAllWindows()"
   ]
  },
  {
   "cell_type": "markdown",
   "metadata": {},
   "source": [
    "## Encontrando circunferências na imagem\n",
    "\n",
    "A implementação da transformada de Hough para encontrar circunferências emprega algumas otimizações que tornam desnecessário encontrar as bordas da imagem antes. No entanto, se usarmos a imagem resultante da magnitude do gradiente, teremos um melhor resultado, pois as bordas estarão mais detacadas. Outras melhorias que podemos aplicar antes do realce das bordas são:\n",
    "\n",
    "- Leve redução do contraste para equilibrar a iluminação na imagem\n",
    "- Uso do filtro da mediana para atenuação de ruído\n",
    "\n",
    "O uso básico da função para a detecção de circunferências com a Transformada de Hough é:\n",
    "    \n",
    "    circles = cv2.HoughCircles(image, method, dp, minDist, param1, param2, minRadius, maxRadius)\n",
    "\n",
    "- `image`: Imagem de 8 bits onde as circunferências serão procuradas\n",
    "- `method`: método usado para encontrar os possíveis centros de cada circunferência. Aqui vamos usar `cv2.HOUGH_GRADIENT`.\n",
    "- `dp`: resolução usada na procura pelos centros das circunferências\n",
    "- `minDist`: menor distância permitida entre os centros das circunferências encontradas\n",
    "- `param1`: limiar empregado na detecção dos pontos de borda\n",
    "- `param2`: limiar de detecção da circunferência\n",
    "- `minRadius`: menor raio da circunferência a ser encontradas\n",
    "- `maxRadius`: maior raio da circunferência a ser encontradas\n",
    "\n",
    "Veja o exemplo do uso da função na imagem das bordas realçadas acima\n"
   ]
  },
  {
   "cell_type": "code",
   "execution_count": 9,
   "metadata": {},
   "outputs": [],
   "source": [
    "circles = cv2.HoughCircles(img, method=cv2.HOUGH_GRADIENT, dp=1, minDist=12, param1=40, param2=13, minRadius=10, maxRadius=14)\n",
    "\n",
    "img_circles = hough_helper.desenha_circulos(img, circles)\n",
    "cv2.imshow('original', img)\n",
    "cv2.imshow('img_circles', img_circles)\n",
    "cv2.waitKey(0)\n",
    "cv2.destroyAllWindows()"
   ]
  }
 ],
 "metadata": {
  "kernelspec": {
   "display_name": "env-disciplinas",
   "language": "python",
   "name": "python3"
  },
  "language_info": {
   "codemirror_mode": {
    "name": "ipython",
    "version": 3
   },
   "file_extension": ".py",
   "mimetype": "text/x-python",
   "name": "python",
   "nbconvert_exporter": "python",
   "pygments_lexer": "ipython3",
   "version": "3.8.12"
  },
  "vscode": {
   "interpreter": {
    "hash": "c3c1f728f6e08f7614d1cfcb40e5781c6629666b9d5e299f711ab38d3998c7b7"
   }
  }
 },
 "nbformat": 4,
 "nbformat_minor": 4
}
