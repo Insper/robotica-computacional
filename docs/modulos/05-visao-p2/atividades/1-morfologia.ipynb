{
 "cells": [
  {
   "cell_type": "markdown",
   "metadata": {
    "tags": []
   },
   "source": [
    "# Refinamento de Máscaras de Segmentação\n",
    "\n",
    "Nessa atividade, vamos aprender a refinar máscaras de segmentação utilizando operações morfológicas. Para isso, vamos utilizar a biblioteca OpenCV.\n",
    "\n",
    "Antes de começar, vamos abrir a imagem [cores.jpg](cores.jpg) da atividade de segmentação do módulo anterior e segmentar a cor roxa utilizando o espaço de cores HSV. Para isso, vamos utilizar o código abaixo:"
   ]
  },
  {
   "cell_type": "code",
   "execution_count": 3,
   "metadata": {},
   "outputs": [],
   "source": [
    "import cv2\n",
    "import matplotlib.pyplot as plt\n",
    "import numpy as np\n",
    "\n",
    "img = cv2.imread(\"img/cores.jpg\", cv2.IMREAD_COLOR)\n",
    "\n",
    "# Faz a conversão para o espaço HSV\n",
    "hsv = cv2.cvtColor(img, cv2.COLOR_BGR2HSV)\n",
    "\n",
    "# Segmenta apenas a cor violeta\n",
    "menor = (260//2, 50, 50)\n",
    "maior = (280//2, 255, 255)\n",
    "mask_violeta = cv2.inRange(hsv, menor, maior)\n",
    "\n",
    "cv2.imshow(\"image\", img)\n",
    "cv2.imshow(\"mask\", mask_violeta)\n",
    "cv2.waitKey()\n",
    "cv2.destroyAllWindows()"
   ]
  },
  {
   "cell_type": "markdown",
   "metadata": {},
   "source": [
    "Note que a mascara gerada ainda segmenta partes da imagem que não representam a cor roxa. Para remover essas partes, vamos utilizar operações morfológicas."
   ]
  },
  {
   "cell_type": "markdown",
   "metadata": {},
   "source": [
    "# Operações Morfológicas\n",
    "\n",
    "**DICA:** Tutorial de operações morfológicas do OpenCV: [OpenCV Morphological Operations Tutorial](https://docs.opencv.org/4.x/d9/d61/tutorial_py_morphological_ops.html)\n",
    "\n",
    "Nos exemplos anteriores, notamos frequentemente que as máscaras geradas apresentam buracos e/ou ilhas. Para esclarecer:\n",
    "- **Buracos** são pequenos segmentos de pixels pretos dentro de regiões de pixels brancos\n",
    "- **Ilhas** são pequenos segmentos de pixels brancos dentro de regiões de pixels pretos.\n",
    "\n",
    "Em geral, buracos e ilhas são regiões onde houve falha na segmentação da imagem. Para tratar imagens com esses problemas,\n",
    "a área de processamento de imagens usa um conjunto de técnicas conhecidas como *Morfologia Matemática*. Elas surgiram no problema de análise da estrutira de cristais, mas obtiveram muito sucesso na área de processamento de imagens.\n",
    "\n",
    "As operações de morfologia matemática se baseima na ideia de um **elemento estruturante** ou **kernel**, que podemos pensar em uma pequena janela quadrada, com as dimensões de poucos pixels, que vasculham a imagem realizando uma de duas operações básicas:\n",
    "\n",
    "1. **Erosão:** Esta operação causa o encolhimento de regiões brancas e o alargamento das regiões pretas. Na erosão, se qualquer pixel na área do elemento estruturante (kernel) é preto, o pixel central é convertido para preto. Essencialmente, isso remove pequenas manchas brancas (ilhas) e estreita regiões brancas maiores.\n",
    "\n",
    "2. **Dilatação:** O oposto da erosão, a dilatação expande as regiões brancas e reduz as regiões pretas. Se qualquer pixel na área do kernel é branco, o pixel central é convertido para branco. Isso aumenta as regiões brancas, preenchendo buracos e expandindo áreas brancas menores.\n",
    "\n",
    "Vamos examinar os resultados dessas no código seguinte:\n",
    "\n",
    "Nele, vamos utilizar as seguintes funções do OpenCV:\n",
    "\n",
    "* `cv2.getStructuringElement`: Cria um elemento estruturante (kernel) para ser utilizado nas operações morfológicas. Recebe os seguintes parâmetros:\n",
    "    * `shape`: Forma do kernel. Pode ser `cv2.MORPH_RECT` (retangular), `cv2.MORPH_ELLIPSE` (elíptico) ou `cv2.MORPH_CROSS` (cruz).\n",
    "    * `ksize`: Tamanho do kernel. Deve ser uma tupla com dois valores inteiros positivos.\n",
    "\n",
    "* `cv2.morphologyEx`: Aplica uma operação morfológica em uma imagem. Recebe os seguintes parâmetros:\n",
    "    * `src`: Imagem de entrada.\n",
    "    * `op`: Tipo de operação morfológica. Pode ser `cv2.MORPH_OPEN` (abertura), `cv2.MORPH_CLOSE` (fechamento), `cv2.MORPH_ERODE` (erosão) ou `cv2.MORPH_DILATE` (dilatação).\n",
    "    * `kernel`: Elemento estruturante (kernel) a ser utilizado na operação morfológica.\n"
   ]
  },
  {
   "cell_type": "code",
   "execution_count": null,
   "metadata": {},
   "outputs": [],
   "source": [
    "mask_violeta = cv2.inRange(hsv, menor, maior)\n",
    "\n",
    "# Definição do kernel\n",
    "kernel = cv2.getStructuringElement(cv2.MORPH_ELLIPSE, (5, 5))\n",
    "\n",
    "# Operações Morfológicas\n",
    "mask_erode = cv2.morphologyEx(mask_violeta, cv2.MORPH_ERODE, kernel)\n",
    "mask_dilate = cv2.morphologyEx(mask_violeta, cv2.MORPH_DILATE, kernel)\n",
    "\n",
    "cv2.imshow(\"image\", img)\n",
    "cv2.imshow(\"Erosao\", mask_erode)\n",
    "cv2.imshow(\"Dilatacao\", mask_dilate)\n",
    "cv2.waitKey()\n",
    "cv2.destroyAllWindows()"
   ]
  },
  {
   "cell_type": "markdown",
   "metadata": {},
   "source": [
    "A partir dessas duas operações, diversas outras são possíveis. Dessas, operações que encontram bastante utilidade prática em processamento de imagens é a de *abertura* e *fechamento*. \n",
    "\n",
    "### Abertura\n",
    "Na operação de abertura são realizadas as operações de erosão e depois de dilatação. A ideia é **eliminar pequenas ilhas**, que seriam eliminadas na erosão, e depois **restaurar as dimensões** dos agrupamentos brancos restantes. Vamos ver um exemplo de uso da abertura na máscara em que identificamos os trechos de cor violeta     \n",
    "\n",
    "No exemplo abaixo vamos utilizar um elemento estrutural no formato de um quadro 3x3, enquanto exploramos os efeitos, pense no que aconteceria se utilizássemos um elemento estruturante maior, como um quadro 5x5 ou 100x100. Ou ainda, o que aconteceria se utilizássemos um elemento estruturante com um formato diferente, como um círculo?\n",
    "\n",
    "Note que a abertura removeu as ilhas, mas manteve as dimensões dos agrupamentos brancos."
   ]
  },
  {
   "cell_type": "code",
   "execution_count": 5,
   "metadata": {},
   "outputs": [],
   "source": [
    "# Cria uma janela 3x3 como elemento estruturante este elemente tem a forma de um quadrado\n",
    "kernel = cv2.getStructuringElement(cv2.MORPH_RECT,(3,3))\n",
    "\n",
    "# realiza a abertura\n",
    "mask_open = cv2.morphologyEx(mask_violeta, cv2.MORPH_OPEN, kernel)\n",
    "\n",
    "cv2.imshow(\"image\", img)\n",
    "cv2.imshow(\"Original\", mask_violeta)\n",
    "cv2.imshow(\"Abertura\", mask_open)\n",
    "cv2.waitKey()\n",
    "cv2.destroyAllWindows()"
   ]
  },
  {
   "cell_type": "markdown",
   "metadata": {},
   "source": [
    "### Fechamento\n",
    "Na operação de fechamento são realizadas as operações de dilatação e depois de erosão. A ideia é **fechar pequenos buracos**, que seriam eliminadas na silatação, e depois **restaurar as dimensões** dos agrupamentos restantes. Vamos ver um exemplo de uso do fechamento na máscara em que identificamos os trechos de cor violeta. \n",
    "\n",
    "No exemplo abaixo vamos utilizar um elemento estrutural no formato de um quadro 3x3, enquanto exploramos os efeitos, pense no que aconteceria se utilizássemos um elemento estruturante maior, como um quadro 5x5 ou 100x100. Ou ainda, o que aconteceria se utilizássemos um elemento estruturante com um formato diferente, como um círculo?\n",
    "\n",
    "Note que o fechamento removeu os buracos, mas manteve as dimensões dos agrupamentos brancos."
   ]
  },
  {
   "cell_type": "code",
   "execution_count": 6,
   "metadata": {},
   "outputs": [],
   "source": [
    "# Cria uma janela 3x3 como elemento estruturante este elemente tem a forma de um quadrado\n",
    "kernel = cv2.getStructuringElement(cv2.MORPH_RECT,(3,3))\n",
    "\n",
    "# realiza a abertura\n",
    "mask_close = cv2.morphologyEx(mask_violeta, cv2.MORPH_CLOSE, kernel)\n",
    "\n",
    "cv2.imshow(\"image\", img)\n",
    "cv2.imshow(\"Original\", mask_violeta)\n",
    "cv2.imshow(\"Fechamento\", mask_close)\n",
    "cv2.waitKey()\n",
    "cv2.destroyAllWindows()"
   ]
  },
  {
   "cell_type": "markdown",
   "metadata": {},
   "source": [
    "Agora, vamos utilizar a abertura e o fechamento para refinar a máscara de segmentação da cor violeta. Para isso, vamos utilizar o código abaixo:\n",
    "\n",
    "Neste caso, vamos utilizar um elemento estruturante no formato de uma elipse 5x5. Escolhemos esse elemento porque a forma do objeto que queremos segmentar é mais próxima de uma elipse do que de um quadrado.\n",
    "\n",
    "Note que a abertura removeu as ilhas e o fechamento removeu os buracos, gerando uma máscara mais refinada."
   ]
  },
  {
   "cell_type": "code",
   "execution_count": 13,
   "metadata": {},
   "outputs": [],
   "source": [
    "# Cria uma janela 3x3 como elemento estruturante este elemente tem a forma de um quadrado\n",
    "kernel = cv2.getStructuringElement(cv2.MORPH_ELLIPSE,(5,5))\n",
    "\n",
    "# realiza a abertura\n",
    "mask = cv2.morphologyEx(mask_violeta, cv2.MORPH_OPEN, kernel)\n",
    "mask = cv2.morphologyEx(mask, cv2.MORPH_CLOSE, kernel)\n",
    "\n",
    "cv2.imshow(\"image\", img)\n",
    "cv2.imshow(\"Original\", mask_violeta)\n",
    "cv2.imshow(\"Resultado\", mask)\n",
    "cv2.waitKey()\n",
    "cv2.destroyAllWindows()"
   ]
  }
 ],
 "metadata": {
  "kernelspec": {
   "display_name": "Python 3 (ipykernel)",
   "language": "python",
   "name": "python3"
  },
  "language_info": {
   "codemirror_mode": {
    "name": "ipython",
    "version": 3
   },
   "file_extension": ".py",
   "mimetype": "text/x-python",
   "name": "python",
   "nbconvert_exporter": "python",
   "pygments_lexer": "ipython3",
   "version": "3.8.12"
  },
  "vscode": {
   "interpreter": {
    "hash": "c3c1f728f6e08f7614d1cfcb40e5781c6629666b9d5e299f711ab38d3998c7b7"
   }
  }
 },
 "nbformat": 4,
 "nbformat_minor": 4
}
