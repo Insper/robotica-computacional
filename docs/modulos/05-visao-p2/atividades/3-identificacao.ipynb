{
 "cells": [
  {
   "cell_type": "markdown",
   "metadata": {},
   "source": [
    "# Identificação de Objetos\n",
    "\n",
    "Nesta atividade, vamos explorar como identificar objetos encontrando seus contornos a partir de segmentação de cores.\n",
    "\n",
    "Detecção de contornos é uma técnica importante em visão computacional. A ideia é que os contornos são as bordas dos objetos, e portanto, podem ser usados para detectar a localização de objetos, além de outras métricas como centro, área, perímetro, etc.\n",
    "\n",
    "Fonte das imagens: [http://time.com/4299724/coca-cola-diet-coke-redesign/](http://time.com/4299724/coca-cola-diet-coke-redesign/)\n",
    "\n",
    "# Componentes conexos e contornos\n",
    "\n",
    "Neste exercicio vamos trabalhar na segunte imagem. Nosso objetivo é encontrar os contornos da **parte vermelha** das latinhas de coca-cola.\n",
    "\n",
    "![image.png](img/coke-cans.jpg)\n"
   ]
  },
  {
   "cell_type": "code",
   "execution_count": 1,
   "metadata": {},
   "outputs": [
    {
     "name": "stderr",
     "output_type": "stream",
     "text": [
      "Matplotlib is building the font cache; this may take a moment.\n"
     ]
    }
   ],
   "source": [
    "import cv2\n",
    "import numpy as np\n",
    "import matplotlib.pyplot as plt\n",
    "\n",
    "img = cv2.imread(\"img/coke-cans.jpg\")\n",
    "coke_hsv = cv2.cvtColor(img, cv2.COLOR_BGR2HSV)"
   ]
  },
  {
   "cell_type": "markdown",
   "metadata": {},
   "source": [
    "## Filtrando o objeto"
   ]
  },
  {
   "cell_type": "markdown",
   "metadata": {},
   "source": [
    "Revisando o círculo de cores HSV, temos:\n",
    "\n",
    "![](img/hsv_circle.png)\n",
    "\n",
    "Conforme ilustrado acima, a cor vermelha aparece em duas regiões distintas do círculo HSV: uma entre 0 e 30 graus e outra entre 330 e 360 graus.\n",
    "\n",
    "Uma limitação do OpenCV é sua incapacidade de realizar seleções em intervalos não contínuos diretamente, como seria necessário para a cor vermelha (-30 a 30 graus). Isso representa um desafio na segmentação eficaz do vermelho.\n",
    "\n",
    "No entanto, uma abordagem viável é realizar duas seleções de intervalos separadas para cada faixa do vermelho, aplicar a segmentação em ambas e, posteriormente, unir as duas máscaras resultantes. Esta técnica permite a segmentação eficiente da cor vermelha, contornando a restrição de seleção de intervalos do OpenCV.\n",
    "\n",
    "Abaixo, temos o código para realizar a segmentação da cor vermelha, neste código, combinamos as duas máscaras resultantes utilizando o operador lógico OR do OpenCV, que retorna branco se pelo menos um dos pixels for branco. A função `cv2.bitwise_or` recebe os seguintes parâmetros:\n",
    "\n",
    "* `cv2.bitwise_or(src, src2, **mask)`\n",
    "    * `src1`: primeira imagem, ou máscara, de entrada ou matriz real.\n",
    "    * `src2`: segunda imagem, ou máscara, de entrada ou matriz real.\n",
    "    * `mask` (opcional): máscara de entrada de 8 bits. A operação será realizada apenas nos elementos especificados pela máscara.\n",
    "\n",
    "Também temos o operator lógico AND, que retorna branco se ambos os pixels forem brancos, na função `cv2.bitwise_and`.\n",
    "\n",
    "Depois da execução do código abaixo, podemos notar que a segmentação resultante está muito boa, mas ainda há alguns ruídos."
   ]
  },
  {
   "cell_type": "code",
   "execution_count": 2,
   "metadata": {},
   "outputs": [],
   "source": [
    "cor_menor1 = np.array([172, 50, 50])\n",
    "cor_maior1 = np.array([180, 255, 255])\n",
    "mask_coke1 = cv2.inRange(coke_hsv, cor_menor1, cor_maior1)\n",
    "\n",
    "cor_menor2 = np.array([0, 50, 50])\n",
    "cor_maior2 = np.array([8, 255, 255])\n",
    "mask_coke2 = cv2.inRange(coke_hsv, cor_menor2, cor_maior2)\n",
    "\n",
    "mask_coke = cv2.bitwise_or(mask_coke1, mask_coke2)\n",
    "\n",
    "cv2.imshow(\"image\", img)\n",
    "cv2.imshow(\"mask 1\", mask_coke1)\n",
    "cv2.imshow(\"mask 2\", mask_coke2)\n",
    "cv2.imshow(\"mask\", mask_coke)\n",
    "cv2.waitKey()\n",
    "cv2.destroyAllWindows()\n"
   ]
  },
  {
   "cell_type": "markdown",
   "metadata": {
    "tags": []
   },
   "source": [
    "## Componentes conexos\n",
    "\n",
    "Após a segmentação da imagem por mascaramento, podemos observar que os pixels de interesse podem formar um ou mais grupos conectados entre si, ou seja, conjuntos de pixels que se comunicam através de algum caminho que passa apenas por pixels de interesse (brancos)\n",
    "\n",
    "No OpenCV, é possível encontrar componente conexos em imagens tons de cinza através da função `cv2.findContours()`. Ela considera pixels de valor maior do que 0 como pixels de interesse. \n",
    "\n",
    "Usamos a seguinte função para encontrar os contornos:\n",
    "\n",
    "```\n",
    "contours, hierarchy = cv2.findContours(mask, cv2.RETR_CCOMP, cv2.CHAIN_APPROX_NONE)\n",
    "```\n",
    "\n",
    "onde:\n",
    "* `mask` é a imagem com a máscara binária de entrada.\n",
    "* `cv2.RETR_CCOMP` indica que queremos organizar os contornos em componentes conexos e buracos dentro deles - veja mais detalhes em [Contours Hierarchy](https://docs.opencv.org/4.x/d9/d8b/tutorial_py_contours_hierarchy.html).\n",
    "* `cv2.CHAIN_APPROX_NONE` indica que queremos armazenar todos os pontos do contorno.\n",
    "* `contours` é uma lista de contornos. Cada contorno é uma lista de pontos (x, y) que formam o polígono que delimita o contorno.\n",
    "* `hierarchy` é uma lista indicando a organização dos contornos em termos dos componentes e de seus buracos.\n",
    "\n",
    "\n",
    "Os componentes conexos são representados através de seus contornos internos, ou seja, dos pixels de cada componente conexo que são vizinhos a pixels de fundo. Para desenhar os contornos em uma imagem, usamos a função `cv2.drawContours()`, que usamos da forma:\n",
    "\n",
    "```\n",
    "cv2.drawContours(img, contours, indice, cor)\n",
    "```\n",
    "\n",
    "* `img` é a imagem colorida ou tons de cinza onde serão desenhados os contornos.\n",
    "* `contours` é a lista de contornos obtida com `cv2.findContours()`, ou seja, recebe uma lista de lista. Então assumindo que `contours[i]` seja um contorno, a função esperaria uma sintaxe como `cv2.drawContours(img, [contours[i]], indice, cor)`.\n",
    "* `indice` é o índice do contorno dentro da lista a ser desenhado; se `-1` desenha todos os contornos\n",
    "* `cor` é a cor do pixel a ser usada para desenhar o contorno, por exemplo, `(255, 0, 0)` para azul. Se for `-1`, o contorno é **preenchido** com a cor."
   ]
  },
  {
   "cell_type": "code",
   "execution_count": 10,
   "metadata": {},
   "outputs": [
    {
     "name": "stdout",
     "output_type": "stream",
     "text": [
      "Numero de Contornos Encontrados: 111\n"
     ]
    }
   ],
   "source": [
    "contornos, arvore = cv2.findContours(mask_coke.copy(), cv2.RETR_TREE, cv2.CHAIN_APPROX_NONE) \n",
    "print(f'Numero de Contornos Encontrados: {len(contornos)}')\n",
    "\n",
    "contornos_img = img.copy()\n",
    "cv2.drawContours(contornos_img, contornos, -1, [255, 0, 0], 3)\n",
    "\n",
    "cv2.imshow(\"contornos_img\", contornos_img)\n",
    "cv2.waitKey()\n",
    "cv2.destroyAllWindows()"
   ]
  },
  {
   "cell_type": "markdown",
   "metadata": {},
   "source": [
    "## Medidas dos contornos\n",
    "\n",
    "A partir dos contornos, podemos tirar uma série de medidas como:\n",
    "- **Área:** número de pixels pertencentes ao contorno, calculada com `cv2.contourArea(contour)`\n",
    "- **Centro de massa:** linha e coluna do centro de massa do contorno\n",
    "- **Caixa delimitadora:** menor retângulo que contém o contorno, calculada com `cv2.boundingRect(contour)`"
   ]
  },
  {
   "cell_type": "markdown",
   "metadata": {},
   "source": [
    "### Maior contorno\n",
    "Utilizando a função `cv2.contourArea()` podemos calcular a área de cada contorno e assim encontrar o maior contorno.\n",
    "\n",
    "Na célula abaixo, apresentamos duas formas de encontrar o maior contorno dentre os contornos encontrados na imagem."
   ]
  },
  {
   "cell_type": "code",
   "execution_count": 11,
   "metadata": {},
   "outputs": [
    {
     "name": "stdout",
     "output_type": "stream",
     "text": [
      "Tempo de execução: 0.00154s\n",
      "Tempo de execução: 0.00037s\n"
     ]
    }
   ],
   "source": [
    "import time\n",
    "\n",
    "## Utilizando laço\n",
    "start = time.perf_counter()\n",
    "maior = None\n",
    "maior_area = 0\n",
    "for c in contornos:\n",
    "    area = cv2.contourArea(c)\n",
    "    if area > maior_area:\n",
    "        maior_area = area\n",
    "        maior = c\n",
    "\n",
    "print(f\"Tempo de execução: {time.perf_counter() - start:.5f}s\")\n",
    "\n",
    "## Utilizando max e key\n",
    "start = time.perf_counter()\n",
    "maior = max(contornos, key=cv2.contourArea)\n",
    "print(f\"Tempo de execução: {time.perf_counter() - start:.5f}s\")"
   ]
  },
  {
   "cell_type": "code",
   "execution_count": 15,
   "metadata": {
    "tags": []
   },
   "outputs": [],
   "source": [
    "contornos_img = img.copy()\n",
    "cv2.drawContours(contornos_img, [maior], -1, [255, 0, 0], 3)\n",
    "\n",
    "cv2.imshow(\"contornos_img\", contornos_img)\n",
    "cv2.waitKey()\n",
    "cv2.destroyAllWindows()"
   ]
  },
  {
   "cell_type": "markdown",
   "metadata": {},
   "source": [
    "### Centro de massa do contorno.\n",
    "\n",
    "O centro de massa de um contorno é calculado através da função `cv2.moments(contour)`, que retorna um dicionário com as seguintes chaves:\n",
    "* `m00`: área do contorno\n",
    "* `m10`: soma das coordenadas x dos pixels do contorno\n",
    "* `m01`: soma das coordenadas y dos pixels do contorno\n",
    "\n",
    "Essas chaves são usadas para calcular o centro de massa do contorno, que é dado por:\n",
    "```\n",
    "cX = int(M[\"m10\"] / M[\"m00\"])\n",
    "cY = int(M[\"m01\"] / M[\"m00\"])\n",
    "```\n",
    "\n",
    "Além disso, a função `cv2.moments(contour)` também retorna outras chaves que podem ser usadas para calcular outras medidas do contorno. Essas chaves não serão usadas no curso, mas são apresentadas abaixo para referência:\n",
    "\n",
    "* `m20`: soma das coordenadas x^2 dos pixels do contorno\n",
    "* `m11`: soma das coordenadas x*y dos pixels do contorno\n",
    "* `m02`: soma das coordenadas y^2 dos pixels do contorno\n",
    "* `m30`: soma das coordenadas x^3 dos pixels do contorno\n",
    "* `m21`: soma das coordenadas x^2*y dos pixels do contorno\n",
    "* `m12`: soma das coordenadas x*y^2 dos pixels do contorno\n",
    "* `m03`: soma das coordenadas y^3 dos pixels do contorno\n"
   ]
  },
  {
   "cell_type": "code",
   "execution_count": 17,
   "metadata": {},
   "outputs": [],
   "source": [
    "def crosshair(img, point, size, color):\n",
    "    \"\"\" Desenha um crosshair centrado no point.\n",
    "        point deve ser uma tupla (x,y)\n",
    "        color é uma tupla R,G,B uint8\n",
    "    \"\"\"\n",
    "    x,y = point\n",
    "    cv2.line(img,(x - size,y),(x + size,y),color,5)\n",
    "    cv2.line(img,(x,y - size),(x, y + size),color,5)\n",
    "\n",
    "    return img\n",
    "\n",
    "\"\"\" Retorna uma tupla (cx, cy) que desenha o centro do contorno\"\"\"\n",
    "M = cv2.moments(maior)\n",
    "# Usando a expressão do centróide definida em: https://en.wikipedia.org/wiki/Image_moment\n",
    "cX = int(M[\"m10\"] / M[\"m00\"])\n",
    "cY = int(M[\"m01\"] / M[\"m00\"])\n",
    "\n",
    "contornos_img = crosshair(contornos_img, (cX,cY), 10, (255,0,0))\n",
    "\n",
    "cv2.imshow(\"contornos_img\", contornos_img)\n",
    "cv2.waitKey()\n",
    "cv2.destroyAllWindows()"
   ]
  },
  {
   "cell_type": "markdown",
   "metadata": {},
   "source": [
    "#### Caixa delimitadora\n",
    "\n",
    "Em visão computacional, uma caixa delimitadora é um retângulo que delimita as coordenadas de um objeto. A caixa delimitadora é definida pelas coordenadas de seu canto **superior esquerdo** e sua **largura e altura**.\n",
    "\n",
    "Vamos calcular a caixa delimitadora da maior latinha de refrigerante na imagem."
   ]
  },
  {
   "cell_type": "code",
   "execution_count": 18,
   "metadata": {},
   "outputs": [],
   "source": [
    "# get bounding rect\n",
    "x, y, w, h = cv2.boundingRect(maior)\n",
    "\n",
    "cv2.rectangle(contornos_img, (x, y), (x+w, y+h), (0, 255, 0), 2)\n",
    "\n",
    "cv2.imshow(\"contornos_img\", contornos_img)\n",
    "cv2.waitKey()\n",
    "cv2.destroyAllWindows()"
   ]
  },
  {
   "cell_type": "markdown",
   "metadata": {},
   "source": [
    "# Prática\n",
    "\n",
    "**Exercício 1**: ainda trabalhando com as imagens das latinhas, use seus conhecimentos de segmentação de imagens para obter uma máscara que tenha somente o contorno externo das 4 latinhas.\n",
    "\n",
    "**Dica:** Pode utilizar a função `sorted´ para ordenar os contornos por área."
   ]
  },
  {
   "cell_type": "code",
   "execution_count": null,
   "metadata": {},
   "outputs": [],
   "source": []
  },
  {
   "cell_type": "markdown",
   "metadata": {},
   "source": [
    "**Exercício 2**: usando código, faça uma função que filtra a máscara anterior e deixa somente as latinhas da Coca-cola Life (a que tem a parte verde no topo).\n",
    "\n",
    "**Dica**: use as funções de contornos para analisar cada latinha individualmente. Depois disso, veja se a latinha contém uma quantidade de pixels verdes \"grande\"."
   ]
  },
  {
   "cell_type": "code",
   "execution_count": null,
   "metadata": {},
   "outputs": [],
   "source": []
  },
  {
   "cell_type": "markdown",
   "metadata": {},
   "source": [
    "**Exercício 3:** Abra a imagem `pingpong.jpg` e desenhe o centro de massa e a caixa delimitadora da bolinha laranja. Imprima também a sua área na tela."
   ]
  },
  {
   "cell_type": "code",
   "execution_count": null,
   "metadata": {},
   "outputs": [],
   "source": []
  },
  {
   "cell_type": "markdown",
   "metadata": {},
   "source": [
    "<div id=\"hough\"></div>"
   ]
  }
 ],
 "metadata": {
  "kernelspec": {
   "display_name": "Python 3 (ipykernel)",
   "language": "python",
   "name": "python3"
  },
  "language_info": {
   "codemirror_mode": {
    "name": "ipython",
    "version": 3
   },
   "file_extension": ".py",
   "mimetype": "text/x-python",
   "name": "python",
   "nbconvert_exporter": "python",
   "pygments_lexer": "ipython3",
   "version": "3.8.12"
  },
  "vscode": {
   "interpreter": {
    "hash": "c3c1f728f6e08f7614d1cfcb40e5781c6629666b9d5e299f711ab38d3998c7b7"
   }
  }
 },
 "nbformat": 4,
 "nbformat_minor": 4
}
