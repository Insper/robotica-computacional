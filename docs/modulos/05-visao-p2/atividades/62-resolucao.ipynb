{
 "cells": [
  {
   "cell_type": "markdown",
   "metadata": {},
   "source": [
    "# Resolução de Exercício - Visão Computacional\n",
    "\n",
    "Primeiro, leia atentamente o enunciado do exercício. Se desejar, você pode tentar resolvê-lo antes de ler a resolução, se não, baixe o arquivo do gabarito e acompanhe a resolução.\n",
    "\n",
    "A resolução foi levemente alterada para que o códig rode no notebook, mas o resultado é o mesmo.\n",
    "\n",
    "Pelo enunciado, o objetivo de exercício é implementar um algoritmo que identifique a posição das bandeiras na imagem, em qualquer posição e tamanho.\n",
    "\n",
    "Para isso, o primeiro passo é sempre ler a imagem e visualizá-la.\n",
    "\n",
    "## 1. Visualização do Problema"
   ]
  },
  {
   "cell_type": "code",
   "execution_count": 8,
   "metadata": {},
   "outputs": [],
   "source": [
    "import cv2\n",
    "import numpy as np\n",
    "import os\n",
    "\n",
    "for i in range(1,5):\n",
    "    img = cv2.imread(f'img/q1/teste{i}.png')\n",
    "    cv2.imshow(f'teste{i}.png', img)\n",
    "\n",
    "cv2.waitKey(0)\n",
    "cv2.destroyAllWindows()\n",
    "\n",
    "img = cv2.imread('img/q1/teste1.png')\n"
   ]
  },
  {
   "cell_type": "markdown",
   "metadata": {},
   "source": [
    "* Mas qual bandeira é de qual país?\n",
    "**Dica:** Google\n",
    "\n",
    "Pelas imagens, podemos ver que por mais que as bandeiras sejam parecidas, elas possuem algumas cores diferentes. Podemos usar isso para identificar as bandeiras.\n",
    "\n",
    "Note o seguinte:\n",
    "\n",
    "* Note que apenas uma bandeira (Irlanda) possui a cor laranja.\n",
    "\n",
    "* Apenas duas bandeiras (Italia e Irlanda) possuem a cor verde.\n",
    "\n",
    "* Das bandeiras que possuem as cores vermelha e branca (Singapura, Peru e Monaco):\n",
    "    * A bandeira do Peru possui mais da cor vermelha que da cor branca.\n",
    "\n",
    "    * A bandeira da Singapura possui uma lua e estrelas em branco, ou seja, possui mais branco que vermelho.\n",
    "\n",
    "    * A bandeira de Monaco possui cerca de metade de cada cor.\n",
    "\n",
    "Com isso em mente, já encontramos uma forma de identificar as bandeiras. Vamos encontrar as bandeiras na imagem, cortá-las e comparar as cores. Então podemos ir para o passo 2."
   ]
  },
  {
   "cell_type": "markdown",
   "metadata": {},
   "source": [
    "## 2. Detecção das Bandeiras\n",
    "\n",
    "Em todas as imagem, note que o fundo é sempre preto. Podemos usar isso para encontrar as bandeiras.\n",
    "\n",
    "Se criarmos uma máscara que ignore o fundo, podemos encontrar as bandeiras facilmente. Isso foi feito na função abaixo:"
   ]
  },
  {
   "cell_type": "code",
   "execution_count": 9,
   "metadata": {},
   "outputs": [],
   "source": [
    "def get_all_contours(bgr):\n",
    "    gray = cv2.cvtColor(bgr, cv2.COLOR_BGR2GRAY)\n",
    "    mask = cv2.inRange(gray, 20, 255)\n",
    "    contours, _ = cv2.findContours(mask, cv2.RETR_TREE, cv2.CHAIN_APPROX_SIMPLE)\n",
    "    \n",
    "    rects = []\n",
    "    for contour in contours:\n",
    "        rect = cv2.boundingRect(contour)\n",
    "        rects.append(rect)\n",
    "    \n",
    "    return bgr, rects\n",
    "\n",
    "bgr, rects = get_all_contours(img)\n",
    "\n",
    "bgr_ = bgr.copy()\n",
    "for rect in rects:\n",
    "    x, y, w, h = rect\n",
    "    cv2.rectangle(bgr_, (x, y), (x+w, y+h), (0, 255, 0), 2)\n",
    "\n",
    "cv2.imshow('img', bgr_)\n",
    "cv2.waitKey()\n",
    "cv2.destroyAllWindows()"
   ]
  },
  {
   "cell_type": "markdown",
   "metadata": {},
   "source": [
    "Nesta parte foi feito o seguinte:\n",
    "\n",
    "* Converter a imagem para Grayscale, que facilita a segmentação de branco ou preto.\n",
    "* Encontramos os contornos das mascaras, que são as bandeiras.\n",
    "* Encontramos o retângulo que envolve o contorno, que é a posição da bandeira.\n",
    "* Desenhamos o retângulo na imagem original.\n",
    "\n",
    "# 3. Comparação de Cores\n",
    "\n",
    "Agora, vamos encontrar os limites de cada cor na imagem, usar a função `cv2.inRange`, e calcular a area de cada cor. A cor com maior área é a cor predominante na imagem.\n",
    "\n",
    "Isso foi feito na função abaixo:"
   ]
  },
  {
   "cell_type": "code",
   "execution_count": 10,
   "metadata": {},
   "outputs": [],
   "source": [
    "colors = {\n",
    "    'orange': ((0, 100, 100), (20, 255, 255)),\n",
    "    'red': ((170, 100, 100), (180, 255, 255)),\n",
    "    'green': ((70, 100, 100), (80, 255, 255)),\n",
    "    'white': ((0, 0, 200), (180, 20, 255)),\n",
    "}\n",
    "\n",
    "kernel = np.ones((5,5),np.uint8)\n",
    "\n",
    "bandeiras = []\n",
    "\n",
    "def checar_bandeiras(hsv, rects):\n",
    "    for rect in rects:\n",
    "        x, y, w, h = rect\n",
    "        crop = hsv[y:y+h, x:x+w]\n",
    "        cv2.imshow('crop', cv2.cvtColor(crop, cv2.COLOR_HSV2BGR))\n",
    "\n",
    "        # Irlanda\n",
    "        if np.sum(cv2.inRange(crop, colors['orange'][0], colors['orange'][1])) > 0:\n",
    "            bandeiras.append(('irlanda', (x, y), (x+w, y+h)))\n",
    "        elif np.sum(cv2.inRange(crop, colors['green'][0], colors['green'][1])) > 0:\n",
    "            bandeiras.append(('italia', (x, y), (x+w, y+h)))\n",
    "        else:\n",
    "            mask_r = cv2.inRange(crop, colors['red'][0], colors['red'][1])\n",
    "            red = np.sum(mask_r) / 255\n",
    "            mask_w = cv2.inRange(crop, colors['white'][0], colors['white'][1])\n",
    "            white = np.sum(mask_w) / 255\n",
    "            if white > red:\n",
    "                bandeiras.append(('singapura', (x, y), (x+w, y+h)))\n",
    "            elif red > white:\n",
    "                bandeiras.append(('peru', (x, y), (x+w, y+h)))\n",
    "            else:\n",
    "                bandeiras.append(('monaco', (x, y), (x+w, y+h)))\n",
    "\n",
    "hsv = cv2.cvtColor(bgr, cv2.COLOR_BGR2HSV)\n",
    "checar_bandeiras(hsv, rects)"
   ]
  },
  {
   "cell_type": "markdown",
   "metadata": {},
   "source": [
    "Nesta parte foi feito o seguinte:\n",
    "\n",
    "* Criamos um dicinário com os limites de cada cor.\n",
    "\n",
    "* Para cada bandeira detectada, foi feito:\n",
    "    * Criamos uma máscara para a cor laranja, e calculamos a área. Se a área for maior que 0, a bandeira é da Irlanda.\n",
    "    * Criamos uma máscara para a cor verde, e calculamos a área. Se a área for maior que 0, a bandeira é da Itália (pois a Irlanda já foi detectada).\n",
    "    * Criamos uma máscara para a cor vermelha e para cor branca, e calculamos a área de cada uma. Se a área vermelha for maior que a branca, a bandeira é do Peru. Se a área branca for maior que a vermelha, a bandeira é da Singapura. As demais são a bandeira é de Monaco.\n",
    "\n",
    "Agora, podemos finalizar o código, indicando a posição e o país de cada bandeira.\n",
    "\n",
    "Abaixo usamos a função `cv2.putText` para escrever o nome do país na imagem, que recebe os seguintes parâmetros:\n",
    "\n",
    "* A imagem onde será escrito o texto.\n",
    "* O texto a ser escrito.\n",
    "* A posição do texto.\n",
    "* A fonte do texto.\n",
    "* O tamanho do texto.\n",
    "* A cor do texto.\n",
    "* A espessura do texto.\n",
    "* O tipo de linha do texto."
   ]
  },
  {
   "cell_type": "code",
   "execution_count": 12,
   "metadata": {},
   "outputs": [],
   "source": [
    "def draw_bandeiras(bgr):\n",
    "    for bandeira in bandeiras:\n",
    "        cv2.rectangle(bgr, bandeira[1], bandeira[2], (255, 0, 0), 5)\n",
    "        cv2.putText(bgr, bandeira[0], bandeira[1], cv2.FONT_HERSHEY_SIMPLEX, 1, (255, 0, 0), 2, cv2.LINE_AA)\n",
    "\n",
    "draw_bandeiras(bgr)\n",
    "cv2.imshow('img', bgr)\n",
    "cv2.waitKey()\n",
    "cv2.destroyAllWindows()"
   ]
  },
  {
   "cell_type": "markdown",
   "metadata": {},
   "source": [
    "Agora, execute o script do gabarito e veja o resultado."
   ]
  }
 ],
 "metadata": {
  "kernelspec": {
   "display_name": "Python 3 (ipykernel)",
   "language": "python",
   "name": "python3"
  },
  "language_info": {
   "codemirror_mode": {
    "name": "ipython",
    "version": 3
   },
   "file_extension": ".py",
   "mimetype": "text/x-python",
   "name": "python",
   "nbconvert_exporter": "python",
   "pygments_lexer": "ipython3",
   "version": "3.10.12"
  },
  "vscode": {
   "interpreter": {
    "hash": "c3c1f728f6e08f7614d1cfcb40e5781c6629666b9d5e299f711ab38d3998c7b7"
   }
  }
 },
 "nbformat": 4,
 "nbformat_minor": 4
}
