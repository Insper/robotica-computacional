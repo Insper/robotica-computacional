{
 "cells": [
  {
   "cell_type": "markdown",
   "metadata": {},
   "source": [
    "# Classes em Python\n",
    "\n",
    "Uma classe em Python é um mecanismo usado para criar novos tipos de objetos definidos pelo usuário, que combinam propriedades e comportamentos específicos. Classes são a estrutura básica do `paradigma de programação orientada a objetos` (POO), que permitem agrupar funções e variáveis relacionadas em um único objeto, facilitando a organização e a modularidade do código.\n",
    "\n",
    "Por exemplo, se quisermos representar um carro em nosso programa, podemos criar uma classe chamada \"Carro\". Esta classe pode ter atributos como \"cor\", \"marca\", \"modelo\", \"ano\" e pode ter métodos como \"acelerar\", \"frear\", \"estacionar\".\n",
    "\n",
    "## 1. Como Usar Classes em Python\n",
    "Vamos começar criando uma classe simples chamada Carro."
   ]
  },
  {
   "cell_type": "code",
   "execution_count": 15,
   "metadata": {},
   "outputs": [],
   "source": [
    "class Carro:\n",
    "    def __init__(self, cor, marca, modelo, ano):\n",
    "        self.cor = cor\n",
    "        self.marca = marca\n",
    "        self.modelo = modelo\n",
    "        self.ano = ano\n",
    "\n",
    "    def acelerar(self):\n",
    "        print(\"O carro está acelerando.\")\n",
    "\n",
    "    def frear(self):\n",
    "        print(\"O carro está freando.\")\n"
   ]
  },
  {
   "cell_type": "markdown",
   "metadata": {},
   "source": [
    "No exemplo acima, ```__init__``` é um método especial, chamado de construtor, que é chamado automaticamente sempre que criamos um novo objeto a partir dessa classe. Ele inicializa os atributos da classe.\n",
    "\n",
    "**Importante:** Note que  ```__init__``` é definido com dois sublinhados antes e depois do nome. Isso é uma convenção em Python para identificar métodos e atributos especiais.\n",
    "\n",
    "Os métodos acelerar e frear são comportamentos que o carro pode realizar.\n",
    "\n",
    "Podemos criar uma instância da classe Carro da seguinte forma:"
   ]
  },
  {
   "cell_type": "code",
   "execution_count": 16,
   "metadata": {},
   "outputs": [],
   "source": [
    "Meu_carro = Carro(\"Vermelho\", \"Ferrari\", \"458 Italia\", 2020)"
   ]
  },
  {
   "cell_type": "markdown",
   "metadata": {},
   "source": [
    "Em seguida, podemos usar os métodos e acessar os atributos da seguinte maneira:"
   ]
  },
  {
   "cell_type": "code",
   "execution_count": 17,
   "metadata": {},
   "outputs": [
    {
     "name": "stdout",
     "output_type": "stream",
     "text": [
      "Vermelho\n",
      "O carro está acelerando.\n"
     ]
    }
   ],
   "source": [
    "print(Meu_carro.cor)  # Saída: Vermelho\n",
    "Meu_carro.acelerar()  # Saída: O carro está acelerando."
   ]
  },
  {
   "cell_type": "markdown",
   "metadata": {},
   "source": [
    "## 2. Uso da instância interna da Classe\n",
    "\n",
    "O atributo `self` é uma referência à instância atual da classe e é usado para acessar variáveis e métodos da classe. O `self` é sempre o primeiro parâmetro de qualquer método da classe.\n",
    "\n",
    "Vamos usar a nossa classe Carro como exemplo:"
   ]
  },
  {
   "cell_type": "code",
   "execution_count": 18,
   "metadata": {},
   "outputs": [
    {
     "name": "stdout",
     "output_type": "stream",
     "text": [
      "O 458 Italia está acelerando.\n",
      "O 458 Italia está freando.\n"
     ]
    }
   ],
   "source": [
    "class Carro:\n",
    "    def __init__(self, cor: str, marca: str, modelo: str, ano: int) -> None:\n",
    "        self.cor = cor\n",
    "        self.marca = marca\n",
    "        self.modelo = modelo\n",
    "        self.ano = ano\n",
    "\n",
    "    def acelerar(self) -> None:\n",
    "        print(f'O {self.modelo} está acelerando.')\n",
    "\n",
    "    def frear(self) -> None:\n",
    "        print(f'O {self.modelo} está freando.')\n",
    "\n",
    "Meu_carro = Carro(\"Vermelho\", \"Ferrari\", \"458 Italia\", 2020)\n",
    "Meu_carro.acelerar()\n",
    "Meu_carro.frear()"
   ]
  },
  {
   "cell_type": "markdown",
   "metadata": {},
   "source": [
    "## 3. Decorador @staticmethod\n",
    "\n",
    "Em Python, o decorador @staticmethod é usado para indicar que um método é um método estático, ou seja, um método que pertence à classe, mas não é uma instância da classe. \n",
    "\n",
    "Isso significa que um método estático pode ser chamado sem criar um objeto da classe.\n",
    "\n",
    "Note que o método estático não pode acessar atributos da classe, pela ausência do parâmetro `self`."
   ]
  },
  {
   "cell_type": "code",
   "execution_count": 19,
   "metadata": {},
   "outputs": [
    {
     "name": "stdout",
     "output_type": "stream",
     "text": [
      "O carro possui 4 rodas.\n"
     ]
    }
   ],
   "source": [
    "class Carro:\n",
    "    def __init__(self, cor: str, marca: str, modelo: str, ano: int) -> None:\n",
    "        self.cor = cor\n",
    "        self.marca = marca\n",
    "        self.modelo = modelo\n",
    "        self.ano = ano\n",
    "\n",
    "    def acelerar(self) -> None:\n",
    "        print(f'O {self.modelo} está acelerando.')\n",
    "\n",
    "    def frear(self) -> None:\n",
    "        print(f'O {self.modelo} está freando.')\n",
    "    \n",
    "    @staticmethod\n",
    "    def numero_de_rodas():\n",
    "        print(\"O carro possui 4 rodas.\")\n",
    "\n",
    "Carro.numero_de_rodas()"
   ]
  },
  {
   "cell_type": "markdown",
   "metadata": {},
   "source": [
    "## 4. Herança de Classes\n",
    "\n",
    "Em Python, uma classe pode herdar de outra classe. Na nomeclatura de orientação a objetos, a classe que herda é chamada de **filha** e a classe que é herdada é chamada de **pai**. O uso de herança permite que a classe filha tenha todos os atributos e métodos da classe pai, além de poder adicionar, ou modificar os atributos e métodos."
   ]
  },
  {
   "cell_type": "code",
   "execution_count": 20,
   "metadata": {},
   "outputs": [
    {
     "name": "stdout",
     "output_type": "stream",
     "text": [
      "O Corolla está acelerando.\n",
      "O carro possui 4 rodas.\n",
      "Carregando 15 toneladas no caminhão.\n",
      "O caminhão possui 6 rodas.\n"
     ]
    }
   ],
   "source": [
    "# Classe filha Caminhao que herda de Carro\n",
    "class Caminhao(Carro):\n",
    "    def __init__(self, cor: str, marca: str, modelo: str, ano: int, capacidade_carga: int) -> None:\n",
    "        super().__init__(cor, marca, modelo, ano)  # Chama o construtor da classe pai\n",
    "        self.capacidade_carga = capacidade_carga  # Atributo adicional\n",
    "\n",
    "    def carregar(self, carga: int) -> None:\n",
    "        if carga <= self.capacidade_carga:\n",
    "            print(f\"Carregando {carga} toneladas no caminhão.\")\n",
    "        else:\n",
    "            print(\"Carga excede a capacidade máxima do caminhão!\")\n",
    "\n",
    "    # Sobrescrevendo o numero de rodas\n",
    "    @staticmethod\n",
    "    def numero_de_rodas():\n",
    "        print(\"O caminhão possui 6 rodas.\")\n",
    "    \n",
    "    # Sobrescrevendo o método frear\n",
    "\n",
    "# Exemplo de uso\n",
    "carro = Carro(\"Vermelho\", \"Toyota\", \"Corolla\", 2020)\n",
    "caminhao = Caminhao(\"Azul\", \"Volvo\", \"FH16\", 2021, 20)\n",
    "\n",
    "carro.acelerar()\n",
    "carro.numero_de_rodas()\n",
    "caminhao.carregar(15)\n",
    "caminhao.numero_de_rodas()\n"
   ]
  },
  {
   "cell_type": "markdown",
   "metadata": {},
   "source": [
    "## 5. Herança Multipla\n",
    "\n",
    "A herança múltipla em Python é um recurso que permite que uma classe herde de mais de uma classe pai. Isso significa que a classe filha pode acessar atributos e métodos de todas as classes das quais herda. \n",
    "\n",
    "Primeiramente vamos criar mais uma classe pai chamada `Barco`:"
   ]
  },
  {
   "cell_type": "code",
   "execution_count": 21,
   "metadata": {},
   "outputs": [],
   "source": [
    "class Barco:\n",
    "    def __init__(self, tipo: str, marca: str) -> None:\n",
    "        self.tipo = tipo\n",
    "        self.marca = marca\n",
    "\n",
    "    def navegar(self) -> None:\n",
    "        print(f'O {self.tipo} está navegando na água.')"
   ]
  },
  {
   "cell_type": "markdown",
   "metadata": {},
   "source": [
    "Agora, vamos criar a classe VeiculoAnfibio que herda de ambas as classes Carro e Barco:\n",
    "\n",
    "- Note que foi nescessario chamar o construtor de ambas as classes pai **diretamente**. Neste caso, usar `super()` só chamaria o construtor da primeira classe pai, que é a classe Carro.\n",
    "\n",
    "**Tarefa:** Leia atentamente o código abaixo e ao erro gerado. Corrija o erro e execute novamente."
   ]
  },
  {
   "cell_type": "code",
   "execution_count": null,
   "metadata": {},
   "outputs": [],
   "source": [
    "class VeiculoAnfibio(Carro, Barco):\n",
    "    def __init__(self, cor: str, marca_carro: str, modelo: str, tipo_barco: str, marca_barco: str) -> None:\n",
    "        Carro.__init__(self, cor, marca_carro, modelo, ano)\n",
    "        Barco.__init__(self, tipo_barco, marca_barco)\n",
    "\n",
    "    def modo_estrada(self) -> None:\n",
    "        print(f\"Modo estrada ativado: {self.modelo} de {self.marca} está dirigindo.\")\n",
    "\n",
    "    def modo_mar(self) -> None:\n",
    "        print(f\"Modo marítimo ativado: {self.tipo} de {self.marca} está navegando.\")\n",
    "\n",
    "veiculo_anfibio = VeiculoAnfibio(\"Verde\", \"Amphicar\", \"770\", \"Barco a Motor\", \"Amphicar\")\n",
    "veiculo_anfibio.modo_estrada()\n",
    "veiculo_anfibio.modo_mar()\n"
   ]
  },
  {
   "cell_type": "markdown",
   "metadata": {},
   "source": [
    "## 6. Pratica\n",
    "\n",
    "1. Adicionem um atributo chamado `velocidade` na classe `Carro` e modifiquem o método `acelerar` para que ele incremente o valor da velocidade em 10. Modifiquem o método `frear` para que ele zere a velocidade do carro."
   ]
  },
  {
   "cell_type": "code",
   "execution_count": null,
   "metadata": {},
   "outputs": [],
   "source": []
  }
 ],
 "metadata": {
  "kernelspec": {
   "display_name": "tf2",
   "language": "python",
   "name": "python3"
  },
  "language_info": {
   "codemirror_mode": {
    "name": "ipython",
    "version": 3
   },
   "file_extension": ".py",
   "mimetype": "text/x-python",
   "name": "python",
   "nbconvert_exporter": "python",
   "pygments_lexer": "ipython3",
   "version": "3.8.12"
  },
  "orig_nbformat": 4
 },
 "nbformat": 4,
 "nbformat_minor": 2
}
