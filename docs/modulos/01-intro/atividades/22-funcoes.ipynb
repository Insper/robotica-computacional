{
 "cells": [
  {
   "cell_type": "markdown",
   "metadata": {},
   "source": [
    "## 1. Anotações do tipo de Entrada / Saída de funções no python\n",
    "\n",
    "Vamos mudar o foco por um segundo e falar de funções. As anotações de tipo são uma nova funcionalidade adicionada no Python 3.5 que permite que você indique os tipos de variáveis esperados. As anotações de tipos em Python são apenas dicas e não fazem com que o código gere erros de execução se você passar um tipo diferente do sugerido.\n",
    "\n",
    "A vantagem principal é que isso melhora a legibilidade e a manutenção do código. Mostrando para o programador que tipo de variável é esperado e qual é o tipo de retorno da função."
   ]
  },
  {
   "cell_type": "code",
   "execution_count": 1,
   "metadata": {},
   "outputs": [
    {
     "name": "stdout",
     "output_type": "stream",
     "text": [
      "O resultado da soma é de a + b = 8\n"
     ]
    }
   ],
   "source": [
    "def adicionar(a: int, b: int):\n",
    "    return f\"O resultado da soma é de a + b = {a + b}\"\n",
    "\n",
    "resultado = adicionar(5, 3)\n",
    "print(resultado)\n"
   ]
  },
  {
   "cell_type": "markdown",
   "metadata": {},
   "source": [
    "## 2. Chamando funções através de dicionários\n",
    "\n",
    "Em Python, as funções são objetos de primeira classe, o que significa que podem ser atribuídas a variáveis, armazenadas em coleções como listas ou dicionários, e passadas como argumentos para outras funções. Utilizar dicionários para armazenar funções permite que você selecione e execute uma função com base em uma chave.\n",
    "\n",
    "Em robotica, isso será util para selecionar a ação que o robo deve executar com base em um **estado**.\n",
    "\n",
    "No exemplo abaixo, vamos enviar uma sequencia de comandos para o robo, e ele deve executar cada comando em sequencia. Para isso, vamos criar um dicionário com as funções que o robo pode executar, e vamos chamar a função que está no dicionário."
   ]
  },
  {
   "cell_type": "code",
   "execution_count": 6,
   "metadata": {},
   "outputs": [
    {
     "name": "stdout",
     "output_type": "stream",
     "text": [
      "\n",
      "Estado atual: forward\n",
      "O robô está indo para frente\n",
      "\n",
      "Estado atual: forward\n",
      "O robô está indo para frente\n",
      "\n",
      "Estado atual: left\n",
      "O robô está indo para esquerda\n",
      "\n",
      "Estado atual: right\n",
      "O robô está indo para direita\n",
      "\n",
      "Estado atual: stop\n",
      "O robô está parado\n"
     ]
    }
   ],
   "source": [
    "class Robot:\n",
    "    def __init__(self):\n",
    "        self.robot_state = 'stop'\n",
    "        self.state_machine = {\n",
    "            'forward': self.forward,\n",
    "            'left': self.left,\n",
    "            'right': self.right,\n",
    "            'stop': self.stop,\n",
    "        }\n",
    "    \n",
    "    def forward(self):\n",
    "        print(f'\\nEstado atual: {self.robot_state}')\n",
    "        print('O robô está indo para frente')\n",
    "\n",
    "    def left(self):\n",
    "        # Move subtraindo 1 uma coluna\n",
    "        # Atualiza a posição\n",
    "        print(f'\\nEstado atual: {self.robot_state}')\n",
    "        print('O robô está indo para esquerda')\n",
    "\n",
    "    def right(self):\n",
    "        # Move somando 1 uma coluna\n",
    "        # Atualiza a posição\n",
    "        print(f'\\nEstado atual: {self.robot_state}')\n",
    "        print('O robô está indo para direita')\n",
    "    \n",
    "    def stop(self):\n",
    "        # Não faz nada\n",
    "        print(f'\\nEstado atual: {self.robot_state}')\n",
    "        print('O robô está parado')\n",
    "\n",
    "    def control(self):\n",
    "        self.state_machine[self.robot_state]()\n",
    "\n",
    "robot = Robot()\n",
    "sequencia = ['forward', 'forward', 'left', 'right', 'stop']\n",
    "for robot_state in sequencia:\n",
    "    robot.robot_state = robot_state\n",
    "    robot.control()"
   ]
  },
  {
   "cell_type": "markdown",
   "metadata": {},
   "source": [
    "Neste exemplo temos o seguinte dicionário:\n",
    "\n",
    "```python\n",
    "        self.state_machine = {\n",
    "            'forward': self.forward,\n",
    "            'left': self.left,\n",
    "            'right': self.right,\n",
    "            'stop': self.stop,\n",
    "        }\n",
    "```\n",
    "\n",
    "Em robotica, uma maquina de estados é uma forma de organizar o comportamento do robo. Cada estado é uma função que o robo deve executar. A chave do dicionário é o nome do estado e o valor é a função que deve ser executada.\n",
    "\n",
    "A variavel `self.robot_state` é uma string que contem o nome do estado atual do robo. Para executar a função que corresponde ao estado atual, basta fazer:\n",
    "\n",
    "```python\n",
    "        self.state_machine[self.robot_state]()\n",
    "```\n",
    "\n",
    "Nesse caso, modificamos o valor da variavel `self.robot_state` de fora da classe, mas poderiamos ter feito isso dentro da classe."
   ]
  }
 ],
 "metadata": {
  "kernelspec": {
   "display_name": "tf2",
   "language": "python",
   "name": "python3"
  },
  "language_info": {
   "codemirror_mode": {
    "name": "ipython",
    "version": 3
   },
   "file_extension": ".py",
   "mimetype": "text/x-python",
   "name": "python",
   "nbconvert_exporter": "python",
   "pygments_lexer": "ipython3",
   "version": "3.8.12"
  },
  "orig_nbformat": 4
 },
 "nbformat": 4,
 "nbformat_minor": 2
}
