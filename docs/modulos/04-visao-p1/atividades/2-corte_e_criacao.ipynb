{
 "cells": [
  {
   "cell_type": "markdown",
   "metadata": {},
   "source": [
    "# Corte e Criação de Imagens\n",
    "\n",
    "# 1. Imagem como Matriz\n",
    "\n",
    "Uma imagem aberta com o OpenCV tem a estrutura de uma matriz do Numpy.\n",
    "\n",
    "Para manipular essa imagem, podemos usar a sintaze facilitada dessa biblioteca, bem como trabalhar com loops."
   ]
  },
  {
   "cell_type": "code",
   "execution_count": 5,
   "metadata": {},
   "outputs": [
    {
     "name": "stdout",
     "output_type": "stream",
     "text": [
      "OpenCV Version : 4.5.4 \n"
     ]
    }
   ],
   "source": [
    "import cv2\n",
    "import numpy as np\n",
    "import time\n",
    "print (\"OpenCV Version : %s \" % cv2.__version__)"
   ]
  },
  {
   "cell_type": "markdown",
   "metadata": {},
   "source": [
    "Vamos ler o arquivo [imagem.png](img/imagem.png).\n",
    "\n",
    "![imagem.png](img/imagem.png)"
   ]
  },
  {
   "cell_type": "code",
   "execution_count": 6,
   "metadata": {},
   "outputs": [
    {
     "data": {
      "text/plain": [
       "(512, 1024, 3)"
      ]
     },
     "execution_count": 6,
     "metadata": {},
     "output_type": "execute_result"
    }
   ],
   "source": [
    "img = cv2.imread(\"img/imagem.png\")\n",
    "img.shape"
   ]
  },
  {
   "cell_type": "code",
   "execution_count": 7,
   "metadata": {},
   "outputs": [],
   "source": [
    "cv2.imshow(\"Imagem BGR\", img)\n",
    "cv2.waitKey()\n",
    "cv2.destroyAllWindows()"
   ]
  },
  {
   "cell_type": "markdown",
   "metadata": {},
   "source": [
    "Note que, apesar de vermos a imagem em tons de cinza, ela tem os três componentes B, G, R.\n",
    "\n",
    "Vamos então convertê-la para níveis de cinza, usando a função `cvtColor()`.\n",
    "\n",
    "Note que a imagem de saída não tem mais o terceiro canal, mas se mantém inalterada em relação à original."
   ]
  },
  {
   "cell_type": "code",
   "execution_count": 8,
   "metadata": {},
   "outputs": [
    {
     "name": "stdout",
     "output_type": "stream",
     "text": [
      "(512, 1024)\n"
     ]
    }
   ],
   "source": [
    "entrada = cv2.cvtColor(img, cv2.COLOR_BGR2GRAY)\n",
    "print(entrada.shape)\n",
    "\n",
    "# Mostrar a imagem\n",
    "cv2.imshow(\"Imagem BGR\", img)\n",
    "cv2.imshow(\"Imagem Cinza\", entrada)\n",
    "cv2.waitKey()\n",
    "cv2.destroyAllWindows()"
   ]
  },
  {
   "cell_type": "markdown",
   "metadata": {},
   "source": [
    "## Criando uma imagem vazia.\n",
    "\n",
    "A seguir, vamos criar uma imagem, denominada **saida**, com o mesmo tamanho da imagem de entrada. Essa imagem possui todos os pixels com valor zero.\n",
    "\n",
    "Primeiramente vamos fazer uma cópia da imagem original, usando a função `copy()`, isso garantirá que a imagem de saída tenha o mesmo tamanho da imagem de entrada e **que a imagem de entrada não seja alterada**."
   ]
  },
  {
   "cell_type": "code",
   "execution_count": 9,
   "metadata": {},
   "outputs": [],
   "source": [
    "saida = entrada.copy()"
   ]
  },
  {
   "cell_type": "markdown",
   "metadata": {},
   "source": [
    "Voce pode mostrar a imagem usando a função `imshow()` e conferir que a imagem de saída é uma cópia da imagem de entrada.\n",
    "\n",
    "Podemos pintar a imagem de branco atribuindo o valor 255 a todos os pixels. Lembre-se que `:` significa todos os pixels."
   ]
  },
  {
   "cell_type": "code",
   "execution_count": 10,
   "metadata": {},
   "outputs": [],
   "source": [
    "saida[:] = 255"
   ]
  },
  {
   "cell_type": "markdown",
   "metadata": {},
   "source": [
    "Note que, depois de zerar, vemos a imagem toda como preto.\n",
    "\n",
    "**Pergunta 1:** O que acontece se atribuirmos o valor 127 a todos os pixels?\n",
    "\n",
    "**Pergunta 2:** O que aconteceria se fizéssemos `saida = entrada` para copiar a imagem?"
   ]
  },
  {
   "cell_type": "markdown",
   "metadata": {},
   "source": [
    "!!! resposta \"Respostas\"\n",
    "    1. A imagem ficaria com um tom de cinza médio.\n",
    "\n",
    "    2. Neste caso, a imagem de saída seria apenas um ponteiro para a imagem de entrada. Qualquer alteração em uma delas afetaria a outra."
   ]
  },
  {
   "cell_type": "code",
   "execution_count": 11,
   "metadata": {},
   "outputs": [],
   "source": [
    "cv2.imshow(\"Imagem Cinza\", entrada)\n",
    "cv2.imshow(\"Imagem Alterada\", saida)\n",
    "cv2.waitKey()\n",
    "cv2.destroyAllWindows()"
   ]
  },
  {
   "cell_type": "markdown",
   "metadata": {},
   "source": [
    "Outro forma de criar uma imagem vazia é usando `np.zeros_like()`.\n",
    "\n",
    "Esta função cria uma imagem com as mesmas dimensões, *like*, da imagem de entrada, mas com todos os pixels com valor 0."
   ]
  },
  {
   "cell_type": "code",
   "execution_count": 12,
   "metadata": {},
   "outputs": [],
   "source": [
    "saida = np.zeros_like(entrada, dtype=np.uint8)"
   ]
  },
  {
   "cell_type": "markdown",
   "metadata": {},
   "source": [
    "Podemos ver que a imagem é toda preta utilizando a função do numpy `np.unique()`.\n",
    "\n",
    "Esta função retorna os valores únicos de uma matriz."
   ]
  },
  {
   "cell_type": "code",
   "execution_count": 13,
   "metadata": {},
   "outputs": [
    {
     "name": "stdout",
     "output_type": "stream",
     "text": [
      "[0]\n"
     ]
    }
   ],
   "source": [
    "print(np.unique(saida))"
   ]
  },
  {
   "cell_type": "markdown",
   "metadata": {},
   "source": [
    "## 2. Cortando uma imagem\n",
    "\n",
    "A seguir, vamos aprender a cortar partes de uma imagem.\n",
    "\n",
    "Podemos fazer um corte horizontal e um cortes vertical utilizando a indexação inteligente do numpy.\n",
    "\n",
    "**Pergunta:** Na célula abaixo, porque estamos convertendo o valor para inteiro?"
   ]
  },
  {
   "cell_type": "code",
   "execution_count": 17,
   "metadata": {},
   "outputs": [],
   "source": [
    "horizontal = entrada.copy()\n",
    "vertical = entrada.copy()\n",
    "\n",
    "height, width = entrada.shape\n",
    "\n",
    "# Corte Horizontal\n",
    "horizontal[:int(height/2), :] = 0\n",
    "\n",
    "# Corte Vertical\n",
    "vertical[:, int(width/2):] = 0\n",
    "\n",
    "cv2.imshow(\"Entrada\", entrada)\n",
    "cv2.imshow(\"Horizontal\", horizontal)\n",
    "cv2.imshow(\"Vertical\", vertical)\n",
    "cv2.waitKey()\n",
    "cv2.destroyAllWindows()"
   ]
  },
  {
   "cell_type": "code",
   "execution_count": null,
   "metadata": {},
   "outputs": [],
   "source": []
  },
  {
   "cell_type": "markdown",
   "metadata": {},
   "source": [
    "##  Prática 4.2\n",
    "\n",
    "**Exercício 4.2.1**: Agora abra a imagem [img/arara.jpg](img/arara.jpg) e corte a imagem como na figura abaixo. Onde as partes brancas devem conter a arara e as partes pretas devem ser removidas, mantidas pretas.\n",
    "\n",
    "![template](img/template.png)"
   ]
  },
  {
   "cell_type": "code",
   "execution_count": 20,
   "metadata": {},
   "outputs": [],
   "source": [
    "bgr = cv2.imread(\"img/arara.jpg\")\n",
    "\n",
    "# # Desenvolva o código aqui # #"
   ]
  },
  {
   "cell_type": "code",
   "execution_count": null,
   "metadata": {},
   "outputs": [],
   "source": []
  }
 ],
 "metadata": {
  "kernelspec": {
   "display_name": "Python 3 (ipykernel)",
   "language": "python",
   "name": "python3"
  },
  "language_info": {
   "codemirror_mode": {
    "name": "ipython",
    "version": 3
   },
   "file_extension": ".py",
   "mimetype": "text/x-python",
   "name": "python",
   "nbconvert_exporter": "python",
   "pygments_lexer": "ipython3",
   "version": "3.10.12"
  }
 },
 "nbformat": 4,
 "nbformat_minor": 4
}
