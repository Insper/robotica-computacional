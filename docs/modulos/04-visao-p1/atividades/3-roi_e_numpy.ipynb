{
 "cells": [
  {
   "cell_type": "markdown",
   "id": "alike-andrew",
   "metadata": {},
   "source": [
    "#  ROI e NumPy\n",
    "\n",
    "Como o OpenCV usa o Numpy para guardar a imagem, é muito útil usar as funções dessa biblioteca. Ser competente em Numpy vai dar um boost nas suas habilidades com imagens."
   ]
  },
  {
   "cell_type": "code",
   "execution_count": 4,
   "id": "proprietary-print",
   "metadata": {
    "tags": []
   },
   "outputs": [
    {
     "name": "stdout",
     "output_type": "stream",
     "text": [
      "OpenCV Version : 4.5.3 \n"
     ]
    }
   ],
   "source": [
    "import cv2\n",
    "import numpy as np\n",
    "\n",
    "print (\"OpenCV Version : %s \" % cv2.__version__)"
   ]
  },
  {
   "cell_type": "markdown",
   "id": "4411b223",
   "metadata": {},
   "source": [
    "Cada seção deste guia apresenta operações frequentes e úteis com imagens. Use este notebook como consulta na hora de desenvolver as próximas atividades e APS."
   ]
  },
  {
   "cell_type": "markdown",
   "id": "capable-interest",
   "metadata": {},
   "source": [
    "Primeiramente vamos abrir a imagem da [arara](img/arara.jpg).\n",
    "\n",
    "![arara](img/arara.jpg)"
   ]
  },
  {
   "cell_type": "code",
   "execution_count": 5,
   "id": "middle-intake",
   "metadata": {},
   "outputs": [],
   "source": [
    "# Vamos ler a imagem da arara igual ao exemplo do notebook da última aula\n",
    "arara = cv2.imread(\"img/arara.jpg\")\n",
    "\n",
    "cv2.imshow(\"Arara\", arara)\n",
    "cv2.waitKey()\n",
    "cv2.destroyAllWindows()"
   ]
  },
  {
   "cell_type": "markdown",
   "id": "verbal-adolescent",
   "metadata": {},
   "source": [
    "## 1. ROI - Region of Interest\n",
    "\n",
    "* Determinação de uma região retangular na imagem que se quer processar, de fora que ela possua as características de interesse.\n",
    "\n",
    "* Uma ROI define uma sub-imagem da imagem original, com menos linhas e/cou colunas\n",
    "\n",
    "\n",
    "Para a definição de uma ROI, é necessário estabelecer:\n",
    "\n",
    "* A linha inicial (`miny`)\n",
    "\n",
    "* A coluna inicial (`minx`)\n",
    "\n",
    "* A linha final (`maxy`)\n",
    "\n",
    "* A coluna final (`maxx`)\n",
    "\n",
    "\n",
    "A imagem do OpenCV em Python é armazenada dentro de uma estrutura tipo `array` bidimensional (tons de cinza) ou tridimensional (colorida)do pacote `numpy`, que permite a definição de ROIs através do fatiamento (*slicing*) dos eixos do `array`. Dessa forma, recuperamos uma ROI através do acesso por chaves:\n",
    "\n",
    "`roi = imagem[minyy:maxy, minx:maxx]`\n",
    "\n",
    "**Atenção:** os limites `maxy` e `maxx`para a linha e coluna respectivamente não estão inclusos na ROI.\n",
    "Além disso, o acesso às linhas e colunas da nova imagem devem obedecer novos índices, começando pela linha 0 e coluna 0. \n"
   ]
  },
  {
   "cell_type": "code",
   "execution_count": 6,
   "id": "typical-tractor",
   "metadata": {
    "tags": []
   },
   "outputs": [],
   "source": [
    "minx, miny = 50, 50\n",
    "maxx, maxy = 250, 250"
   ]
  },
  {
   "cell_type": "markdown",
   "id": "charming-firmware",
   "metadata": {},
   "source": [
    "Agora vamos utilizar as variáveis para definir uma região, que marcaremos. Continuaremos usando a arara neste exemplo."
   ]
  },
  {
   "cell_type": "code",
   "execution_count": 9,
   "id": "fifteen-grocery",
   "metadata": {},
   "outputs": [],
   "source": [
    "yellow_bgr = (0,255,255)\n",
    "arara_corte = cv2.rectangle(arara, (minx, miny), (maxx, maxy), yellow_bgr, 2)"
   ]
  },
  {
   "cell_type": "markdown",
   "id": "09acf662",
   "metadata": {},
   "source": [
    "O comando `cv2.rectangle` desenha um retângulo na imagem. Para isso, temos os seguintes parâmetros:\n",
    "\n",
    "* A imagem que será desenhada\n",
    "\n",
    "* As coordenadas do canto **superior esquerdo**\n",
    "\n",
    "* As coordenadas do canto **inferior direito**\n",
    "\n",
    "* A cor do retângulo\n",
    "\n",
    "* A espessura da linha, mude para `-1` para preencher o retângulo"
   ]
  },
  {
   "cell_type": "code",
   "execution_count": 10,
   "id": "headed-moderator",
   "metadata": {},
   "outputs": [],
   "source": [
    "cv2.imshow(\"Arara\", arara_corte)\n",
    "cv2.waitKey()\n",
    "cv2.destroyAllWindows()"
   ]
  },
  {
   "cell_type": "markdown",
   "id": "russian-bernard",
   "metadata": {},
   "source": [
    "Vamos agora usar os valores do retângulo para recortar a imagem:"
   ]
  },
  {
   "cell_type": "code",
   "execution_count": 11,
   "id": "weekly-comparison",
   "metadata": {},
   "outputs": [],
   "source": [
    "recorte = arara_corte[miny: maxy,minx: maxx]\n",
    "\n",
    "cv2.imshow(\"Arara\", arara_corte)\n",
    "cv2.imshow(\"Recorte\", recorte)\n",
    "cv2.waitKey()\n",
    "cv2.destroyAllWindows()"
   ]
  },
  {
   "cell_type": "markdown",
   "id": "legendary-saudi",
   "metadata": {},
   "source": [
    "## 2. Mínimo, máximo, média, etc\n",
    "\n",
    "Com o Numpy é muito fácil tirar estatísticas da imagem. \n",
    "\n",
    "Aqui vamos trabalhar com uma imagem em tons de cinza, mas desta vez vamos enviar um argumento para a função `cv2.imread` para ler a imagem **diretamente** em tons de cinza.\n",
    "\n",
    "Neste exercício vamos visualizar a imagem do [RinTinTin](img/RinTinTin.jpg).\n",
    "\n",
    "Referencia: https://en.wikipedia.org/wiki/Rin_Tin_Tin"
   ]
  },
  {
   "cell_type": "code",
   "execution_count": 13,
   "id": "stone-wyoming",
   "metadata": {},
   "outputs": [],
   "source": [
    "rintin_gray = cv2.imread(\"img/RinTinTin.jpg\", cv2.IMREAD_GRAYSCALE)\n",
    "# Esse segundo parâmetro é para ler a imagem em escala de cinza\n",
    "\n",
    "cv2.imshow(\"Rintin\", rintin_gray)\n",
    "cv2.waitKey()\n",
    "cv2.destroyAllWindows()"
   ]
  },
  {
   "cell_type": "markdown",
   "id": "available-senior",
   "metadata": {},
   "source": [
    "As funções do Numpy que já eram usadas com arrays 1D continuam funcionando:"
   ]
  },
  {
   "cell_type": "code",
   "execution_count": 14,
   "id": "numerous-individual",
   "metadata": {},
   "outputs": [
    {
     "name": "stdout",
     "output_type": "stream",
     "text": [
      "Minimo:  7\n",
      "Maximo:  57\n",
      "Media:  33.6369174495408\n"
     ]
    }
   ],
   "source": [
    "minimo = np.min(rintin_gray)\n",
    "maximo = np.max(rintin_gray)\n",
    "media = np.mean(rintin_gray)\n",
    "\n",
    "print(\"Minimo: \", minimo)\n",
    "print(\"Maximo: \", maximo)\n",
    "print(\"Media: \", media)"
   ]
  },
  {
   "cell_type": "markdown",
   "id": "b7615563",
   "metadata": {},
   "source": [
    "## 3. Operações Condicionais\n",
    "\n",
    "O Numpy permite fazer operações condicionais em arrays (imagens).\n",
    "\n",
    "Por exemplo, podemos fazer uma operação que retorna torna todos os pixels maiores que a média sejam convertivos para 255 e os menores que a média para 0.\n",
    "\n",
    "**Pergunta:** Como vai ficar a imagem resultante?"
   ]
  },
  {
   "cell_type": "code",
   "execution_count": 16,
   "id": "cb53406b",
   "metadata": {},
   "outputs": [],
   "source": [
    "# ```python\n",
    "codicionado = rintin_gray.copy()\n",
    "codicionado[codicionado < media] = 0\n",
    "codicionado[codicionado >= media] = 255\n",
    "\n",
    "cv2.imshow(\"Rintin\", rintin_gray)\n",
    "cv2.imshow(\"Condicionado\", codicionado)\n",
    "cv2.waitKey()\n",
    "cv2.destroyAllWindows()\n",
    "# ```python"
   ]
  },
  {
   "cell_type": "markdown",
   "id": "493ec631",
   "metadata": {},
   "source": [
    "## 4. Area\n",
    "\n",
    "Após a condição, a imagem resultante é binária, ou seja, só tem dois valores: 0 e 255. Podemos usar isso para calcular a área da parte branca da imagem."
   ]
  },
  {
   "cell_type": "code",
   "execution_count": 17,
   "id": "424e4717",
   "metadata": {},
   "outputs": [
    {
     "name": "stdout",
     "output_type": "stream",
     "text": [
      "Area:  11921505\n",
      "Shape:  (239, 318)\n"
     ]
    }
   ],
   "source": [
    "area = np.sum(codicionado)\n",
    "print(\"Area: \", area)\n",
    "print(\"Shape: \", codicionado.shape)"
   ]
  },
  {
   "cell_type": "markdown",
   "id": "2597595c",
   "metadata": {},
   "source": [
    "##  Prática 4.3\n",
    "**Exercício 4.3.1**: No exemplo anterior, a area da parte resultante foi de `11921505` pixels brancos, mas a imagem original tem `239 x 318 = 76002` pixels. \n",
    "\n",
    "Entenda por que a área resultante é maior que a área original e ajuste o problema, mostranda a área correta."
   ]
  },
  {
   "cell_type": "code",
   "execution_count": null,
   "id": "8e2d9bbe",
   "metadata": {},
   "outputs": [],
   "source": [
    "# # Desenvolva o código aqui # #"
   ]
  },
  {
   "cell_type": "markdown",
   "id": "f28d3b6e",
   "metadata": {},
   "source": [
    "**Exercício 4.3.1**: Baixe uma imagem colorida da internet. Carregue a imagem com o OpenCV, converta para tons de cinza, e faça com que os pixels  maiores ou iguais a 128 fiquem brancos, enquanto os demais fiquem pretos. "
   ]
  },
  {
   "cell_type": "code",
   "execution_count": null,
   "id": "776066b3",
   "metadata": {},
   "outputs": [],
   "source": [
    "# # Desenvolva o código aqui # #"
   ]
  }
 ],
 "metadata": {
  "kernelspec": {
   "display_name": "Python 3 (ipykernel)",
   "language": "python",
   "name": "python3"
  },
  "language_info": {
   "codemirror_mode": {
    "name": "ipython",
    "version": 3
   },
   "file_extension": ".py",
   "mimetype": "text/x-python",
   "name": "python",
   "nbconvert_exporter": "python",
   "pygments_lexer": "ipython3",
   "version": "3.8.12"
  }
 },
 "nbformat": 4,
 "nbformat_minor": 5
}
