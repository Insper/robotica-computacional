{
 "cells": [
  {
   "cell_type": "markdown",
   "metadata": {},
   "source": [
    "# Segmentação de Imagens Parte 2"
   ]
  },
  {
   "cell_type": "code",
   "execution_count": 14,
   "metadata": {},
   "outputs": [],
   "source": [
    "import cv2\n",
    "import numpy as np"
   ]
  },
  {
   "cell_type": "markdown",
   "metadata": {},
   "source": [
    "## 1. Segmentação de imagens preto e branco\n",
    "\n",
    "A função `cv2.inRange` realiza a operação de limiarização. Veja [na documentação do OpenCV](https://docs.opencv.org/3.4/da/d97/tutorial_threshold_inRange.html) mais detalhes sobre ela.\n",
    "\n",
    "Para o caso de imagens preto e branco, a função `cv2.inRange` recebe como parâmetros a imagem de entrada, o **valor mínimo** e o **valor máximo** do intervalo de valores que serão considerados para a limiarização. \n",
    "\n",
    "O resultado da função é uma imagem binária, onde os pixels que estão dentro do intervalo são brancos e os pixels que estão fora do intervalo são pretos.\n",
    "\n",
    "Isso pode ser observado no exemplo abaixo."
   ]
  },
  {
   "cell_type": "code",
   "execution_count": 15,
   "metadata": {},
   "outputs": [],
   "source": [
    "rintin = cv2.imread('img/RinTinTin.jpg', cv2.IMREAD_GRAYSCALE)\n",
    "mask = cv2.inRange(rintin, 0, 30)\n",
    "cv2.imshow(\"rintin\", rintin)\n",
    "cv2.imshow(\"mask\", mask)\n",
    "cv2.waitKey()\n",
    "cv2.destroyAllWindows()"
   ]
  },
  {
   "cell_type": "markdown",
   "metadata": {},
   "source": [
    "# 2. Segmentação de imagens coloridas\n",
    "## 2.1 Detecção de cores com HSV"
   ]
  },
  {
   "cell_type": "markdown",
   "metadata": {},
   "source": [
    "Para imagens coloridas, o mais comum é trabalhar no espaço de cores **HSV - Hue, Saturation, Value**, onde o canal H (matiz) indica o valor da cor dentro dos círculos de cores básicas. \n",
    "\n",
    "No OpenCV, o canal Hue é representado através da metade do ângulo em graus no círculo de cores. Assim os valores variam de 0 a 180, o que cabe numa representação de 8 bits.\n",
    "\n",
    "![](https://upload.wikimedia.org/wikipedia/commons/8/8f/HSV_cylinder.jpg)\n",
    "\n",
    "A imagem abaixo mostra claramente como o canal H varia de acordo com a cor, seguindo o círculo de cores.\n",
    "\n",
    "![](img/hsv_circle.png)\n",
    "**Fonte**: [Wikipedia](https://upload.wikimedia.org/wikipedia/commons/8/8f/HSV_cylinder.jpg) \n",
    "\n",
    "!!! note \"IMPORTANTE\"\n",
    "    * O espaço de cores HSV é mais adequado para a detecção de cores em imagens, pois ele separa a informação de cor (H) da informação de luminosidade (V) e de saturação (S). Isso permite que a detecção de cores seja mais robusta a variações de iluminação.\n",
    "\n",
    "    * No circulo acima, lembre-se de dividir o valor 'H' por '2' no momento que estiver determinando seu filtro na OpenCV.\n",
    "\n",
    "    * `S` e `V` são valores percentuais de 0% até 100%, lembre-se de converter para valores de 0 - 255 no momento que estiver determinando seu filtro na OpenCV.\n"
   ]
  },
  {
   "cell_type": "code",
   "execution_count": 18,
   "metadata": {},
   "outputs": [],
   "source": [
    "img_color = cv2.imread(\"img/hall_box_battery1.jpg\")\n",
    "img_color = cv2.resize(img_color, (0, 0), fx=0.5, fy=0.5) # reduz a imagem para metade do tamanho\n",
    "\n",
    "img_hsv = cv2.cvtColor(img_color, cv2.COLOR_BGR2HSV)\n",
    "cv2.imshow(\"img\", img_color)\n",
    "cv2.imshow(\"hsv\", img_hsv)\n",
    "cv2.waitKey()\n",
    "cv2.destroyAllWindows()"
   ]
  },
  {
   "cell_type": "markdown",
   "metadata": {},
   "source": [
    "**Pergunta:** O que aconteceu com a imagem em HSV? Por que as cores ficaram \"estranhas\"?"
   ]
  },
  {
   "cell_type": "code",
   "execution_count": 19,
   "metadata": {},
   "outputs": [],
   "source": [
    "low = np.array([0, 50, 50])\n",
    "high = np.array([10, 255, 255])\n",
    "mask = cv2.inRange(img_hsv, low, high)\n",
    "\n",
    "selecao = cv2.bitwise_and(img_color, img_color, mask=mask)\n",
    "\n",
    "cv2.imshow(\"mask\", mask)\n",
    "cv2.imshow(\"selecao\", selecao)\n",
    "cv2.waitKey()\n",
    "cv2.destroyAllWindows()"
   ]
  },
  {
   "cell_type": "markdown",
   "metadata": {},
   "source": [
    "No exemplo acima, utilizamos novamente a função `cv2.inRange()` para criar uma máscara que seleciona apenas os pixels que pertencem a caixa vermelha.\n",
    "\n",
    "Depois, utilizando a operação `AND` da OpenCV, aplicamos a máscara na imagem original, para que apenas os pixels que pertencem à caixa vermelha sejam exibidos.\n",
    "\n",
    "\n",
    "### Mas como os valores de HSV foram escolhidos?\n",
    "\n",
    "\n",
    "Para o valor de H, pelo círculo HSV acima, podemos ver que o vermelho está entre 0 e 30, e entre 150 e 180, para essa imagem, escolhemos o intervalo entre 0 e 10.\n",
    "\n",
    "No caso dos valores de `Saturation` e `Value``, escolhemos o intervalo entre 50 e 255, pois queremos que a cor seja bem saturada e brilhante, como podemos observar no retângulo HSV acima."
   ]
  },
  {
   "cell_type": "markdown",
   "metadata": {},
   "source": [
    "# Prática\n",
    "\n",
    "**Exercício 1**: Na imagem da caixa acima, `img/hall_box_battery1.jpg`, converta a imagem para HSV e filtre o rodapé branco da parede. Mostre a imagem com apenas o rodapé branco."
   ]
  },
  {
   "cell_type": "code",
   "execution_count": null,
   "metadata": {},
   "outputs": [],
   "source": []
  },
  {
   "cell_type": "markdown",
   "metadata": {},
   "source": [
    "**Exercício 2**: Faça o mesmo que o exercício anterior, mas agora converta a imagem para tons de cinza. Foi mais fácil encontrar os limiares? Por quê?\n",
    "\n",
    "<p>\n",
    "<details>\n",
    "<summary>Resposta</summary>\n",
    "\n",
    "<pre><code>O processo de converter imagens para tons de cinza e então fazer a segmentação é muito util quando queremos remover fundos brancos, por exemplo.</code></pre>\n",
    "\n",
    "</details>\n",
    "</p>"
   ]
  },
  {
   "cell_type": "code",
   "execution_count": null,
   "metadata": {},
   "outputs": [],
   "source": []
  },
  {
   "cell_type": "markdown",
   "metadata": {},
   "source": [
    "**Exercício 3**: Carregue novamente a imagem [cores.jpg](img/cores.jpg) e repita as duas práticas da atividade anterior. Relembrando:\n",
    "\n",
    "1. Filtrar a faixa **amarela** da imagem.\n",
    "\n",
    "2. Filtrar as faixas **roxa** e a faixa **rosa** da imagem."
   ]
  },
  {
   "cell_type": "code",
   "execution_count": null,
   "metadata": {},
   "outputs": [],
   "source": []
  }
 ],
 "metadata": {
  "kernelspec": {
   "display_name": "Python 3 (ipykernel)",
   "language": "python",
   "name": "python3"
  },
  "language_info": {
   "codemirror_mode": {
    "name": "ipython",
    "version": 3
   },
   "file_extension": ".py",
   "mimetype": "text/x-python",
   "name": "python",
   "nbconvert_exporter": "python",
   "pygments_lexer": "ipython3",
   "version": "3.8.12"
  },
  "vscode": {
   "interpreter": {
    "hash": "c3c1f728f6e08f7614d1cfcb40e5781c6629666b9d5e299f711ab38d3998c7b7"
   }
  }
 },
 "nbformat": 4,
 "nbformat_minor": 4
}
